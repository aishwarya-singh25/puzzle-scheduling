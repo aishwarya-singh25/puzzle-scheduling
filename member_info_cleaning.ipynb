{
 "cells": [
  {
   "cell_type": "code",
   "execution_count": 2,
   "id": "82df84f5-2b13-4da1-b7a4-42186495dc7a",
   "metadata": {},
   "outputs": [],
   "source": [
    "import pandas as pd\n",
    "import matplotlib.pyplot as plt\n",
    "import numpy"
   ]
  },
  {
   "cell_type": "code",
   "execution_count": 3,
   "id": "acf925af-cdbe-40e5-be9e-e239f94d1dc0",
   "metadata": {},
   "outputs": [],
   "source": [
    "member_raw = pd.read_csv(r'data/member_hold_times_and_packs.tsv', sep='\\t', header=None, names=[\"member\", 'hold_time', 'pack_name'])"
   ]
  },
  {
   "cell_type": "code",
   "execution_count": 4,
   "id": "a8cf35db-9f8f-4624-9b90-88c4e4e50468",
   "metadata": {},
   "outputs": [
    {
     "data": {
      "text/html": [
       "<div>\n",
       "<style scoped>\n",
       "    .dataframe tbody tr th:only-of-type {\n",
       "        vertical-align: middle;\n",
       "    }\n",
       "\n",
       "    .dataframe tbody tr th {\n",
       "        vertical-align: top;\n",
       "    }\n",
       "\n",
       "    .dataframe thead th {\n",
       "        text-align: right;\n",
       "    }\n",
       "</style>\n",
       "<table border=\"1\" class=\"dataframe\">\n",
       "  <thead>\n",
       "    <tr style=\"text-align: right;\">\n",
       "      <th></th>\n",
       "      <th>member</th>\n",
       "      <th>hold_time</th>\n",
       "      <th>pack_name</th>\n",
       "    </tr>\n",
       "  </thead>\n",
       "  <tbody>\n",
       "    <tr>\n",
       "      <th>0</th>\n",
       "      <td>member1</td>\n",
       "      <td>2.939411</td>\n",
       "      <td>Artifact Puzzles Justin Hillgrove Word Travels...</td>\n",
       "    </tr>\n",
       "    <tr>\n",
       "      <th>1</th>\n",
       "      <td>member1</td>\n",
       "      <td>0.998885</td>\n",
       "      <td>DaVici Puzzles Full Moon Feast DaVici Puzzles ...</td>\n",
       "    </tr>\n",
       "    <tr>\n",
       "      <th>2</th>\n",
       "      <td>member1</td>\n",
       "      <td>10.865032</td>\n",
       "      <td>DaVici Puzzles Flying Frigate DaVici Puzzles H...</td>\n",
       "    </tr>\n",
       "    <tr>\n",
       "      <th>3</th>\n",
       "      <td>member1</td>\n",
       "      <td>22.083971</td>\n",
       "      <td>Liberty Puzzles Haeckel Hummingbirds Nautilus ...</td>\n",
       "    </tr>\n",
       "    <tr>\n",
       "      <th>4</th>\n",
       "      <td>member1</td>\n",
       "      <td>5.077603</td>\n",
       "      <td>DaVici Puzzles Diana Zimens City Of Cats</td>\n",
       "    </tr>\n",
       "  </tbody>\n",
       "</table>\n",
       "</div>"
      ],
      "text/plain": [
       "    member  hold_time                                          pack_name\n",
       "0  member1   2.939411  Artifact Puzzles Justin Hillgrove Word Travels...\n",
       "1  member1   0.998885  DaVici Puzzles Full Moon Feast DaVici Puzzles ...\n",
       "2  member1  10.865032  DaVici Puzzles Flying Frigate DaVici Puzzles H...\n",
       "3  member1  22.083971  Liberty Puzzles Haeckel Hummingbirds Nautilus ...\n",
       "4  member1   5.077603          DaVici Puzzles Diana Zimens City Of Cats "
      ]
     },
     "execution_count": 4,
     "metadata": {},
     "output_type": "execute_result"
    }
   ],
   "source": [
    "member_raw.head()"
   ]
  },
  {
   "cell_type": "code",
   "execution_count": 5,
   "id": "55aabaf1-0002-45d0-b43c-95338c50fbcc",
   "metadata": {},
   "outputs": [
    {
     "data": {
      "text/html": [
       "<div>\n",
       "<style scoped>\n",
       "    .dataframe tbody tr th:only-of-type {\n",
       "        vertical-align: middle;\n",
       "    }\n",
       "\n",
       "    .dataframe tbody tr th {\n",
       "        vertical-align: top;\n",
       "    }\n",
       "\n",
       "    .dataframe thead th {\n",
       "        text-align: right;\n",
       "    }\n",
       "</style>\n",
       "<table border=\"1\" class=\"dataframe\">\n",
       "  <thead>\n",
       "    <tr style=\"text-align: right;\">\n",
       "      <th></th>\n",
       "      <th>member</th>\n",
       "      <th>hold_time</th>\n",
       "      <th>pack_name</th>\n",
       "    </tr>\n",
       "  </thead>\n",
       "  <tbody>\n",
       "  </tbody>\n",
       "</table>\n",
       "</div>"
      ],
      "text/plain": [
       "Empty DataFrame\n",
       "Columns: [member, hold_time, pack_name]\n",
       "Index: []"
      ]
     },
     "execution_count": 5,
     "metadata": {},
     "output_type": "execute_result"
    }
   ],
   "source": [
    "member_raw[member_raw['pack_name'].isna()]"
   ]
  },
  {
   "cell_type": "markdown",
   "id": "2c1c93c5-f4e3-47ce-9506-28dc3f6a5134",
   "metadata": {},
   "source": [
    "## Remove outliers\n",
    "\n",
    "Hold times of < 0.1 are an artifact of their DB def wrong\n",
    "\n",
    "Hold times > 200 days could be real but are probably noise, leaving for now should remove before use probably"
   ]
  },
  {
   "cell_type": "code",
   "execution_count": 6,
   "id": "7db533a3-18a8-46e4-b25a-c01a6cd7a804",
   "metadata": {},
   "outputs": [
    {
     "data": {
      "text/plain": [
       "member        object\n",
       "hold_time    float64\n",
       "pack_name     object\n",
       "dtype: object"
      ]
     },
     "execution_count": 6,
     "metadata": {},
     "output_type": "execute_result"
    }
   ],
   "source": [
    "member_raw.dtypes"
   ]
  },
  {
   "cell_type": "code",
   "execution_count": 7,
   "id": "32b42019-8607-4068-bbf5-b87f3c008674",
   "metadata": {},
   "outputs": [
    {
     "data": {
      "text/plain": [
       "100"
      ]
     },
     "execution_count": 7,
     "metadata": {},
     "output_type": "execute_result"
    }
   ],
   "source": [
    "len(member_raw[member_raw.hold_time < 0.1])"
   ]
  },
  {
   "cell_type": "code",
   "execution_count": 8,
   "id": "fd20dae6-ef49-4d2b-9349-0598a77c71eb",
   "metadata": {},
   "outputs": [
    {
     "data": {
      "text/plain": [
       "18141"
      ]
     },
     "execution_count": 8,
     "metadata": {},
     "output_type": "execute_result"
    }
   ],
   "source": [
    "len(member_raw)"
   ]
  },
  {
   "cell_type": "code",
   "execution_count": 9,
   "id": "c072b6d6-89b8-4470-845d-5aa9ef00a059",
   "metadata": {},
   "outputs": [
    {
     "name": "stdout",
     "output_type": "stream",
     "text": [
      "<class 'pandas.core.frame.DataFrame'>\n",
      "Int64Index: 17835 entries, 0 to 18140\n",
      "Data columns (total 3 columns):\n",
      " #   Column     Non-Null Count  Dtype  \n",
      "---  ------     --------------  -----  \n",
      " 0   member     17835 non-null  object \n",
      " 1   hold_time  17835 non-null  float64\n",
      " 2   pack_name  17835 non-null  object \n",
      "dtypes: float64(1), object(2)\n",
      "memory usage: 557.3+ KB\n"
     ]
    }
   ],
   "source": [
    "member = member_raw[(member_raw.hold_time >= 0.1) & (member_raw.hold_time <= 150)]\n",
    "member.info()"
   ]
  },
  {
   "cell_type": "code",
   "execution_count": 10,
   "id": "79e42fed-27fb-4526-9b55-f727299951e3",
   "metadata": {},
   "outputs": [],
   "source": [
    "member.to_csv(r'data/member_clean.csv')"
   ]
  },
  {
   "cell_type": "markdown",
   "id": "aaab5ef0-58d5-4f02-bb67-210fb276087a",
   "metadata": {},
   "source": [
    "Thoughts:\n",
    "\n",
    "Without the dates the members got the packs we can only rely on the overall dist of the users behavior and lose context\n",
    "\n",
    "Signal such as seasonality and trends in user behavior are lost\n",
    "\n",
    "We also can't forcast \"number of packs in N days\" with this info which was our initial question def.\n",
    "\n",
    "From this info we can at best predict \"expected hold time for user X and pack Y\""
   ]
  },
  {
   "cell_type": "code",
   "execution_count": null,
   "id": "4007ca57-de6f-49e6-8c9f-7d6377ae778f",
   "metadata": {},
   "outputs": [],
   "source": []
  }
 ],
 "metadata": {
  "kernelspec": {
   "display_name": "Python 3 (ipykernel)",
   "language": "python",
   "name": "python3"
  },
  "language_info": {
   "codemirror_mode": {
    "name": "ipython",
    "version": 3
   },
   "file_extension": ".py",
   "mimetype": "text/x-python",
   "name": "python",
   "nbconvert_exporter": "python",
   "pygments_lexer": "ipython3",
   "version": "3.10.8"
  }
 },
 "nbformat": 4,
 "nbformat_minor": 5
}
