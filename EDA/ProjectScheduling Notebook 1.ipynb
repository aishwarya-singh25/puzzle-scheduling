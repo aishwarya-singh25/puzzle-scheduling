{
 "cells": [
  {
   "cell_type": "markdown",
   "id": "9469bb4f",
   "metadata": {},
   "source": [
    "## Importing Libraries and Dataset"
   ]
  },
  {
   "cell_type": "code",
   "execution_count": 1,
   "id": "acba7993",
   "metadata": {},
   "outputs": [],
   "source": [
    "import pandas as pd\n",
    "import numpy as np\n",
    "import matplotlib.pyplot as plt\n",
    "import seaborn as sns"
   ]
  },
  {
   "cell_type": "markdown",
   "id": "c682bead",
   "metadata": {},
   "source": [
    "**1. member_hold_times_and_packs.tsv**\n",
    "* memberID - Unique identifiers for each person\n",
    "* holdtime - number of days the person had the pack\n",
    "* puzzlepack - name of the pack (may have more than 1 puzzle per pack)"
   ]
  },
  {
   "cell_type": "code",
   "execution_count": 2,
   "id": "ea5ff3c9",
   "metadata": {},
   "outputs": [
    {
     "data": {
      "text/plain": [
       "(18141, 3)"
      ]
     },
     "execution_count": 2,
     "metadata": {},
     "output_type": "execute_result"
    }
   ],
   "source": [
    "# loading first data about member hold times \n",
    "# dataset has 1.9 mb size on disk\n",
    "member_holdtime_df = pd.read_csv('member_hold_times_and_packs.tsv', sep='\\t', header=None)\n",
    "member_holdtime_df.shape"
   ]
  },
  {
   "cell_type": "code",
   "execution_count": 3,
   "id": "58c61e71",
   "metadata": {},
   "outputs": [
    {
     "data": {
      "text/html": [
       "<div>\n",
       "<style scoped>\n",
       "    .dataframe tbody tr th:only-of-type {\n",
       "        vertical-align: middle;\n",
       "    }\n",
       "\n",
       "    .dataframe tbody tr th {\n",
       "        vertical-align: top;\n",
       "    }\n",
       "\n",
       "    .dataframe thead th {\n",
       "        text-align: right;\n",
       "    }\n",
       "</style>\n",
       "<table border=\"1\" class=\"dataframe\">\n",
       "  <thead>\n",
       "    <tr style=\"text-align: right;\">\n",
       "      <th></th>\n",
       "      <th>memberID</th>\n",
       "      <th>holdtime</th>\n",
       "      <th>puzzlepack</th>\n",
       "    </tr>\n",
       "  </thead>\n",
       "  <tbody>\n",
       "    <tr>\n",
       "      <th>0</th>\n",
       "      <td>member1</td>\n",
       "      <td>2.939411</td>\n",
       "      <td>Artifact Puzzles Justin Hillgrove Word Travels...</td>\n",
       "    </tr>\n",
       "    <tr>\n",
       "      <th>1</th>\n",
       "      <td>member1</td>\n",
       "      <td>0.998885</td>\n",
       "      <td>DaVici Puzzles Full Moon Feast DaVici Puzzles ...</td>\n",
       "    </tr>\n",
       "    <tr>\n",
       "      <th>2</th>\n",
       "      <td>member1</td>\n",
       "      <td>10.865032</td>\n",
       "      <td>DaVici Puzzles Flying Frigate DaVici Puzzles H...</td>\n",
       "    </tr>\n",
       "    <tr>\n",
       "      <th>3</th>\n",
       "      <td>member1</td>\n",
       "      <td>22.083971</td>\n",
       "      <td>Liberty Puzzles Haeckel Hummingbirds Nautilus ...</td>\n",
       "    </tr>\n",
       "    <tr>\n",
       "      <th>4</th>\n",
       "      <td>member1</td>\n",
       "      <td>5.077603</td>\n",
       "      <td>DaVici Puzzles Diana Zimens City Of Cats</td>\n",
       "    </tr>\n",
       "  </tbody>\n",
       "</table>\n",
       "</div>"
      ],
      "text/plain": [
       "  memberID   holdtime                                         puzzlepack\n",
       "0  member1   2.939411  Artifact Puzzles Justin Hillgrove Word Travels...\n",
       "1  member1   0.998885  DaVici Puzzles Full Moon Feast DaVici Puzzles ...\n",
       "2  member1  10.865032  DaVici Puzzles Flying Frigate DaVici Puzzles H...\n",
       "3  member1  22.083971  Liberty Puzzles Haeckel Hummingbirds Nautilus ...\n",
       "4  member1   5.077603          DaVici Puzzles Diana Zimens City Of Cats "
      ]
     },
     "execution_count": 3,
     "metadata": {},
     "output_type": "execute_result"
    }
   ],
   "source": [
    "member_holdtime_df.columns = ['memberID', 'holdtime', 'puzzlepack']\n",
    "member_holdtime_df.head()"
   ]
  },
  {
   "cell_type": "markdown",
   "id": "8ab471c6",
   "metadata": {},
   "source": [
    "**2. packs.tsv**\n",
    "* memberID - Unique identifiers for each person\n",
    "* holdtime - number of days the person had the pack\n",
    "* puzzlepack - name of the pack (may have more than 1 puzzle per pack)"
   ]
  },
  {
   "cell_type": "code",
   "execution_count": 4,
   "id": "4ad1c70a",
   "metadata": {},
   "outputs": [
    {
     "data": {
      "text/plain": [
       "(909, 4)"
      ]
     },
     "execution_count": 4,
     "metadata": {},
     "output_type": "execute_result"
    }
   ],
   "source": [
    "# loading second data about puzzle packs\n",
    "# dataset has 98kb size on disk\n",
    "packs_df = pd.read_csv('packs.tsv', sep='\\t', header=None)\n",
    "packs_df.shape"
   ]
  },
  {
   "cell_type": "code",
   "execution_count": 5,
   "id": "0779c3ce",
   "metadata": {},
   "outputs": [
    {
     "data": {
      "text/html": [
       "<div>\n",
       "<style scoped>\n",
       "    .dataframe tbody tr th:only-of-type {\n",
       "        vertical-align: middle;\n",
       "    }\n",
       "\n",
       "    .dataframe tbody tr th {\n",
       "        vertical-align: top;\n",
       "    }\n",
       "\n",
       "    .dataframe thead th {\n",
       "        text-align: right;\n",
       "    }\n",
       "</style>\n",
       "<table border=\"1\" class=\"dataframe\">\n",
       "  <thead>\n",
       "    <tr style=\"text-align: right;\">\n",
       "      <th></th>\n",
       "      <th>pack_name</th>\n",
       "      <th>brand</th>\n",
       "      <th>piece_count</th>\n",
       "      <th>difficulty_rating</th>\n",
       "    </tr>\n",
       "  </thead>\n",
       "  <tbody>\n",
       "    <tr>\n",
       "      <th>0</th>\n",
       "      <td>Anne Belle Thompson The Mikado Anne Belle Thom...</td>\n",
       "      <td>Other-Hand-cut</td>\n",
       "      <td>387,242</td>\n",
       "      <td>Average,Average</td>\n",
       "    </tr>\n",
       "    <tr>\n",
       "      <th>1</th>\n",
       "      <td>Anthology Puzzles Alphonse Mucha La Plume Anth...</td>\n",
       "      <td>NaN</td>\n",
       "      <td>320,160</td>\n",
       "      <td>Average,Average</td>\n",
       "    </tr>\n",
       "    <tr>\n",
       "      <th>2</th>\n",
       "      <td>Anthology Puzzles Colorful Cat Anthology Puzzl...</td>\n",
       "      <td>NaN</td>\n",
       "      <td>150,170</td>\n",
       "      <td>Average,Average</td>\n",
       "    </tr>\n",
       "    <tr>\n",
       "      <th>3</th>\n",
       "      <td>Anthology Puzzles Framed American Gothic Antho...</td>\n",
       "      <td>NaN</td>\n",
       "      <td>320,300</td>\n",
       "      <td>Average,Average</td>\n",
       "    </tr>\n",
       "    <tr>\n",
       "      <th>4</th>\n",
       "      <td>Anthology Puzzles Over The Moon Anthology Puzz...</td>\n",
       "      <td>NaN</td>\n",
       "      <td>278,177</td>\n",
       "      <td>Hard,A-Easy</td>\n",
       "    </tr>\n",
       "  </tbody>\n",
       "</table>\n",
       "</div>"
      ],
      "text/plain": [
       "                                           pack_name           brand  \\\n",
       "0  Anne Belle Thompson The Mikado Anne Belle Thom...  Other-Hand-cut   \n",
       "1  Anthology Puzzles Alphonse Mucha La Plume Anth...             NaN   \n",
       "2  Anthology Puzzles Colorful Cat Anthology Puzzl...             NaN   \n",
       "3  Anthology Puzzles Framed American Gothic Antho...             NaN   \n",
       "4  Anthology Puzzles Over The Moon Anthology Puzz...             NaN   \n",
       "\n",
       "  piece_count difficulty_rating  \n",
       "0     387,242   Average,Average  \n",
       "1     320,160   Average,Average  \n",
       "2     150,170   Average,Average  \n",
       "3     320,300   Average,Average  \n",
       "4     278,177       Hard,A-Easy  "
      ]
     },
     "execution_count": 5,
     "metadata": {},
     "output_type": "execute_result"
    }
   ],
   "source": [
    "packs_df.columns = ['pack_name', 'brand', 'piece_count', 'difficulty_rating']\n",
    "packs_df.head()"
   ]
  },
  {
   "cell_type": "markdown",
   "id": "4f062da2",
   "metadata": {},
   "source": [
    "## Basic Data Cleaning"
   ]
  },
  {
   "cell_type": "markdown",
   "id": "3e320531",
   "metadata": {},
   "source": [
    "**1. member_hold_times_and_packs.tsv**\n",
    "* memberID - Unique identifiers for each person\n",
    "* holdtime - number of days the person had the pack\n",
    "* puzzlepack - name of the pack (may have more than 1 puzzle per pack)"
   ]
  },
  {
   "cell_type": "code",
   "execution_count": 6,
   "id": "f2071168",
   "metadata": {},
   "outputs": [
    {
     "data": {
      "text/plain": [
       "memberID      0\n",
       "holdtime      0\n",
       "puzzlepack    0\n",
       "dtype: int64"
      ]
     },
     "execution_count": 6,
     "metadata": {},
     "output_type": "execute_result"
    }
   ],
   "source": [
    "member_holdtime_df.isnull().sum()"
   ]
  },
  {
   "cell_type": "code",
   "execution_count": 7,
   "id": "fb2a844f",
   "metadata": {},
   "outputs": [
    {
     "data": {
      "text/plain": [
       "memberID        675\n",
       "holdtime      17963\n",
       "puzzlepack      910\n",
       "dtype: int64"
      ]
     },
     "execution_count": 7,
     "metadata": {},
     "output_type": "execute_result"
    }
   ],
   "source": [
    "member_holdtime_df.nunique()"
   ]
  },
  {
   "cell_type": "markdown",
   "id": "fc60b067",
   "metadata": {},
   "source": [
    "**Comments:**\n",
    "- No missing values in the data\n",
    "- We have information about 675 members and 910 unique puzzle packs"
   ]
  },
  {
   "cell_type": "code",
   "execution_count": 8,
   "id": "bcd3e147",
   "metadata": {},
   "outputs": [],
   "source": [
    "pd.options.display.max_colwidth = 200"
   ]
  },
  {
   "cell_type": "code",
   "execution_count": 9,
   "id": "d37359fb",
   "metadata": {},
   "outputs": [],
   "source": [
    "num_puzzles = []\n",
    "brand = []\n",
    "for i in member_holdtime_df.index:\n",
    "    puzzlepack = member_holdtime_df['puzzlepack'][i]\n",
    "    puzzlepack_split = puzzlepack.split(' Puzzles ')\n",
    "    num_puzzles.append(len(puzzlepack_split) - 1)\n",
    "    brand.append(puzzlepack_split[0])"
   ]
  },
  {
   "cell_type": "code",
   "execution_count": 10,
   "id": "b4b994b5",
   "metadata": {},
   "outputs": [],
   "source": [
    "member_holdtime_df['num_puzzles'] = num_puzzles\n",
    "member_holdtime_df['brand'] = brand"
   ]
  },
  {
   "cell_type": "code",
   "execution_count": 11,
   "id": "8d7ecea6",
   "metadata": {},
   "outputs": [
    {
     "data": {
      "text/html": [
       "<div>\n",
       "<style scoped>\n",
       "    .dataframe tbody tr th:only-of-type {\n",
       "        vertical-align: middle;\n",
       "    }\n",
       "\n",
       "    .dataframe tbody tr th {\n",
       "        vertical-align: top;\n",
       "    }\n",
       "\n",
       "    .dataframe thead th {\n",
       "        text-align: right;\n",
       "    }\n",
       "</style>\n",
       "<table border=\"1\" class=\"dataframe\">\n",
       "  <thead>\n",
       "    <tr style=\"text-align: right;\">\n",
       "      <th></th>\n",
       "      <th>memberID</th>\n",
       "      <th>holdtime</th>\n",
       "      <th>puzzlepack</th>\n",
       "      <th>num_puzzles</th>\n",
       "      <th>brand</th>\n",
       "    </tr>\n",
       "  </thead>\n",
       "  <tbody>\n",
       "    <tr>\n",
       "      <th>0</th>\n",
       "      <td>member1</td>\n",
       "      <td>2.939411</td>\n",
       "      <td>Artifact Puzzles Justin Hillgrove Word Travels South Artifact Puzzles Justin Hillgrove Word Travels West</td>\n",
       "      <td>2</td>\n",
       "      <td>Artifact</td>\n",
       "    </tr>\n",
       "    <tr>\n",
       "      <th>1</th>\n",
       "      <td>member1</td>\n",
       "      <td>0.998885</td>\n",
       "      <td>DaVici Puzzles Full Moon Feast DaVici Puzzles World&amp;#39;s Greatest Miracle</td>\n",
       "      <td>2</td>\n",
       "      <td>DaVici</td>\n",
       "    </tr>\n",
       "    <tr>\n",
       "      <th>2</th>\n",
       "      <td>member1</td>\n",
       "      <td>10.865032</td>\n",
       "      <td>DaVici Puzzles Flying Frigate DaVici Puzzles Hobby Horse</td>\n",
       "      <td>2</td>\n",
       "      <td>DaVici</td>\n",
       "    </tr>\n",
       "    <tr>\n",
       "      <th>3</th>\n",
       "      <td>member1</td>\n",
       "      <td>22.083971</td>\n",
       "      <td>Liberty Puzzles Haeckel Hummingbirds Nautilus Puzzles Mother Adams</td>\n",
       "      <td>2</td>\n",
       "      <td>Liberty</td>\n",
       "    </tr>\n",
       "    <tr>\n",
       "      <th>4</th>\n",
       "      <td>member1</td>\n",
       "      <td>5.077603</td>\n",
       "      <td>DaVici Puzzles Diana Zimens City Of Cats</td>\n",
       "      <td>1</td>\n",
       "      <td>DaVici</td>\n",
       "    </tr>\n",
       "  </tbody>\n",
       "</table>\n",
       "</div>"
      ],
      "text/plain": [
       "  memberID   holdtime  \\\n",
       "0  member1   2.939411   \n",
       "1  member1   0.998885   \n",
       "2  member1  10.865032   \n",
       "3  member1  22.083971   \n",
       "4  member1   5.077603   \n",
       "\n",
       "                                                                                                 puzzlepack  \\\n",
       "0  Artifact Puzzles Justin Hillgrove Word Travels South Artifact Puzzles Justin Hillgrove Word Travels West   \n",
       "1                                DaVici Puzzles Full Moon Feast DaVici Puzzles World&#39;s Greatest Miracle   \n",
       "2                                                  DaVici Puzzles Flying Frigate DaVici Puzzles Hobby Horse   \n",
       "3                                        Liberty Puzzles Haeckel Hummingbirds Nautilus Puzzles Mother Adams   \n",
       "4                                                                 DaVici Puzzles Diana Zimens City Of Cats    \n",
       "\n",
       "   num_puzzles     brand  \n",
       "0            2  Artifact  \n",
       "1            2    DaVici  \n",
       "2            2    DaVici  \n",
       "3            2   Liberty  \n",
       "4            1    DaVici  "
      ]
     },
     "execution_count": 11,
     "metadata": {},
     "output_type": "execute_result"
    }
   ],
   "source": [
    "member_holdtime_df.head()"
   ]
  },
  {
   "cell_type": "code",
   "execution_count": 12,
   "id": "b9717e36",
   "metadata": {},
   "outputs": [
    {
     "data": {
      "image/png": "[encoded data removed]",
      "text/plain": [
       "<Figure size 576x432 with 1 Axes>"
      ]
     },
     "metadata": {
      "needs_background": "light"
     },
     "output_type": "display_data"
    }
   ],
   "source": [
    "# what is the distribution of the hold times\n",
    "plt.figure(figsize=(8,6))\n",
    "plt.hist(member_holdtime_df['holdtime'], bins = 100)\n",
    "plt.show()"
   ]
  },
  {
   "cell_type": "code",
   "execution_count": 13,
   "id": "8819d6db",
   "metadata": {},
   "outputs": [
    {
     "data": {
      "text/plain": [
       "(206, 5)"
      ]
     },
     "execution_count": 13,
     "metadata": {},
     "output_type": "execute_result"
    }
   ],
   "source": [
    "# how many hold times are above a 150 days (5 months)\n",
    "member_holdtime_df.loc[member_holdtime_df['holdtime'] >150].shape"
   ]
  },
  {
   "cell_type": "code",
   "execution_count": 14,
   "id": "47977448",
   "metadata": {},
   "outputs": [
    {
     "data": {
      "image/png": "[encoded data removed]",
      "text/plain": [
       "<Figure size 720x360 with 2 Axes>"
      ]
     },
     "metadata": {
      "needs_background": "light"
     },
     "output_type": "display_data"
    }
   ],
   "source": [
    "plt.figure(figsize = [10,5])\n",
    "\n",
    "plt.subplot(1,2,1)\n",
    "plt.hist(member_holdtime_df.loc[member_holdtime_df['holdtime'] < 150]['holdtime'], bins = 10)\n",
    "plt.title(\"Holdtime upto 5 months\")\n",
    "\n",
    "plt.subplot(1,2,2)\n",
    "plt.hist(member_holdtime_df.loc[member_holdtime_df['holdtime'] > 151]['holdtime'], bins = 10)\n",
    "plt.title(\"Holdtime over 5 months\")\n",
    "\n",
    "plt.show()"
   ]
  },
  {
   "cell_type": "markdown",
   "id": "5032b07c",
   "metadata": {},
   "source": [
    "**2. packs.tsv**\n",
    "* pack_name - name of the pack (may have more than 1 puzzle per pack)\n",
    "* brand - brand name of puzzle pack\n",
    "* piece_count - number of pieces in puzzle\n",
    "* difficulty_rating - difficulty rating for puzzle"
   ]
  },
  {
   "cell_type": "markdown",
   "id": "6ba0ddda",
   "metadata": {},
   "source": [
    "**Comment:**\n",
    "- Members data has 910 unique packs but the packs dataframe has info about 909 packs."
   ]
  },
  {
   "cell_type": "markdown",
   "id": "2d5aca47",
   "metadata": {},
   "source": [
    "**Comments:**\n",
    "- After combining all packs information, (splitting out a new row for packs with different brands, piece counts, and difficulty ratings) there are 1725 unique entries, 821 rows for brand are null, 259 rows for piece count are null, and 88 rows for difficulty rating are null\n",
    "- there are 909 unique packs (same as before), 9 unique pack names, and 4 unique types of difficulty ratings available\n",
    "- the mean piece count is about 359, with a standard deviation of 196, a min of 30, and a max of 1500\n",
    "    - the histogram plot for piece count looks slightly skewed\n",
    "- the most frequent brand that appears in the table is Artifact and the most frequent difficulty rating amongst the packs is average"
   ]
  },
  {
   "cell_type": "code",
   "execution_count": 15,
   "id": "6e66f930",
   "metadata": {},
   "outputs": [],
   "source": [
    "packs_df['piece_count_1'] = packs_df['piece_count'].str.split(',', expand=True)[0]\n",
    "packs_df['piece_count_2'] = packs_df['piece_count'].str.split(',', expand=True)[1]"
   ]
  },
  {
   "cell_type": "code",
   "execution_count": 16,
   "id": "d8884b9f",
   "metadata": {
    "scrolled": true
   },
   "outputs": [],
   "source": [
    "packs_df['difficulty_rating_1'] = packs_df['difficulty_rating'].str.split(',', expand=True)[0]\n",
    "packs_df['difficulty_rating_2'] = packs_df['difficulty_rating'].str.split(',', expand=True)[1]"
   ]
  },
  {
   "cell_type": "code",
   "execution_count": 17,
   "id": "6cc5a6b3",
   "metadata": {},
   "outputs": [],
   "source": [
    "packs_df.drop(['piece_count', 'difficulty_rating'], axis=1, inplace=True)"
   ]
  },
  {
   "cell_type": "code",
   "execution_count": 18,
   "id": "c5c8ed4d",
   "metadata": {},
   "outputs": [],
   "source": [
    "packs_df['brand_2'] = packs_df['brand'].str.split(',', expand=True)[1]\n",
    "packs_df['brand'] = packs_df['brand'].str.split(',', expand=True)[0]"
   ]
  },
  {
   "cell_type": "code",
   "execution_count": 19,
   "id": "fa093c4e",
   "metadata": {},
   "outputs": [],
   "source": [
    "#consolidate packs_df table\n",
    "packs_df1 = packs_df[['pack_name', 'brand', 'piece_count_1', 'difficulty_rating_1']]\n",
    "packs_df1.columns = ['pack_name', 'brand', 'piece_count', 'difficulty_rating']\n",
    "packs_df2 = packs_df[['pack_name', 'brand_2', 'piece_count_2', 'difficulty_rating_2']]\n",
    "packs_df2.columns = ['pack_name', 'brand', 'piece_count', 'difficulty_rating']\n",
    "packs_df = pd.concat([packs_df1, packs_df2], axis = 0).reset_index(drop=True)"
   ]
  },
  {
   "cell_type": "code",
   "execution_count": 20,
   "id": "ec0625d3",
   "metadata": {},
   "outputs": [
    {
     "name": "stdout",
     "output_type": "stream",
     "text": [
      "93\n"
     ]
    }
   ],
   "source": [
    "# check for duplicate rows & then drop them\n",
    "print(packs_df.duplicated().sum())\n",
    "packs_df = packs_df.drop_duplicates()"
   ]
  },
  {
   "cell_type": "code",
   "execution_count": 21,
   "id": "e8839c86",
   "metadata": {},
   "outputs": [],
   "source": [
    "#convert piece count column to integer type\n",
    "packs_df['piece_count'] = pd.to_numeric(packs_df['piece_count'], errors='coerce').astype('Int64')"
   ]
  },
  {
   "cell_type": "code",
   "execution_count": 22,
   "id": "fc4e3f33",
   "metadata": {},
   "outputs": [
    {
     "data": {
      "text/html": [
       "<div>\n",
       "<style scoped>\n",
       "    .dataframe tbody tr th:only-of-type {\n",
       "        vertical-align: middle;\n",
       "    }\n",
       "\n",
       "    .dataframe tbody tr th {\n",
       "        vertical-align: top;\n",
       "    }\n",
       "\n",
       "    .dataframe thead th {\n",
       "        text-align: right;\n",
       "    }\n",
       "</style>\n",
       "<table border=\"1\" class=\"dataframe\">\n",
       "  <thead>\n",
       "    <tr style=\"text-align: right;\">\n",
       "      <th></th>\n",
       "      <th>pack_name</th>\n",
       "      <th>brand</th>\n",
       "      <th>piece_count</th>\n",
       "      <th>difficulty_rating</th>\n",
       "    </tr>\n",
       "  </thead>\n",
       "  <tbody>\n",
       "    <tr>\n",
       "      <th>0</th>\n",
       "      <td>Anne Belle Thompson The Mikado Anne Belle Thompson Two Kimonos</td>\n",
       "      <td>Other-Hand-cut</td>\n",
       "      <td>387</td>\n",
       "      <td>Average</td>\n",
       "    </tr>\n",
       "    <tr>\n",
       "      <th>1</th>\n",
       "      <td>Anthology Puzzles Alphonse Mucha La Plume Anthology Puzzles Fun at the Fair</td>\n",
       "      <td>NaN</td>\n",
       "      <td>320</td>\n",
       "      <td>Average</td>\n",
       "    </tr>\n",
       "    <tr>\n",
       "      <th>2</th>\n",
       "      <td>Anthology Puzzles Colorful Cat Anthology Puzzles Life On The Reef</td>\n",
       "      <td>NaN</td>\n",
       "      <td>150</td>\n",
       "      <td>Average</td>\n",
       "    </tr>\n",
       "    <tr>\n",
       "      <th>3</th>\n",
       "      <td>Anthology Puzzles Framed American Gothic Anthology Puzzles Haeckel Floral</td>\n",
       "      <td>NaN</td>\n",
       "      <td>320</td>\n",
       "      <td>Average</td>\n",
       "    </tr>\n",
       "    <tr>\n",
       "      <th>4</th>\n",
       "      <td>Anthology Puzzles Over The Moon Anthology Puzzles Happy House Plants</td>\n",
       "      <td>NaN</td>\n",
       "      <td>278</td>\n",
       "      <td>Hard</td>\n",
       "    </tr>\n",
       "  </tbody>\n",
       "</table>\n",
       "</div>"
      ],
      "text/plain": [
       "                                                                     pack_name  \\\n",
       "0               Anne Belle Thompson The Mikado Anne Belle Thompson Two Kimonos   \n",
       "1  Anthology Puzzles Alphonse Mucha La Plume Anthology Puzzles Fun at the Fair   \n",
       "2            Anthology Puzzles Colorful Cat Anthology Puzzles Life On The Reef   \n",
       "3    Anthology Puzzles Framed American Gothic Anthology Puzzles Haeckel Floral   \n",
       "4         Anthology Puzzles Over The Moon Anthology Puzzles Happy House Plants   \n",
       "\n",
       "            brand  piece_count difficulty_rating  \n",
       "0  Other-Hand-cut          387           Average  \n",
       "1             NaN          320           Average  \n",
       "2             NaN          150           Average  \n",
       "3             NaN          320           Average  \n",
       "4             NaN          278              Hard  "
      ]
     },
     "execution_count": 22,
     "metadata": {},
     "output_type": "execute_result"
    }
   ],
   "source": [
    "packs_df.head()"
   ]
  },
  {
   "cell_type": "code",
   "execution_count": 23,
   "id": "e89e0e7a",
   "metadata": {},
   "outputs": [
    {
     "name": "stdout",
     "output_type": "stream",
     "text": [
      "<class 'pandas.core.frame.DataFrame'>\n",
      "Int64Index: 1725 entries, 0 to 1817\n",
      "Data columns (total 4 columns):\n",
      " #   Column             Non-Null Count  Dtype \n",
      "---  ------             --------------  ----- \n",
      " 0   pack_name          1725 non-null   object\n",
      " 1   brand              904 non-null    object\n",
      " 2   piece_count        1466 non-null   Int64 \n",
      " 3   difficulty_rating  1637 non-null   object\n",
      "dtypes: Int64(1), object(3)\n",
      "memory usage: 69.1+ KB\n"
     ]
    }
   ],
   "source": [
    "packs_df.info()"
   ]
  },
  {
   "cell_type": "code",
   "execution_count": 24,
   "id": "bdaa4a01",
   "metadata": {},
   "outputs": [
    {
     "data": {
      "text/plain": [
       "pack_name              0\n",
       "brand                821\n",
       "piece_count          259\n",
       "difficulty_rating     88\n",
       "dtype: int64"
      ]
     },
     "execution_count": 24,
     "metadata": {},
     "output_type": "execute_result"
    }
   ],
   "source": [
    "packs_df.isnull().sum()"
   ]
  },
  {
   "cell_type": "code",
   "execution_count": 25,
   "id": "e0637331",
   "metadata": {},
   "outputs": [
    {
     "data": {
      "text/plain": [
       "pack_name            909\n",
       "brand                  9\n",
       "piece_count          461\n",
       "difficulty_rating      4\n",
       "dtype: int64"
      ]
     },
     "execution_count": 25,
     "metadata": {},
     "output_type": "execute_result"
    }
   ],
   "source": [
    "packs_df.nunique()"
   ]
  },
  {
   "cell_type": "code",
   "execution_count": 26,
   "id": "77bafd16",
   "metadata": {},
   "outputs": [
    {
     "data": {
      "text/plain": [
       "count    1466.000000\n",
       "mean      358.648704\n",
       "std       195.990531\n",
       "min        30.000000\n",
       "25%       220.250000\n",
       "50%       324.000000\n",
       "75%       478.000000\n",
       "max      1500.000000\n",
       "Name: piece_count, dtype: float64"
      ]
     },
     "execution_count": 26,
     "metadata": {},
     "output_type": "execute_result"
    }
   ],
   "source": [
    "#get summary statistics for piece count column\n",
    "packs_df.piece_count.describe()"
   ]
  },
  {
   "cell_type": "code",
   "execution_count": 27,
   "id": "3305be38",
   "metadata": {},
   "outputs": [
    {
     "data": {
      "image/png": "[encoded data removed]",
      "text/plain": [
       "<Figure size 576x432 with 1 Axes>"
      ]
     },
     "metadata": {
      "needs_background": "light"
     },
     "output_type": "display_data"
    }
   ],
   "source": [
    "#plot distribution for piece count\n",
    "plt.figure(figsize=(8,6))\n",
    "plt.hist(packs_df[packs_df['piece_count'].notnull()]['piece_count'], bins = 100)\n",
    "plt.show()"
   ]
  },
  {
   "cell_type": "code",
   "execution_count": 28,
   "id": "711b49a4",
   "metadata": {},
   "outputs": [
    {
     "data": {
      "image/png": "[encoded data removed]",
      "text/plain": [
       "<Figure size 720x360 with 2 Axes>"
      ]
     },
     "metadata": {
      "needs_background": "light"
     },
     "output_type": "display_data"
    }
   ],
   "source": [
    "# bar charts for distribution of brand & difficulty rating\n",
    "plt.figure(figsize = [10,5])\n",
    "\n",
    "plt.subplot(1,2,1)\n",
    "packs_df.brand.value_counts().plot(kind=\"bar\")\n",
    "plt.title(\"value counts for brand\")\n",
    "plt.xlabel(\"brand\")\n",
    "plt.xticks(rotation=45, ha='right')\n",
    "plt.ylabel(\"Count\")\n",
    "\n",
    "plt.subplot(1,2,2)\n",
    "packs_df.difficulty_rating.value_counts().plot(kind=\"bar\")\n",
    "plt.title(\"value counts for difficulty_rating\")\n",
    "plt.xlabel(\"difficulty_rating\")\n",
    "plt.xticks(rotation=45, ha='right')\n",
    "plt.ylabel(\"Count\")\n",
    "\n",
    "plt.show()"
   ]
  },
  {
   "cell_type": "markdown",
   "id": "aa8b7c7e",
   "metadata": {},
   "source": [
    "# Problems -\n",
    "1. Missing values in brand name. Can possibly come from members data. \n",
    "2. Missing in piececount1 - discuss on how to impute? (suggestion, average of pieces for the difficulty level?)\n",
    "3. Missing in piececount2 - not all packs have 2 puzzles\n",
    "4. how to deal with missing difficulty ratings?\n",
    "5. brand_2 does not seem like an important variable and has almost 800 missing (900 total rows)"
   ]
  },
  {
   "cell_type": "code",
   "execution_count": null,
   "id": "178f65be",
   "metadata": {},
   "outputs": [],
   "source": [
    "packs_df.to_csv('packs_df.csv')"
   ]
  }
 ],
 "metadata": {
  "kernelspec": {
   "display_name": "Python 3 (ipykernel)",
   "language": "python",
   "name": "python3"
  },
  "language_info": {
   "codemirror_mode": {
    "name": "ipython",
    "version": 3
   },
   "file_extension": ".py",
   "mimetype": "text/x-python",
   "name": "python",
   "nbconvert_exporter": "python",
   "pygments_lexer": "ipython3",
   "version": "3.9.7"
  }
 },
 "nbformat": 4,
 "nbformat_minor": 5
}
