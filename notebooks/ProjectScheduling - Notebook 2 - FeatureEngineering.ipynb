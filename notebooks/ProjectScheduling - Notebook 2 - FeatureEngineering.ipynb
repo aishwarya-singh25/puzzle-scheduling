{
 "cells": [
  {
   "cell_type": "markdown",
   "id": "df0b4952",
   "metadata": {},
   "source": [
    "# Structure of the Notebook\n",
    "\n",
    "\n",
    "**4. Feature Engineering**\n",
    "\n",
    "**5. Mode Building**\n",
    "\n",
    "    5.1 Benchmark Model\n",
    "    5.2 Linear Regression\n",
    "    5.3 Decision Tree\n",
    "    "
   ]
  },
  {
   "cell_type": "code",
   "execution_count": 51,
   "id": "acba7993",
   "metadata": {},
   "outputs": [],
   "source": [
    "import pandas as pd\n",
    "import numpy as np\n",
    "import math\n",
    "import matplotlib.pyplot as plt\n",
    "import seaborn as sns\n",
    "\n",
    "import warnings\n",
    "warnings.filterwarnings(\"ignore\")"
   ]
  },
  {
   "cell_type": "code",
   "execution_count": 52,
   "id": "4e94d8a3",
   "metadata": {},
   "outputs": [],
   "source": [
    "path = '/Users/aishwaryasingh/PuzzleSchedulingProject/puzzle-scheduling/data/'\n",
    "df = pd.read_csv(path+'members_packs_cleaned.csv')"
   ]
  },
  {
   "cell_type": "markdown",
   "id": "3f607f5c",
   "metadata": {},
   "source": [
    "## 4. Feature Engineering"
   ]
  },
  {
   "cell_type": "code",
   "execution_count": 54,
   "id": "fba6ca2b",
   "metadata": {},
   "outputs": [],
   "source": [
    "# taking code from job's branch\n",
    "pieces_by_difficulty = []\n",
    "\n",
    "for i, row in df.iterrows():\n",
    "    out = {\n",
    "        'name': row['pack_name'],\n",
    "        'pieces_d1': 0,\n",
    "        'pieces_d2': 0,\n",
    "        'pieces_d3': 0,\n",
    "        'pieces_d4': 0,\n",
    "        'num_puzzles': row['num_puzzles']\n",
    "    }\n",
    "    \n",
    "    if not math.isnan(row['piece_count_1']):\n",
    "        out[f'pieces_d{str(int(row[\"difficulty_rating_1\"]))}'] += row['piece_count_1']\n",
    "    \n",
    "    if(row['num_puzzles'] == 2 and math.isnan(row['piece_count_1']) == False):\n",
    "        out[f'pieces_d{str(int(row[\"difficulty_rating_2\"]))}'] += row['piece_count_2']\n",
    "        \n",
    "    pieces_by_difficulty.append(out)"
   ]
  },
  {
   "cell_type": "code",
   "execution_count": 55,
   "id": "6587c014",
   "metadata": {},
   "outputs": [
    {
     "data": {
      "text/html": [
       "<div>\n",
       "<style scoped>\n",
       "    .dataframe tbody tr th:only-of-type {\n",
       "        vertical-align: middle;\n",
       "    }\n",
       "\n",
       "    .dataframe tbody tr th {\n",
       "        vertical-align: top;\n",
       "    }\n",
       "\n",
       "    .dataframe thead th {\n",
       "        text-align: right;\n",
       "    }\n",
       "</style>\n",
       "<table border=\"1\" class=\"dataframe\">\n",
       "  <thead>\n",
       "    <tr style=\"text-align: right;\">\n",
       "      <th></th>\n",
       "      <th>name</th>\n",
       "      <th>pieces_d1</th>\n",
       "      <th>pieces_d2</th>\n",
       "      <th>pieces_d3</th>\n",
       "      <th>pieces_d4</th>\n",
       "      <th>num_puzzles</th>\n",
       "    </tr>\n",
       "  </thead>\n",
       "  <tbody>\n",
       "    <tr>\n",
       "      <th>0</th>\n",
       "      <td>Artifact Puzzles Justin Hillgrove Word Travels...</td>\n",
       "      <td>456</td>\n",
       "      <td>548</td>\n",
       "      <td>0</td>\n",
       "      <td>0</td>\n",
       "      <td>2</td>\n",
       "    </tr>\n",
       "    <tr>\n",
       "      <th>1</th>\n",
       "      <td>Artifact Puzzles Justin Hillgrove Word Travels...</td>\n",
       "      <td>456</td>\n",
       "      <td>548</td>\n",
       "      <td>0</td>\n",
       "      <td>0</td>\n",
       "      <td>2</td>\n",
       "    </tr>\n",
       "    <tr>\n",
       "      <th>2</th>\n",
       "      <td>Artifact Puzzles Justin Hillgrove Word Travels...</td>\n",
       "      <td>456</td>\n",
       "      <td>548</td>\n",
       "      <td>0</td>\n",
       "      <td>0</td>\n",
       "      <td>2</td>\n",
       "    </tr>\n",
       "    <tr>\n",
       "      <th>3</th>\n",
       "      <td>Artifact Puzzles Justin Hillgrove Word Travels...</td>\n",
       "      <td>456</td>\n",
       "      <td>548</td>\n",
       "      <td>0</td>\n",
       "      <td>0</td>\n",
       "      <td>2</td>\n",
       "    </tr>\n",
       "    <tr>\n",
       "      <th>4</th>\n",
       "      <td>Artifact Puzzles Justin Hillgrove Word Travels...</td>\n",
       "      <td>456</td>\n",
       "      <td>548</td>\n",
       "      <td>0</td>\n",
       "      <td>0</td>\n",
       "      <td>2</td>\n",
       "    </tr>\n",
       "  </tbody>\n",
       "</table>\n",
       "</div>"
      ],
      "text/plain": [
       "                                                name  pieces_d1  pieces_d2  \\\n",
       "0  Artifact Puzzles Justin Hillgrove Word Travels...        456        548   \n",
       "1  Artifact Puzzles Justin Hillgrove Word Travels...        456        548   \n",
       "2  Artifact Puzzles Justin Hillgrove Word Travels...        456        548   \n",
       "3  Artifact Puzzles Justin Hillgrove Word Travels...        456        548   \n",
       "4  Artifact Puzzles Justin Hillgrove Word Travels...        456        548   \n",
       "\n",
       "   pieces_d3  pieces_d4  num_puzzles  \n",
       "0          0          0            2  \n",
       "1          0          0            2  \n",
       "2          0          0            2  \n",
       "3          0          0            2  \n",
       "4          0          0            2  "
      ]
     },
     "execution_count": 55,
     "metadata": {},
     "output_type": "execute_result"
    }
   ],
   "source": [
    "pieces_df = pd.DataFrame(pieces_by_difficulty)\n",
    "pieces_df.head()"
   ]
  },
  {
   "cell_type": "code",
   "execution_count": 56,
   "id": "45853a65",
   "metadata": {},
   "outputs": [],
   "source": [
    "# making things at pack level\n",
    "for i in range(0, len(df)):\n",
    "    if df['num_puzzles'][i] ==1:\n",
    "        pass\n",
    "    else:\n",
    "        df['piece_count_1'][i] = df['piece_count_1'][i] + df['piece_count_2'][i]\n",
    "        df['difficulty_rating_1'][i] = (df['difficulty_rating_1'][i] + df['difficulty_rating_2'][i])//2"
   ]
  },
  {
   "cell_type": "code",
   "execution_count": 57,
   "id": "44207848",
   "metadata": {},
   "outputs": [],
   "source": [
    "df_final = pd.concat([df, pieces_df], axis=1)"
   ]
  },
  {
   "cell_type": "code",
   "execution_count": 58,
   "id": "db3343ca",
   "metadata": {},
   "outputs": [
    {
     "data": {
      "text/html": [
       "<div>\n",
       "<style scoped>\n",
       "    .dataframe tbody tr th:only-of-type {\n",
       "        vertical-align: middle;\n",
       "    }\n",
       "\n",
       "    .dataframe tbody tr th {\n",
       "        vertical-align: top;\n",
       "    }\n",
       "\n",
       "    .dataframe thead th {\n",
       "        text-align: right;\n",
       "    }\n",
       "</style>\n",
       "<table border=\"1\" class=\"dataframe\">\n",
       "  <thead>\n",
       "    <tr style=\"text-align: right;\">\n",
       "      <th></th>\n",
       "      <th>memberID</th>\n",
       "      <th>holdtime</th>\n",
       "      <th>pack_name</th>\n",
       "      <th>piece_count_1</th>\n",
       "      <th>piece_count_2</th>\n",
       "      <th>difficulty_rating_1</th>\n",
       "      <th>difficulty_rating_2</th>\n",
       "      <th>brand_2</th>\n",
       "      <th>brand_1</th>\n",
       "      <th>num_puzzles</th>\n",
       "      <th>name</th>\n",
       "      <th>pieces_d1</th>\n",
       "      <th>pieces_d2</th>\n",
       "      <th>pieces_d3</th>\n",
       "      <th>pieces_d4</th>\n",
       "      <th>num_puzzles</th>\n",
       "    </tr>\n",
       "  </thead>\n",
       "  <tbody>\n",
       "    <tr>\n",
       "      <th>0</th>\n",
       "      <td>member1</td>\n",
       "      <td>2.939411</td>\n",
       "      <td>Artifact Puzzles Justin Hillgrove Word Travels...</td>\n",
       "      <td>1004</td>\n",
       "      <td>548</td>\n",
       "      <td>1</td>\n",
       "      <td>2</td>\n",
       "      <td>Artifact</td>\n",
       "      <td>Artifact</td>\n",
       "      <td>2</td>\n",
       "      <td>Artifact Puzzles Justin Hillgrove Word Travels...</td>\n",
       "      <td>456</td>\n",
       "      <td>548</td>\n",
       "      <td>0</td>\n",
       "      <td>0</td>\n",
       "      <td>2</td>\n",
       "    </tr>\n",
       "    <tr>\n",
       "      <th>1</th>\n",
       "      <td>member17</td>\n",
       "      <td>17.904266</td>\n",
       "      <td>Artifact Puzzles Justin Hillgrove Word Travels...</td>\n",
       "      <td>1004</td>\n",
       "      <td>548</td>\n",
       "      <td>1</td>\n",
       "      <td>2</td>\n",
       "      <td>Artifact</td>\n",
       "      <td>Artifact</td>\n",
       "      <td>2</td>\n",
       "      <td>Artifact Puzzles Justin Hillgrove Word Travels...</td>\n",
       "      <td>456</td>\n",
       "      <td>548</td>\n",
       "      <td>0</td>\n",
       "      <td>0</td>\n",
       "      <td>2</td>\n",
       "    </tr>\n",
       "  </tbody>\n",
       "</table>\n",
       "</div>"
      ],
      "text/plain": [
       "   memberID   holdtime                                          pack_name  \\\n",
       "0   member1   2.939411  Artifact Puzzles Justin Hillgrove Word Travels...   \n",
       "1  member17  17.904266  Artifact Puzzles Justin Hillgrove Word Travels...   \n",
       "\n",
       "   piece_count_1  piece_count_2  difficulty_rating_1  difficulty_rating_2  \\\n",
       "0           1004            548                    1                    2   \n",
       "1           1004            548                    1                    2   \n",
       "\n",
       "    brand_2   brand_1  num_puzzles  \\\n",
       "0  Artifact  Artifact            2   \n",
       "1  Artifact  Artifact            2   \n",
       "\n",
       "                                                name  pieces_d1  pieces_d2  \\\n",
       "0  Artifact Puzzles Justin Hillgrove Word Travels...        456        548   \n",
       "1  Artifact Puzzles Justin Hillgrove Word Travels...        456        548   \n",
       "\n",
       "   pieces_d3  pieces_d4  num_puzzles  \n",
       "0          0          0            2  \n",
       "1          0          0            2  "
      ]
     },
     "execution_count": 58,
     "metadata": {},
     "output_type": "execute_result"
    }
   ],
   "source": [
    "df_final.head(2)"
   ]
  },
  {
   "cell_type": "code",
   "execution_count": 59,
   "id": "cb1e8af2",
   "metadata": {},
   "outputs": [],
   "source": [
    "df_final.drop(['name', 'piece_count_2', 'difficulty_rating_2', 'num_puzzles'], axis=1, inplace = True)"
   ]
  },
  {
   "cell_type": "code",
   "execution_count": 60,
   "id": "db164f26",
   "metadata": {},
   "outputs": [
    {
     "data": {
      "text/plain": [
       "((16671, 11), (16671, 10), (16671, 6))"
      ]
     },
     "execution_count": 60,
     "metadata": {},
     "output_type": "execute_result"
    }
   ],
   "source": [
    "df_final.shape, df.shape, pieces_df.shape"
   ]
  },
  {
   "cell_type": "markdown",
   "id": "1f5d8ee8",
   "metadata": {},
   "source": [
    "### 4.1 Separating test set to avoid data leakage"
   ]
  },
  {
   "cell_type": "code",
   "execution_count": 61,
   "id": "d96ab08b",
   "metadata": {},
   "outputs": [],
   "source": [
    "from sklearn.model_selection import train_test_split"
   ]
  },
  {
   "cell_type": "code",
   "execution_count": 62,
   "id": "166ed7b2",
   "metadata": {},
   "outputs": [],
   "source": [
    "# splitting data\n",
    "train, test = train_test_split(df_final, test_size = 0.25, random_state=1)"
   ]
  },
  {
   "cell_type": "markdown",
   "id": "7b2b4047",
   "metadata": {},
   "source": [
    "### 4.2 member level features"
   ]
  },
  {
   "cell_type": "code",
   "execution_count": 64,
   "id": "3a25e2cb",
   "metadata": {},
   "outputs": [
    {
     "data": {
      "text/html": [
       "<div>\n",
       "<style scoped>\n",
       "    .dataframe tbody tr th:only-of-type {\n",
       "        vertical-align: middle;\n",
       "    }\n",
       "\n",
       "    .dataframe tbody tr th {\n",
       "        vertical-align: top;\n",
       "    }\n",
       "\n",
       "    .dataframe thead th {\n",
       "        text-align: right;\n",
       "    }\n",
       "</style>\n",
       "<table border=\"1\" class=\"dataframe\">\n",
       "  <thead>\n",
       "    <tr style=\"text-align: right;\">\n",
       "      <th></th>\n",
       "      <th>memberID</th>\n",
       "      <th>holdtime</th>\n",
       "      <th>pack_name</th>\n",
       "      <th>piece_count_1</th>\n",
       "      <th>difficulty_rating_1</th>\n",
       "      <th>brand_2</th>\n",
       "      <th>brand_1</th>\n",
       "      <th>pieces_d1</th>\n",
       "      <th>pieces_d2</th>\n",
       "      <th>pieces_d3</th>\n",
       "      <th>pieces_d4</th>\n",
       "    </tr>\n",
       "  </thead>\n",
       "  <tbody>\n",
       "    <tr>\n",
       "      <th>1250</th>\n",
       "      <td>member3</td>\n",
       "      <td>1.737623</td>\n",
       "      <td>Artifact Puzzles Isabelle Plante La Connaissan...</td>\n",
       "      <td>737</td>\n",
       "      <td>1</td>\n",
       "      <td>Artifact</td>\n",
       "      <td>Artifact</td>\n",
       "      <td>737</td>\n",
       "      <td>0</td>\n",
       "      <td>0</td>\n",
       "      <td>0</td>\n",
       "    </tr>\n",
       "    <tr>\n",
       "      <th>6267</th>\n",
       "      <td>member530</td>\n",
       "      <td>14.006373</td>\n",
       "      <td>Ecru Puzzles Angela Gomes Monets Garden Ecru P...</td>\n",
       "      <td>569</td>\n",
       "      <td>1</td>\n",
       "      <td>Ecru</td>\n",
       "      <td>Ecru</td>\n",
       "      <td>355</td>\n",
       "      <td>214</td>\n",
       "      <td>0</td>\n",
       "      <td>0</td>\n",
       "    </tr>\n",
       "    <tr>\n",
       "      <th>1325</th>\n",
       "      <td>member238</td>\n",
       "      <td>12.187903</td>\n",
       "      <td>Nautilus Puzzles Mandala Stones</td>\n",
       "      <td>432</td>\n",
       "      <td>3</td>\n",
       "      <td>Nautilus</td>\n",
       "      <td>Nautilus</td>\n",
       "      <td>0</td>\n",
       "      <td>0</td>\n",
       "      <td>432</td>\n",
       "      <td>0</td>\n",
       "    </tr>\n",
       "    <tr>\n",
       "      <th>11418</th>\n",
       "      <td>member34</td>\n",
       "      <td>11.115203</td>\n",
       "      <td>Stumpcraft Melissa McKinnon Bursting Blooms Wh...</td>\n",
       "      <td>695</td>\n",
       "      <td>3</td>\n",
       "      <td>Other-Laser-cut</td>\n",
       "      <td>Other-Laser-cut</td>\n",
       "      <td>0</td>\n",
       "      <td>0</td>\n",
       "      <td>695</td>\n",
       "      <td>0</td>\n",
       "    </tr>\n",
       "    <tr>\n",
       "      <th>10544</th>\n",
       "      <td>member235</td>\n",
       "      <td>17.075080</td>\n",
       "      <td>Nervous System Rainbow Puzzle Nervous System E...</td>\n",
       "      <td>821</td>\n",
       "      <td>2</td>\n",
       "      <td>Other-Laser-cut</td>\n",
       "      <td>Other-Laser-cut</td>\n",
       "      <td>380</td>\n",
       "      <td>0</td>\n",
       "      <td>0</td>\n",
       "      <td>441</td>\n",
       "    </tr>\n",
       "  </tbody>\n",
       "</table>\n",
       "</div>"
      ],
      "text/plain": [
       "        memberID   holdtime  \\\n",
       "1250     member3   1.737623   \n",
       "6267   member530  14.006373   \n",
       "1325   member238  12.187903   \n",
       "11418   member34  11.115203   \n",
       "10544  member235  17.075080   \n",
       "\n",
       "                                               pack_name  piece_count_1  \\\n",
       "1250   Artifact Puzzles Isabelle Plante La Connaissan...            737   \n",
       "6267   Ecru Puzzles Angela Gomes Monets Garden Ecru P...            569   \n",
       "1325                    Nautilus Puzzles Mandala Stones             432   \n",
       "11418  Stumpcraft Melissa McKinnon Bursting Blooms Wh...            695   \n",
       "10544  Nervous System Rainbow Puzzle Nervous System E...            821   \n",
       "\n",
       "       difficulty_rating_1          brand_2          brand_1  pieces_d1  \\\n",
       "1250                     1         Artifact         Artifact        737   \n",
       "6267                     1             Ecru             Ecru        355   \n",
       "1325                     3         Nautilus         Nautilus          0   \n",
       "11418                    3  Other-Laser-cut  Other-Laser-cut          0   \n",
       "10544                    2  Other-Laser-cut  Other-Laser-cut        380   \n",
       "\n",
       "       pieces_d2  pieces_d3  pieces_d4  \n",
       "1250           0          0          0  \n",
       "6267         214          0          0  \n",
       "1325           0        432          0  \n",
       "11418          0        695          0  \n",
       "10544          0          0        441  "
      ]
     },
     "execution_count": 64,
     "metadata": {},
     "output_type": "execute_result"
    }
   ],
   "source": [
    "train.head()"
   ]
  },
  {
   "cell_type": "code",
   "execution_count": 63,
   "id": "ab377beb",
   "metadata": {},
   "outputs": [],
   "source": [
    "# average hold time at member level\n",
    "member_avg_holdtime = train[['memberID', 'holdtime']].groupby(by = ['memberID']).mean()\n",
    "member_avg_holdtime.columns = ['avg_holdtime']"
   ]
  },
  {
   "cell_type": "code",
   "execution_count": 67,
   "id": "f1a160e7",
   "metadata": {},
   "outputs": [
    {
     "data": {
      "text/plain": [
       "16.233853376004497"
      ]
     },
     "execution_count": 67,
     "metadata": {},
     "output_type": "execute_result"
    }
   ],
   "source": [
    "# global average hold time - will be later used for fillna\n",
    "train_holdtime_mean = train['holdtime'].mean()\n",
    "train_holdtime_mean"
   ]
  },
  {
   "cell_type": "code",
   "execution_count": 68,
   "id": "29bb3b80",
   "metadata": {
    "scrolled": true
   },
   "outputs": [],
   "source": [
    "train_merged = train.merge(member_avg_holdtime, on = 'memberID', how = 'left')"
   ]
  },
  {
   "cell_type": "markdown",
   "id": "1784dc7d",
   "metadata": {},
   "source": [
    "### 4.3 pack level features"
   ]
  },
  {
   "cell_type": "code",
   "execution_count": 65,
   "id": "395b4be8",
   "metadata": {},
   "outputs": [
    {
     "data": {
      "text/html": [
       "<div>\n",
       "<style scoped>\n",
       "    .dataframe tbody tr th:only-of-type {\n",
       "        vertical-align: middle;\n",
       "    }\n",
       "\n",
       "    .dataframe tbody tr th {\n",
       "        vertical-align: top;\n",
       "    }\n",
       "\n",
       "    .dataframe thead th {\n",
       "        text-align: right;\n",
       "    }\n",
       "</style>\n",
       "<table border=\"1\" class=\"dataframe\">\n",
       "  <thead>\n",
       "    <tr style=\"text-align: right;\">\n",
       "      <th></th>\n",
       "      <th>holdtime</th>\n",
       "      <th>piece_count_1</th>\n",
       "      <th>difficulty_rating_1</th>\n",
       "      <th>brand_2</th>\n",
       "      <th>brand_1</th>\n",
       "      <th>pieces_d1</th>\n",
       "      <th>pieces_d2</th>\n",
       "      <th>pieces_d3</th>\n",
       "      <th>pieces_d4</th>\n",
       "      <th>avg_holdtime</th>\n",
       "    </tr>\n",
       "  </thead>\n",
       "  <tbody>\n",
       "    <tr>\n",
       "      <th>0</th>\n",
       "      <td>1.737623</td>\n",
       "      <td>737</td>\n",
       "      <td>1</td>\n",
       "      <td>Artifact</td>\n",
       "      <td>Artifact</td>\n",
       "      <td>737</td>\n",
       "      <td>0</td>\n",
       "      <td>0</td>\n",
       "      <td>0</td>\n",
       "      <td>23.837801</td>\n",
       "    </tr>\n",
       "    <tr>\n",
       "      <th>1</th>\n",
       "      <td>14.006373</td>\n",
       "      <td>569</td>\n",
       "      <td>1</td>\n",
       "      <td>Ecru</td>\n",
       "      <td>Ecru</td>\n",
       "      <td>355</td>\n",
       "      <td>214</td>\n",
       "      <td>0</td>\n",
       "      <td>0</td>\n",
       "      <td>26.545537</td>\n",
       "    </tr>\n",
       "    <tr>\n",
       "      <th>2</th>\n",
       "      <td>12.187903</td>\n",
       "      <td>432</td>\n",
       "      <td>3</td>\n",
       "      <td>Nautilus</td>\n",
       "      <td>Nautilus</td>\n",
       "      <td>0</td>\n",
       "      <td>0</td>\n",
       "      <td>432</td>\n",
       "      <td>0</td>\n",
       "      <td>19.920049</td>\n",
       "    </tr>\n",
       "    <tr>\n",
       "      <th>3</th>\n",
       "      <td>11.115203</td>\n",
       "      <td>695</td>\n",
       "      <td>3</td>\n",
       "      <td>Other-Laser-cut</td>\n",
       "      <td>Other-Laser-cut</td>\n",
       "      <td>0</td>\n",
       "      <td>0</td>\n",
       "      <td>695</td>\n",
       "      <td>0</td>\n",
       "      <td>27.899476</td>\n",
       "    </tr>\n",
       "    <tr>\n",
       "      <th>4</th>\n",
       "      <td>17.075080</td>\n",
       "      <td>821</td>\n",
       "      <td>2</td>\n",
       "      <td>Other-Laser-cut</td>\n",
       "      <td>Other-Laser-cut</td>\n",
       "      <td>380</td>\n",
       "      <td>0</td>\n",
       "      <td>0</td>\n",
       "      <td>441</td>\n",
       "      <td>20.459168</td>\n",
       "    </tr>\n",
       "  </tbody>\n",
       "</table>\n",
       "</div>"
      ],
      "text/plain": [
       "    holdtime  piece_count_1  difficulty_rating_1          brand_2  \\\n",
       "0   1.737623            737                    1         Artifact   \n",
       "1  14.006373            569                    1             Ecru   \n",
       "2  12.187903            432                    3         Nautilus   \n",
       "3  11.115203            695                    3  Other-Laser-cut   \n",
       "4  17.075080            821                    2  Other-Laser-cut   \n",
       "\n",
       "           brand_1  pieces_d1  pieces_d2  pieces_d3  pieces_d4  avg_holdtime  \n",
       "0         Artifact        737          0          0          0     23.837801  \n",
       "1             Ecru        355        214          0          0     26.545537  \n",
       "2         Nautilus          0          0        432          0     19.920049  \n",
       "3  Other-Laser-cut          0          0        695          0     27.899476  \n",
       "4  Other-Laser-cut        380          0          0        441     20.459168  "
      ]
     },
     "execution_count": 65,
     "metadata": {},
     "output_type": "execute_result"
    }
   ],
   "source": [
    "train_merged.head()"
   ]
  },
  {
   "cell_type": "code",
   "execution_count": 66,
   "id": "37429ebd",
   "metadata": {},
   "outputs": [],
   "source": [
    "# average hold time at pack level\n",
    "pack_avg_holdtime = train[['pack_name', 'holdtime']].groupby(by = ['pack_name']).mean()\n",
    "pack_avg_holdtime.columns = ['pack_avg_holdtime']"
   ]
  },
  {
   "cell_type": "code",
   "execution_count": 69,
   "id": "93393a16",
   "metadata": {},
   "outputs": [],
   "source": [
    "train_merged = train_merged.merge(pack_avg_holdtime, on = 'pack_name', how = 'left')"
   ]
  },
  {
   "cell_type": "code",
   "execution_count": 70,
   "id": "d1ab9653",
   "metadata": {},
   "outputs": [],
   "source": [
    "train_merged.drop(['memberID', 'pack_name'], axis=1, inplace=True)"
   ]
  },
  {
   "cell_type": "markdown",
   "id": "6371d55d",
   "metadata": {},
   "source": [
    "## 5. Model Building"
   ]
  },
  {
   "cell_type": "code",
   "execution_count": 71,
   "id": "fa3f4fe4",
   "metadata": {},
   "outputs": [],
   "source": [
    "from sklearn.linear_model import LinearRegression\n",
    "from sklearn.tree import DecisionTreeRegressor\n",
    "from sklearn.metrics import mean_squared_error, mean_absolute_error\n",
    "from sklearn.model_selection import GridSearchCV\n",
    "from sklearn import tree"
   ]
  },
  {
   "cell_type": "code",
   "execution_count": 72,
   "id": "2e74f0ba",
   "metadata": {},
   "outputs": [],
   "source": [
    "x_train = train_merged.drop('holdtime', axis=1)\n",
    "y_train = train_merged['holdtime']"
   ]
  },
  {
   "cell_type": "markdown",
   "id": "4d56aabf",
   "metadata": {},
   "source": [
    "### 5.0 Test set need the same features"
   ]
  },
  {
   "cell_type": "code",
   "execution_count": 73,
   "id": "099a8f7a",
   "metadata": {},
   "outputs": [],
   "source": [
    "test_merged = test.merge(member_avg_holdtime, on = 'memberID', how = 'left')"
   ]
  },
  {
   "cell_type": "code",
   "execution_count": 76,
   "id": "8efaa101",
   "metadata": {},
   "outputs": [],
   "source": [
    "test_merged = test_merged.merge(pack_avg_holdtime, on = 'pack_name', how = 'left')"
   ]
  },
  {
   "cell_type": "code",
   "execution_count": 78,
   "id": "cfcef7b9",
   "metadata": {},
   "outputs": [
    {
     "data": {
      "text/plain": [
       "memberID                0\n",
       "holdtime                0\n",
       "pack_name               0\n",
       "piece_count_1           0\n",
       "difficulty_rating_1     0\n",
       "brand_2                 0\n",
       "brand_1                 0\n",
       "pieces_d1               0\n",
       "pieces_d2               0\n",
       "pieces_d3               0\n",
       "pieces_d4               0\n",
       "avg_holdtime           18\n",
       "pack_avg_holdtime       6\n",
       "dtype: int64"
      ]
     },
     "execution_count": 78,
     "metadata": {},
     "output_type": "execute_result"
    }
   ],
   "source": [
    "test_merged.isnull().sum()"
   ]
  },
  {
   "cell_type": "code",
   "execution_count": 80,
   "id": "653c2ec2",
   "metadata": {},
   "outputs": [],
   "source": [
    "test_merged['avg_holdtime'].fillna(train_holdtime_mean, inplace=True)\n",
    "test_merged['pack_avg_holdtime'].fillna(train_merged['pack_avg_holdtime'].mean(), inplace=True)"
   ]
  },
  {
   "cell_type": "code",
   "execution_count": 85,
   "id": "b1948ae0",
   "metadata": {},
   "outputs": [],
   "source": [
    "test_merged.drop(['memberID', 'pack_name'], axis=1, inplace = True)\n",
    "x_test = test_merged.drop('holdtime', axis = 1)\n",
    "y_test = test_merged['holdtime']"
   ]
  },
  {
   "cell_type": "markdown",
   "id": "ac6c0654",
   "metadata": {},
   "source": [
    "### 5.1 Benchmark Model"
   ]
  },
  {
   "cell_type": "code",
   "execution_count": 86,
   "id": "5d6016c5",
   "metadata": {},
   "outputs": [],
   "source": [
    "# First just try average hold time by member\n",
    "train_holdtime_mean = y_train.mean()"
   ]
  },
  {
   "cell_type": "code",
   "execution_count": 87,
   "id": "caae97f0",
   "metadata": {},
   "outputs": [
    {
     "data": {
      "text/plain": [
       "12.2585659897474"
      ]
     },
     "execution_count": 87,
     "metadata": {},
     "output_type": "execute_result"
    }
   ],
   "source": [
    "pred1 = np.empty(len(y_test)) \n",
    "pred1.fill(train_holdtime_mean)\n",
    "\n",
    "mean_absolute_error(y_test, pred1)"
   ]
  },
  {
   "cell_type": "markdown",
   "id": "0871c4ab",
   "metadata": {},
   "source": [
    "### 5.2 Linear Regression"
   ]
  },
  {
   "cell_type": "code",
   "execution_count": 88,
   "id": "61da0b52",
   "metadata": {},
   "outputs": [
    {
     "data": {
      "text/plain": [
       "piece_count_1            int64\n",
       "difficulty_rating_1      int64\n",
       "brand_2                 object\n",
       "brand_1                 object\n",
       "pieces_d1                int64\n",
       "pieces_d2                int64\n",
       "pieces_d3                int64\n",
       "pieces_d4                int64\n",
       "avg_holdtime           float64\n",
       "pack_avg_holdtime      float64\n",
       "dtype: object"
      ]
     },
     "execution_count": 88,
     "metadata": {},
     "output_type": "execute_result"
    }
   ],
   "source": [
    "x_train.dtypes"
   ]
  },
  {
   "cell_type": "code",
   "execution_count": 89,
   "id": "1cc6df1b",
   "metadata": {},
   "outputs": [
    {
     "data": {
      "text/plain": [
       "((12503, 10), (4168, 10))"
      ]
     },
     "execution_count": 89,
     "metadata": {},
     "output_type": "execute_result"
    }
   ],
   "source": [
    "x_train.shape, x_test.shape"
   ]
  },
  {
   "cell_type": "code",
   "execution_count": 90,
   "id": "e40bfe69",
   "metadata": {},
   "outputs": [
    {
     "data": {
      "text/plain": [
       "((12503, 28), (4168, 28))"
      ]
     },
     "execution_count": 90,
     "metadata": {},
     "output_type": "execute_result"
    }
   ],
   "source": [
    "# dummy variable - hopefully x_test doesnt bring any surprises\n",
    "x_train = pd.get_dummies(x_train)\n",
    "x_test = pd.get_dummies(x_test)\n",
    "x_train.shape, x_test.shape"
   ]
  },
  {
   "cell_type": "code",
   "execution_count": 91,
   "id": "fc5fac4f",
   "metadata": {},
   "outputs": [
    {
     "data": {
      "text/html": [
       "<div>\n",
       "<style scoped>\n",
       "    .dataframe tbody tr th:only-of-type {\n",
       "        vertical-align: middle;\n",
       "    }\n",
       "\n",
       "    .dataframe tbody tr th {\n",
       "        vertical-align: top;\n",
       "    }\n",
       "\n",
       "    .dataframe thead th {\n",
       "        text-align: right;\n",
       "    }\n",
       "</style>\n",
       "<table border=\"1\" class=\"dataframe\">\n",
       "  <thead>\n",
       "    <tr style=\"text-align: right;\">\n",
       "      <th></th>\n",
       "      <th>piece_count_1</th>\n",
       "      <th>difficulty_rating_1</th>\n",
       "      <th>pieces_d1</th>\n",
       "      <th>pieces_d2</th>\n",
       "      <th>pieces_d3</th>\n",
       "      <th>pieces_d4</th>\n",
       "      <th>avg_holdtime</th>\n",
       "      <th>pack_avg_holdtime</th>\n",
       "      <th>brand_2_Artifact</th>\n",
       "      <th>brand_2_DaVici</th>\n",
       "      <th>...</th>\n",
       "      <th>brand_1_Artifact</th>\n",
       "      <th>brand_1_DaVici</th>\n",
       "      <th>brand_1_Ecru</th>\n",
       "      <th>brand_1_Liberty</th>\n",
       "      <th>brand_1_Nautilus</th>\n",
       "      <th>brand_1_Other-Hand-cut</th>\n",
       "      <th>brand_1_Other-Laser-cut</th>\n",
       "      <th>brand_1_Stave</th>\n",
       "      <th>brand_1_Wentworth</th>\n",
       "      <th>brand_1_unknown</th>\n",
       "    </tr>\n",
       "  </thead>\n",
       "  <tbody>\n",
       "    <tr>\n",
       "      <th>0</th>\n",
       "      <td>313</td>\n",
       "      <td>2</td>\n",
       "      <td>0</td>\n",
       "      <td>313</td>\n",
       "      <td>0</td>\n",
       "      <td>0</td>\n",
       "      <td>11.292932</td>\n",
       "      <td>9.488180</td>\n",
       "      <td>1</td>\n",
       "      <td>0</td>\n",
       "      <td>...</td>\n",
       "      <td>1</td>\n",
       "      <td>0</td>\n",
       "      <td>0</td>\n",
       "      <td>0</td>\n",
       "      <td>0</td>\n",
       "      <td>0</td>\n",
       "      <td>0</td>\n",
       "      <td>0</td>\n",
       "      <td>0</td>\n",
       "      <td>0</td>\n",
       "    </tr>\n",
       "    <tr>\n",
       "      <th>1</th>\n",
       "      <td>861</td>\n",
       "      <td>3</td>\n",
       "      <td>0</td>\n",
       "      <td>0</td>\n",
       "      <td>861</td>\n",
       "      <td>0</td>\n",
       "      <td>17.427163</td>\n",
       "      <td>15.321017</td>\n",
       "      <td>0</td>\n",
       "      <td>0</td>\n",
       "      <td>...</td>\n",
       "      <td>1</td>\n",
       "      <td>0</td>\n",
       "      <td>0</td>\n",
       "      <td>0</td>\n",
       "      <td>0</td>\n",
       "      <td>0</td>\n",
       "      <td>0</td>\n",
       "      <td>0</td>\n",
       "      <td>0</td>\n",
       "      <td>0</td>\n",
       "    </tr>\n",
       "    <tr>\n",
       "      <th>2</th>\n",
       "      <td>852</td>\n",
       "      <td>1</td>\n",
       "      <td>852</td>\n",
       "      <td>0</td>\n",
       "      <td>0</td>\n",
       "      <td>0</td>\n",
       "      <td>10.809319</td>\n",
       "      <td>14.417597</td>\n",
       "      <td>1</td>\n",
       "      <td>0</td>\n",
       "      <td>...</td>\n",
       "      <td>1</td>\n",
       "      <td>0</td>\n",
       "      <td>0</td>\n",
       "      <td>0</td>\n",
       "      <td>0</td>\n",
       "      <td>0</td>\n",
       "      <td>0</td>\n",
       "      <td>0</td>\n",
       "      <td>0</td>\n",
       "      <td>0</td>\n",
       "    </tr>\n",
       "    <tr>\n",
       "      <th>3</th>\n",
       "      <td>729</td>\n",
       "      <td>2</td>\n",
       "      <td>0</td>\n",
       "      <td>729</td>\n",
       "      <td>0</td>\n",
       "      <td>0</td>\n",
       "      <td>11.797654</td>\n",
       "      <td>7.062908</td>\n",
       "      <td>0</td>\n",
       "      <td>0</td>\n",
       "      <td>...</td>\n",
       "      <td>0</td>\n",
       "      <td>0</td>\n",
       "      <td>0</td>\n",
       "      <td>1</td>\n",
       "      <td>0</td>\n",
       "      <td>0</td>\n",
       "      <td>0</td>\n",
       "      <td>0</td>\n",
       "      <td>0</td>\n",
       "      <td>0</td>\n",
       "    </tr>\n",
       "    <tr>\n",
       "      <th>4</th>\n",
       "      <td>522</td>\n",
       "      <td>2</td>\n",
       "      <td>0</td>\n",
       "      <td>522</td>\n",
       "      <td>0</td>\n",
       "      <td>0</td>\n",
       "      <td>19.920049</td>\n",
       "      <td>16.936139</td>\n",
       "      <td>0</td>\n",
       "      <td>0</td>\n",
       "      <td>...</td>\n",
       "      <td>0</td>\n",
       "      <td>0</td>\n",
       "      <td>0</td>\n",
       "      <td>0</td>\n",
       "      <td>1</td>\n",
       "      <td>0</td>\n",
       "      <td>0</td>\n",
       "      <td>0</td>\n",
       "      <td>0</td>\n",
       "      <td>0</td>\n",
       "    </tr>\n",
       "  </tbody>\n",
       "</table>\n",
       "<p>5 rows × 28 columns</p>\n",
       "</div>"
      ],
      "text/plain": [
       "   piece_count_1  difficulty_rating_1  pieces_d1  pieces_d2  pieces_d3  \\\n",
       "0            313                    2          0        313          0   \n",
       "1            861                    3          0          0        861   \n",
       "2            852                    1        852          0          0   \n",
       "3            729                    2          0        729          0   \n",
       "4            522                    2          0        522          0   \n",
       "\n",
       "   pieces_d4  avg_holdtime  pack_avg_holdtime  brand_2_Artifact  \\\n",
       "0          0     11.292932           9.488180                 1   \n",
       "1          0     17.427163          15.321017                 0   \n",
       "2          0     10.809319          14.417597                 1   \n",
       "3          0     11.797654           7.062908                 0   \n",
       "4          0     19.920049          16.936139                 0   \n",
       "\n",
       "   brand_2_DaVici  ...  brand_1_Artifact  brand_1_DaVici  brand_1_Ecru  \\\n",
       "0               0  ...                 1               0             0   \n",
       "1               0  ...                 1               0             0   \n",
       "2               0  ...                 1               0             0   \n",
       "3               0  ...                 0               0             0   \n",
       "4               0  ...                 0               0             0   \n",
       "\n",
       "   brand_1_Liberty  brand_1_Nautilus  brand_1_Other-Hand-cut  \\\n",
       "0                0                 0                       0   \n",
       "1                0                 0                       0   \n",
       "2                0                 0                       0   \n",
       "3                1                 0                       0   \n",
       "4                0                 1                       0   \n",
       "\n",
       "   brand_1_Other-Laser-cut  brand_1_Stave  brand_1_Wentworth  brand_1_unknown  \n",
       "0                        0              0                  0                0  \n",
       "1                        0              0                  0                0  \n",
       "2                        0              0                  0                0  \n",
       "3                        0              0                  0                0  \n",
       "4                        0              0                  0                0  \n",
       "\n",
       "[5 rows x 28 columns]"
      ]
     },
     "execution_count": 91,
     "metadata": {},
     "output_type": "execute_result"
    }
   ],
   "source": [
    "x_test.head()"
   ]
  },
  {
   "cell_type": "code",
   "execution_count": 92,
   "id": "03ff3423",
   "metadata": {},
   "outputs": [],
   "source": [
    "# simple linear regression\n",
    "model = LinearRegression(normalize=True)\n",
    "model.fit(x_train, y_train)  #fit the model\n",
    "pred2 = model.predict(x_test) #make prediction on test set"
   ]
  },
  {
   "cell_type": "code",
   "execution_count": 93,
   "id": "dfa5621b",
   "metadata": {},
   "outputs": [
    {
     "data": {
      "text/plain": [
       "10.0156240485335"
      ]
     },
     "execution_count": 93,
     "metadata": {},
     "output_type": "execute_result"
    }
   ],
   "source": [
    "mean_absolute_error(y_test, pred2) #calculate mae"
   ]
  },
  {
   "cell_type": "markdown",
   "id": "ddcd68f3",
   "metadata": {},
   "source": [
    "### 5.3 Decision Tree"
   ]
  },
  {
   "cell_type": "code",
   "execution_count": 94,
   "id": "db2bef90",
   "metadata": {},
   "outputs": [],
   "source": [
    "def dtree_grid_search(X,y,nfolds):\n",
    "    #create a dictionary of all values we want to test\n",
    "    param_grid = {'max_depth': [3, 5, 7, 9]}\n",
    "    # decision tree model\n",
    "    dtree_model = DecisionTreeRegressor()\n",
    "    #use gridsearch to test all values\n",
    "    dtree_gscv = GridSearchCV(dtree_model, param_grid, cv=nfolds)\n",
    "    #fit model to data\n",
    "    dtree_gscv.fit(X, y)\n",
    "    return dtree_gscv.best_params_"
   ]
  },
  {
   "cell_type": "code",
   "execution_count": 95,
   "id": "219242fe",
   "metadata": {},
   "outputs": [
    {
     "data": {
      "text/plain": [
       "{'max_depth': 5}"
      ]
     },
     "execution_count": 95,
     "metadata": {},
     "output_type": "execute_result"
    }
   ],
   "source": [
    "dtree_grid_search(X = x_train, y = y_train, nfolds = 5)"
   ]
  },
  {
   "cell_type": "code",
   "execution_count": 96,
   "id": "6a78d314",
   "metadata": {},
   "outputs": [],
   "source": [
    "model_dt = DecisionTreeRegressor(max_depth = 5,random_state=0)\n",
    "model_dt.fit(x_train, y_train)  #fit the model\n",
    "pred3 = model_dt.predict(x_test) #make prediction on test set"
   ]
  },
  {
   "cell_type": "code",
   "execution_count": 97,
   "id": "59c0dc92",
   "metadata": {},
   "outputs": [
    {
     "data": {
      "text/plain": [
       "10.021442706958428"
      ]
     },
     "execution_count": 97,
     "metadata": {},
     "output_type": "execute_result"
    }
   ],
   "source": [
    "mean_absolute_error(y_test, pred3) #calculate mae"
   ]
  },
  {
   "cell_type": "code",
   "execution_count": 98,
   "id": "1bd381d0",
   "metadata": {},
   "outputs": [],
   "source": [
    "fn = x_train.columns"
   ]
  },
  {
   "cell_type": "code",
   "execution_count": 99,
   "id": "38611496",
   "metadata": {
    "scrolled": true
   },
   "outputs": [
    {
     "data": {
      "image/png": "[encoded data removed]",
      "text/plain": [
       "<Figure size 1800x720 with 1 Axes>"
      ]
     },
     "metadata": {
      "needs_background": "light"
     },
     "output_type": "display_data"
    }
   ],
   "source": [
    "plt.figure(figsize=(25,10))\n",
    "tree.plot_tree(model_dt, feature_names = fn, filled = True, fontsize=8);\n",
    "plt.savefig('imagename.png')"
   ]
  },
  {
   "cell_type": "code",
   "execution_count": 100,
   "id": "7de29f11",
   "metadata": {},
   "outputs": [],
   "source": [
    "feats = {} # a dict to hold feature_name: feature_importance\n",
    "for feature, importance in zip(x_train.columns, model_dt.feature_importances_):\n",
    "    feats[feature] = importance #add the name/value pair \n",
    "\n",
    "importances = pd.DataFrame.from_dict(feats, orient='index').rename(columns={0: 'Gini-importance'})\n",
    "# importances.sort_values(by='Gini-importance').plot(kind='bar', rot=45)"
   ]
  },
  {
   "cell_type": "code",
   "execution_count": 104,
   "id": "45e19c64",
   "metadata": {},
   "outputs": [
    {
     "data": {
      "text/html": [
       "<div>\n",
       "<style scoped>\n",
       "    .dataframe tbody tr th:only-of-type {\n",
       "        vertical-align: middle;\n",
       "    }\n",
       "\n",
       "    .dataframe tbody tr th {\n",
       "        vertical-align: top;\n",
       "    }\n",
       "\n",
       "    .dataframe thead th {\n",
       "        text-align: right;\n",
       "    }\n",
       "</style>\n",
       "<table border=\"1\" class=\"dataframe\">\n",
       "  <thead>\n",
       "    <tr style=\"text-align: right;\">\n",
       "      <th></th>\n",
       "      <th>Gini-importance</th>\n",
       "    </tr>\n",
       "  </thead>\n",
       "  <tbody>\n",
       "    <tr>\n",
       "      <th>avg_holdtime</th>\n",
       "      <td>0.821691</td>\n",
       "    </tr>\n",
       "    <tr>\n",
       "      <th>pack_avg_holdtime</th>\n",
       "      <td>0.165223</td>\n",
       "    </tr>\n",
       "    <tr>\n",
       "      <th>pieces_d2</th>\n",
       "      <td>0.005364</td>\n",
       "    </tr>\n",
       "    <tr>\n",
       "      <th>brand_1_Other-Laser-cut</th>\n",
       "      <td>0.004331</td>\n",
       "    </tr>\n",
       "    <tr>\n",
       "      <th>brand_2_Ecru</th>\n",
       "      <td>0.002139</td>\n",
       "    </tr>\n",
       "    <tr>\n",
       "      <th>piece_count_1</th>\n",
       "      <td>0.001251</td>\n",
       "    </tr>\n",
       "    <tr>\n",
       "      <th>brand_2_Wentworth</th>\n",
       "      <td>0.000000</td>\n",
       "    </tr>\n",
       "    <tr>\n",
       "      <th>brand_1_Wentworth</th>\n",
       "      <td>0.000000</td>\n",
       "    </tr>\n",
       "    <tr>\n",
       "      <th>brand_1_Stave</th>\n",
       "      <td>0.000000</td>\n",
       "    </tr>\n",
       "    <tr>\n",
       "      <th>brand_1_Other-Hand-cut</th>\n",
       "      <td>0.000000</td>\n",
       "    </tr>\n",
       "    <tr>\n",
       "      <th>brand_1_Nautilus</th>\n",
       "      <td>0.000000</td>\n",
       "    </tr>\n",
       "    <tr>\n",
       "      <th>brand_1_Liberty</th>\n",
       "      <td>0.000000</td>\n",
       "    </tr>\n",
       "    <tr>\n",
       "      <th>brand_1_Ecru</th>\n",
       "      <td>0.000000</td>\n",
       "    </tr>\n",
       "    <tr>\n",
       "      <th>brand_1_DaVici</th>\n",
       "      <td>0.000000</td>\n",
       "    </tr>\n",
       "    <tr>\n",
       "      <th>brand_1_Artifact</th>\n",
       "      <td>0.000000</td>\n",
       "    </tr>\n",
       "    <tr>\n",
       "      <th>brand_2_unknown</th>\n",
       "      <td>0.000000</td>\n",
       "    </tr>\n",
       "    <tr>\n",
       "      <th>brand_2_Other-Laser-cut</th>\n",
       "      <td>0.000000</td>\n",
       "    </tr>\n",
       "    <tr>\n",
       "      <th>brand_2_Stave</th>\n",
       "      <td>0.000000</td>\n",
       "    </tr>\n",
       "    <tr>\n",
       "      <th>difficulty_rating_1</th>\n",
       "      <td>0.000000</td>\n",
       "    </tr>\n",
       "    <tr>\n",
       "      <th>brand_2_Other-Hand-cut</th>\n",
       "      <td>0.000000</td>\n",
       "    </tr>\n",
       "    <tr>\n",
       "      <th>brand_2_Nautilus</th>\n",
       "      <td>0.000000</td>\n",
       "    </tr>\n",
       "    <tr>\n",
       "      <th>brand_2_Liberty</th>\n",
       "      <td>0.000000</td>\n",
       "    </tr>\n",
       "    <tr>\n",
       "      <th>brand_2_DaVici</th>\n",
       "      <td>0.000000</td>\n",
       "    </tr>\n",
       "    <tr>\n",
       "      <th>brand_2_Artifact</th>\n",
       "      <td>0.000000</td>\n",
       "    </tr>\n",
       "    <tr>\n",
       "      <th>pieces_d4</th>\n",
       "      <td>0.000000</td>\n",
       "    </tr>\n",
       "    <tr>\n",
       "      <th>pieces_d3</th>\n",
       "      <td>0.000000</td>\n",
       "    </tr>\n",
       "    <tr>\n",
       "      <th>pieces_d1</th>\n",
       "      <td>0.000000</td>\n",
       "    </tr>\n",
       "    <tr>\n",
       "      <th>brand_1_unknown</th>\n",
       "      <td>0.000000</td>\n",
       "    </tr>\n",
       "  </tbody>\n",
       "</table>\n",
       "</div>"
      ],
      "text/plain": [
       "                         Gini-importance\n",
       "avg_holdtime                    0.821691\n",
       "pack_avg_holdtime               0.165223\n",
       "pieces_d2                       0.005364\n",
       "brand_1_Other-Laser-cut         0.004331\n",
       "brand_2_Ecru                    0.002139\n",
       "piece_count_1                   0.001251\n",
       "brand_2_Wentworth               0.000000\n",
       "brand_1_Wentworth               0.000000\n",
       "brand_1_Stave                   0.000000\n",
       "brand_1_Other-Hand-cut          0.000000\n",
       "brand_1_Nautilus                0.000000\n",
       "brand_1_Liberty                 0.000000\n",
       "brand_1_Ecru                    0.000000\n",
       "brand_1_DaVici                  0.000000\n",
       "brand_1_Artifact                0.000000\n",
       "brand_2_unknown                 0.000000\n",
       "brand_2_Other-Laser-cut         0.000000\n",
       "brand_2_Stave                   0.000000\n",
       "difficulty_rating_1             0.000000\n",
       "brand_2_Other-Hand-cut          0.000000\n",
       "brand_2_Nautilus                0.000000\n",
       "brand_2_Liberty                 0.000000\n",
       "brand_2_DaVici                  0.000000\n",
       "brand_2_Artifact                0.000000\n",
       "pieces_d4                       0.000000\n",
       "pieces_d3                       0.000000\n",
       "pieces_d1                       0.000000\n",
       "brand_1_unknown                 0.000000"
      ]
     },
     "execution_count": 104,
     "metadata": {},
     "output_type": "execute_result"
    }
   ],
   "source": [
    "importances.sort_values(by = 'Gini-importance', ascending=False)"
   ]
  },
  {
   "cell_type": "markdown",
   "id": "80090231",
   "metadata": {},
   "source": []
  }
 ],
 "metadata": {
  "kernelspec": {
   "display_name": "Python 3",
   "language": "python",
   "name": "python3"
  },
  "language_info": {
   "codemirror_mode": {
    "name": "ipython",
    "version": 3
   },
   "file_extension": ".py",
   "mimetype": "text/x-python",
   "name": "python",
   "nbconvert_exporter": "python",
   "pygments_lexer": "ipython3",
   "version": "3.8.8"
  }
 },
 "nbformat": 4,
 "nbformat_minor": 5
}
