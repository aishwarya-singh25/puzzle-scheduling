{
 "cells": [
  {
   "cell_type": "code",
   "execution_count": 1,
   "id": "82df84f5-2b13-4da1-b7a4-42186495dc7a",
   "metadata": {},
   "outputs": [],
   "source": [
    "import pandas as pd\n",
    "import matplotlib.pyplot as plt\n",
    "import numpy"
   ]
  },
  {
   "cell_type": "markdown",
   "id": "266ad2ee",
   "metadata": {},
   "source": [
    "## Puzzles Data Cleaning\n",
    "\n",
    "\n",
    "> Part 1. Member Info Data Clean\n",
    "\n",
    "**1. member_hold_times_and_packs.tsv**\n",
    "* `memberID` - Unique identifiers for each person\n",
    "* `holdtime` - number of days the person had the pack\n",
    "* `puzzlepack` - name of the pack (may have more than 1 puzzle per pack)"
   ]
  },
  {
   "cell_type": "code",
   "execution_count": 2,
   "id": "acf925af-cdbe-40e5-be9e-e239f94d1dc0",
   "metadata": {},
   "outputs": [
    {
     "data": {
      "text/html": [
       "<div>\n",
       "<style scoped>\n",
       "    .dataframe tbody tr th:only-of-type {\n",
       "        vertical-align: middle;\n",
       "    }\n",
       "\n",
       "    .dataframe tbody tr th {\n",
       "        vertical-align: top;\n",
       "    }\n",
       "\n",
       "    .dataframe thead th {\n",
       "        text-align: right;\n",
       "    }\n",
       "</style>\n",
       "<table border=\"1\" class=\"dataframe\">\n",
       "  <thead>\n",
       "    <tr style=\"text-align: right;\">\n",
       "      <th></th>\n",
       "      <th>member</th>\n",
       "      <th>hold_time</th>\n",
       "      <th>pack_name</th>\n",
       "    </tr>\n",
       "  </thead>\n",
       "  <tbody>\n",
       "    <tr>\n",
       "      <th>0</th>\n",
       "      <td>member1</td>\n",
       "      <td>2.939411</td>\n",
       "      <td>Artifact Puzzles Justin Hillgrove Word Travels...</td>\n",
       "    </tr>\n",
       "    <tr>\n",
       "      <th>1</th>\n",
       "      <td>member1</td>\n",
       "      <td>0.998885</td>\n",
       "      <td>DaVici Puzzles Full Moon Feast DaVici Puzzles ...</td>\n",
       "    </tr>\n",
       "    <tr>\n",
       "      <th>2</th>\n",
       "      <td>member1</td>\n",
       "      <td>10.865032</td>\n",
       "      <td>DaVici Puzzles Flying Frigate DaVici Puzzles H...</td>\n",
       "    </tr>\n",
       "    <tr>\n",
       "      <th>3</th>\n",
       "      <td>member1</td>\n",
       "      <td>22.083971</td>\n",
       "      <td>Liberty Puzzles Haeckel Hummingbirds Nautilus ...</td>\n",
       "    </tr>\n",
       "    <tr>\n",
       "      <th>4</th>\n",
       "      <td>member1</td>\n",
       "      <td>5.077603</td>\n",
       "      <td>DaVici Puzzles Diana Zimens City Of Cats</td>\n",
       "    </tr>\n",
       "  </tbody>\n",
       "</table>\n",
       "</div>"
      ],
      "text/plain": [
       "    member  hold_time                                          pack_name\n",
       "0  member1   2.939411  Artifact Puzzles Justin Hillgrove Word Travels...\n",
       "1  member1   0.998885  DaVici Puzzles Full Moon Feast DaVici Puzzles ...\n",
       "2  member1  10.865032  DaVici Puzzles Flying Frigate DaVici Puzzles H...\n",
       "3  member1  22.083971  Liberty Puzzles Haeckel Hummingbirds Nautilus ...\n",
       "4  member1   5.077603          DaVici Puzzles Diana Zimens City Of Cats "
      ]
     },
     "execution_count": 2,
     "metadata": {},
     "output_type": "execute_result"
    }
   ],
   "source": [
    "# Import and preview members data\n",
    "member_df = pd.read_csv(\"data/member_hold_times_and_packs.tsv\", sep='\\t', header=None, names=[\"member\", 'hold_time', 'pack_name'])\n",
    "member_df.head()"
   ]
  },
  {
   "cell_type": "code",
   "execution_count": 3,
   "id": "55aabaf1-0002-45d0-b43c-95338c50fbcc",
   "metadata": {},
   "outputs": [
    {
     "data": {
      "text/plain": [
       "member       0\n",
       "hold_time    0\n",
       "pack_name    0\n",
       "dtype: int64"
      ]
     },
     "execution_count": 3,
     "metadata": {},
     "output_type": "execute_result"
    }
   ],
   "source": [
    "# Number of null values\n",
    "member_df[member_df['pack_name'].isna()]\n",
    "member_df.isnull().sum()"
   ]
  },
  {
   "cell_type": "markdown",
   "id": "d05427cb",
   "metadata": {},
   "source": [
    "- No missing values in the data\n",
    "- We have information about 675 members and 910 unique puzzle packs"
   ]
  },
  {
   "cell_type": "markdown",
   "id": "2c1c93c5-f4e3-47ce-9506-28dc3f6a5134",
   "metadata": {},
   "source": [
    "#### Remove outliers\n",
    "\n",
    "- Hold times $< 0.1$ are an artifact of their DB def wrong\n",
    "- Hold times $> 200$ days could be real but are probably noise"
   ]
  },
  {
   "cell_type": "code",
   "execution_count": 4,
   "id": "32b42019-8607-4068-bbf5-b87f3c008674",
   "metadata": {},
   "outputs": [
    {
     "name": "stdout",
     "output_type": "stream",
     "text": [
      "Hold times < 0.1 | 100\n",
      "Hold times > 200 | 114\n",
      "Hold times Total | 18141\n"
     ]
    }
   ],
   "source": [
    "print(\"Hold times < 0.1 |\", len(member_df[member_df.hold_time < 0.1]))\n",
    "print(\"Hold times > 200 |\", len(member_df[member_df.hold_time > 200]))\n",
    "print(\"Hold times Total |\", len(member_df))"
   ]
  },
  {
   "cell_type": "code",
   "execution_count": 5,
   "id": "c072b6d6-89b8-4470-845d-5aa9ef00a059",
   "metadata": {},
   "outputs": [
    {
     "name": "stdout",
     "output_type": "stream",
     "text": [
      "<class 'pandas.core.frame.DataFrame'>\n",
      "Int64Index: 17927 entries, 0 to 18140\n",
      "Data columns (total 3 columns):\n",
      " #   Column     Non-Null Count  Dtype  \n",
      "---  ------     --------------  -----  \n",
      " 0   member     17927 non-null  object \n",
      " 1   hold_time  17927 non-null  float64\n",
      " 2   pack_name  17927 non-null  object \n",
      "dtypes: float64(1), object(2)\n",
      "memory usage: 560.2+ KB\n"
     ]
    }
   ],
   "source": [
    "member = member_df[(member_df.hold_time >= 0.1) & (member_df.hold_time <= 200)]\n",
    "member.info()"
   ]
  },
  {
   "cell_type": "code",
   "execution_count": 6,
   "id": "79e42fed-27fb-4526-9b55-f727299951e3",
   "metadata": {},
   "outputs": [],
   "source": [
    "# Save data to csv file\n",
    "member.to_csv(\"data/member_cleaned.csv\", index = False)"
   ]
  },
  {
   "cell_type": "markdown",
   "id": "aaab5ef0-58d5-4f02-bb67-210fb276087a",
   "metadata": {},
   "source": [
    "#### Thoughts:\n",
    "\n",
    "- Without the dates the members got the packs, we can only rely on overall dist of user behavior\n",
    "- Signal such as seasonality and trends in user behavior are lost\n",
    "- We can't forcast \"number of packs in $N$ days\" with this info\n",
    "- From this info we can at best predict \"expected hold time for user $X$ and pack $Y$\""
   ]
  },
  {
   "cell_type": "markdown",
   "id": "1084e4ed",
   "metadata": {},
   "source": [
    "----------------------------------------------------\n",
    "\n",
    "## Packs Data Cleaning\n",
    "\n",
    "> Part 2. Initial Packs Data Clean\n",
    "\n",
    "\n",
    "**2. packs.tsv**\n",
    "* `pack_name` - name of the pack (may have more than 1 puzzle per pack)\n",
    "* `brand` - brand name of puzzle pack\n",
    "* `piece_count` - number of pieces in puzzle\n",
    "* `difficulty_rating` - difficulty rating for puzzle"
   ]
  },
  {
   "cell_type": "code",
   "execution_count": 7,
   "id": "2a8d5750",
   "metadata": {},
   "outputs": [
    {
     "data": {
      "text/html": [
       "<div>\n",
       "<style scoped>\n",
       "    .dataframe tbody tr th:only-of-type {\n",
       "        vertical-align: middle;\n",
       "    }\n",
       "\n",
       "    .dataframe tbody tr th {\n",
       "        vertical-align: top;\n",
       "    }\n",
       "\n",
       "    .dataframe thead th {\n",
       "        text-align: right;\n",
       "    }\n",
       "</style>\n",
       "<table border=\"1\" class=\"dataframe\">\n",
       "  <thead>\n",
       "    <tr style=\"text-align: right;\">\n",
       "      <th></th>\n",
       "      <th>pack_name</th>\n",
       "      <th>brand_all</th>\n",
       "      <th>piece_count_all</th>\n",
       "      <th>difficulty_all</th>\n",
       "    </tr>\n",
       "  </thead>\n",
       "  <tbody>\n",
       "    <tr>\n",
       "      <th>0</th>\n",
       "      <td>Anne Belle Thompson The Mikado Anne Belle Thom...</td>\n",
       "      <td>Other-Hand-cut</td>\n",
       "      <td>387,242</td>\n",
       "      <td>Average,Average</td>\n",
       "    </tr>\n",
       "    <tr>\n",
       "      <th>1</th>\n",
       "      <td>Anthology Puzzles Alphonse Mucha La Plume Anth...</td>\n",
       "      <td>NaN</td>\n",
       "      <td>320,160</td>\n",
       "      <td>Average,Average</td>\n",
       "    </tr>\n",
       "    <tr>\n",
       "      <th>2</th>\n",
       "      <td>Anthology Puzzles Colorful Cat Anthology Puzzl...</td>\n",
       "      <td>NaN</td>\n",
       "      <td>150,170</td>\n",
       "      <td>Average,Average</td>\n",
       "    </tr>\n",
       "    <tr>\n",
       "      <th>3</th>\n",
       "      <td>Anthology Puzzles Framed American Gothic Antho...</td>\n",
       "      <td>NaN</td>\n",
       "      <td>320,300</td>\n",
       "      <td>Average,Average</td>\n",
       "    </tr>\n",
       "    <tr>\n",
       "      <th>4</th>\n",
       "      <td>Anthology Puzzles Over The Moon Anthology Puzz...</td>\n",
       "      <td>NaN</td>\n",
       "      <td>278,177</td>\n",
       "      <td>Hard,A-Easy</td>\n",
       "    </tr>\n",
       "  </tbody>\n",
       "</table>\n",
       "</div>"
      ],
      "text/plain": [
       "                                           pack_name       brand_all  \\\n",
       "0  Anne Belle Thompson The Mikado Anne Belle Thom...  Other-Hand-cut   \n",
       "1  Anthology Puzzles Alphonse Mucha La Plume Anth...             NaN   \n",
       "2  Anthology Puzzles Colorful Cat Anthology Puzzl...             NaN   \n",
       "3  Anthology Puzzles Framed American Gothic Antho...             NaN   \n",
       "4  Anthology Puzzles Over The Moon Anthology Puzz...             NaN   \n",
       "\n",
       "  piece_count_all   difficulty_all  \n",
       "0         387,242  Average,Average  \n",
       "1         320,160  Average,Average  \n",
       "2         150,170  Average,Average  \n",
       "3         320,300  Average,Average  \n",
       "4         278,177      Hard,A-Easy  "
      ]
     },
     "execution_count": 7,
     "metadata": {},
     "output_type": "execute_result"
    }
   ],
   "source": [
    "# Import and preview packs data\n",
    "col_names = ['pack_name', 'brand_all', 'piece_count_all', 'difficulty_all']\n",
    "packs_df = pd.read_csv(\"data/packs_Jan14_better.tsv\", sep= \"\\t\", header = None, names = col_names)\n",
    "packs_df.head()"
   ]
  },
  {
   "cell_type": "code",
   "execution_count": 8,
   "id": "f8fc1d65",
   "metadata": {},
   "outputs": [
    {
     "data": {
      "text/plain": [
       "pack_name            0\n",
       "brand_all          108\n",
       "piece_count_all     82\n",
       "difficulty_all      80\n",
       "dtype: int64"
      ]
     },
     "execution_count": 8,
     "metadata": {},
     "output_type": "execute_result"
    }
   ],
   "source": [
    "# Number of null values\n",
    "packs_df.isnull().sum()"
   ]
  },
  {
   "cell_type": "markdown",
   "id": "89a19937",
   "metadata": {},
   "source": [
    "Separate columns into \n",
    "- `pack_name`, `brand_0`, `brand_1`, `piece_count_0`, `piece_count_1`, `difficulty_0`, `difficulty_1`"
   ]
  },
  {
   "cell_type": "code",
   "execution_count": 9,
   "id": "cc3ded57",
   "metadata": {},
   "outputs": [],
   "source": [
    "# Split brands\n",
    "brands_split = packs_df['brand_all'].str.split(',', n=1, expand=True).rename(columns={0:'brand_0', 1:'brand_1'})\n",
    "\n",
    "# Split pieces\n",
    "piece_count_split = packs_df['piece_count_all'].str.split(',', n=1, expand=True).rename(columns={0:'piece_count_0', 1:'piece_count_1'})\n",
    "\n",
    "# Split difficulty\n",
    "diff_split = packs_df['difficulty_all'].str.split(',', n=1, expand=True).rename(columns={0:'diff_0', 1:'diff_1'})"
   ]
  },
  {
   "cell_type": "markdown",
   "id": "e63daafe",
   "metadata": {},
   "source": [
    "Add separated columns to dataframe"
   ]
  },
  {
   "cell_type": "code",
   "execution_count": 10,
   "id": "4f0843b7",
   "metadata": {},
   "outputs": [
    {
     "data": {
      "text/html": [
       "<div>\n",
       "<style scoped>\n",
       "    .dataframe tbody tr th:only-of-type {\n",
       "        vertical-align: middle;\n",
       "    }\n",
       "\n",
       "    .dataframe tbody tr th {\n",
       "        vertical-align: top;\n",
       "    }\n",
       "\n",
       "    .dataframe thead th {\n",
       "        text-align: right;\n",
       "    }\n",
       "</style>\n",
       "<table border=\"1\" class=\"dataframe\">\n",
       "  <thead>\n",
       "    <tr style=\"text-align: right;\">\n",
       "      <th></th>\n",
       "      <th>pack_name</th>\n",
       "      <th>brand_0</th>\n",
       "      <th>brand_1</th>\n",
       "      <th>piece_count_0</th>\n",
       "      <th>piece_count_1</th>\n",
       "      <th>diff_0</th>\n",
       "      <th>diff_1</th>\n",
       "      <th>num_puzzles</th>\n",
       "    </tr>\n",
       "  </thead>\n",
       "  <tbody>\n",
       "    <tr>\n",
       "      <th>0</th>\n",
       "      <td>Anne Belle Thompson The Mikado Anne Belle Thom...</td>\n",
       "      <td>Other-Hand-cut</td>\n",
       "      <td>None</td>\n",
       "      <td>387</td>\n",
       "      <td>242</td>\n",
       "      <td>Average</td>\n",
       "      <td>Average</td>\n",
       "      <td>2</td>\n",
       "    </tr>\n",
       "    <tr>\n",
       "      <th>1</th>\n",
       "      <td>Anthology Puzzles Alphonse Mucha La Plume Anth...</td>\n",
       "      <td>NaN</td>\n",
       "      <td>NaN</td>\n",
       "      <td>320</td>\n",
       "      <td>160</td>\n",
       "      <td>Average</td>\n",
       "      <td>Average</td>\n",
       "      <td>2</td>\n",
       "    </tr>\n",
       "    <tr>\n",
       "      <th>2</th>\n",
       "      <td>Anthology Puzzles Colorful Cat Anthology Puzzl...</td>\n",
       "      <td>NaN</td>\n",
       "      <td>NaN</td>\n",
       "      <td>150</td>\n",
       "      <td>170</td>\n",
       "      <td>Average</td>\n",
       "      <td>Average</td>\n",
       "      <td>2</td>\n",
       "    </tr>\n",
       "    <tr>\n",
       "      <th>3</th>\n",
       "      <td>Anthology Puzzles Framed American Gothic Antho...</td>\n",
       "      <td>NaN</td>\n",
       "      <td>NaN</td>\n",
       "      <td>320</td>\n",
       "      <td>300</td>\n",
       "      <td>Average</td>\n",
       "      <td>Average</td>\n",
       "      <td>2</td>\n",
       "    </tr>\n",
       "    <tr>\n",
       "      <th>4</th>\n",
       "      <td>Anthology Puzzles Over The Moon Anthology Puzz...</td>\n",
       "      <td>NaN</td>\n",
       "      <td>NaN</td>\n",
       "      <td>278</td>\n",
       "      <td>177</td>\n",
       "      <td>Hard</td>\n",
       "      <td>A-Easy</td>\n",
       "      <td>2</td>\n",
       "    </tr>\n",
       "  </tbody>\n",
       "</table>\n",
       "</div>"
      ],
      "text/plain": [
       "                                           pack_name         brand_0 brand_1  \\\n",
       "0  Anne Belle Thompson The Mikado Anne Belle Thom...  Other-Hand-cut    None   \n",
       "1  Anthology Puzzles Alphonse Mucha La Plume Anth...             NaN     NaN   \n",
       "2  Anthology Puzzles Colorful Cat Anthology Puzzl...             NaN     NaN   \n",
       "3  Anthology Puzzles Framed American Gothic Antho...             NaN     NaN   \n",
       "4  Anthology Puzzles Over The Moon Anthology Puzz...             NaN     NaN   \n",
       "\n",
       "  piece_count_0 piece_count_1   diff_0   diff_1  num_puzzles  \n",
       "0           387           242  Average  Average            2  \n",
       "1           320           160  Average  Average            2  \n",
       "2           150           170  Average  Average            2  \n",
       "3           320           300  Average  Average            2  \n",
       "4           278           177     Hard   A-Easy            2  "
      ]
     },
     "execution_count": 10,
     "metadata": {},
     "output_type": "execute_result"
    }
   ],
   "source": [
    "# load data into a DataFrame object:\n",
    "packs_split = packs_df.join([brands_split, piece_count_split, diff_split])\n",
    "\n",
    "# Drop columns\n",
    "packs_split = packs_split.drop(['brand_all', 'piece_count_all', 'difficulty_all'], axis=1)\n",
    "\n",
    "# Get number of puzzles in pack\n",
    "packs_split['num_puzzles'] = packs_df['pack_name'].map(lambda n: 1 if (n[-1] == ' ') else 2, na_action='ignore')\n",
    "packs_split.head()"
   ]
  },
  {
   "cell_type": "code",
   "execution_count": 11,
   "id": "08925cb6",
   "metadata": {},
   "outputs": [],
   "source": [
    "# Save cleaned dataframe to csv file\n",
    "packs_split[packs_split['pack_name'].duplicated(keep = False)]\n",
    "packs_split.to_csv(\"data/packs_cleaned.csv\")"
   ]
  },
  {
   "cell_type": "markdown",
   "id": "c25af70b",
   "metadata": {},
   "source": [
    "> Part 3. Remove NA Values"
   ]
  },
  {
   "cell_type": "code",
   "execution_count": 12,
   "id": "56b77396",
   "metadata": {},
   "outputs": [
    {
     "name": "stdout",
     "output_type": "stream",
     "text": [
      "NA pack name: 0 \n",
      "NA brand 0: 108 | NA brand 1: 797 \n",
      "NA piece count 0: 82 | NA piece count 1: 241 \n",
      "NA difficulty: 80 | NA difficulty: 82\n"
     ]
    }
   ],
   "source": [
    "# Find and count missing values\n",
    "na_names = packs_split[packs_split['pack_name'].isna()]\n",
    "na_brand_0 = packs_split[packs_split['brand_0'].isna()]\n",
    "na_brand_1 = packs_split[packs_split['brand_1'].isna()]\n",
    "na_piece_0 = packs_split[packs_split['piece_count_0'].isna()]\n",
    "na_piece_1 = packs_split[packs_split['piece_count_1'].isna()]\n",
    "na_diff_0 = packs_split[packs_split['diff_0'].isna()]\n",
    "na_diff_1 = packs_split[packs_split['diff_1'].isna()]\n",
    "\n",
    "print(\"NA pack name:\", len(na_names), \n",
    "      \"\\nNA brand 0:\", len(na_brand_0), \"| NA brand 1:\", len(na_brand_1),\n",
    "      \"\\nNA piece count 0:\", len(na_piece_0), \"| NA piece count 1:\", len(na_piece_1), \n",
    "      \"\\nNA difficulty:\", len(na_diff_0), \"| NA difficulty:\", len(na_diff_1))"
   ]
  },
  {
   "cell_type": "code",
   "execution_count": 13,
   "id": "a6525275",
   "metadata": {},
   "outputs": [],
   "source": [
    "# Convert piece_count values to integers\n",
    "packs_split = packs_split.astype({'piece_count_0': 'int64', 'piece_count_1': 'int64'}, errors='ignore')"
   ]
  },
  {
   "cell_type": "code",
   "execution_count": 14,
   "id": "528ede72",
   "metadata": {},
   "outputs": [],
   "source": [
    "# Drop rows that have no data across all columns\n",
    "packs_filtered = packs_split.dropna(subset = ['brand_0', 'brand_1', 'piece_count_0', 'piece_count_1', 'diff_0', 'diff_1'], how='all')"
   ]
  },
  {
   "cell_type": "markdown",
   "id": "d5b0ab73",
   "metadata": {},
   "source": [
    "Some single puzzle packs have a 2 puzzle piece counts -- update to 2 puzzle packs\n"
   ]
  },
  {
   "cell_type": "code",
   "execution_count": 15,
   "id": "978a9f84",
   "metadata": {},
   "outputs": [],
   "source": [
    "# Some 1 puzzle packs have a second number for pieces, this seems to be legit, updating to be 2 puzzle packs\n",
    "packs_filtered.loc[((packs_filtered['num_puzzles'] == 1) & \n",
    "                    (packs_filtered['piece_count_1'].notna())), 'num_puzzles'] = 2"
   ]
  },
  {
   "cell_type": "code",
   "execution_count": 16,
   "id": "9875bb6a",
   "metadata": {},
   "outputs": [],
   "source": [
    "# Could just drop the 2 puzzle rows that don't have full piece info?\n",
    "packs_filtered_2 = packs_filtered[~(packs_filtered['num_puzzles'] == 2 & \n",
    "                                    packs_filtered['piece_count_1'].isna())]\n"
   ]
  },
  {
   "cell_type": "code",
   "execution_count": 17,
   "id": "f676a75d",
   "metadata": {},
   "outputs": [],
   "source": [
    "# packs_filtered_2.to_csv(\"data/packs_cleaned_dropna.csv\")\n",
    "packs_filtered_2.to_csv(\"data/packs_cleaned_dropna.csv\",index = False)"
   ]
  }
 ],
 "metadata": {
  "kernelspec": {
   "display_name": "Python 3 (ipykernel)",
   "language": "python",
   "name": "python3"
  },
  "language_info": {
   "codemirror_mode": {
    "name": "ipython",
    "version": 3
   },
   "file_extension": ".py",
   "mimetype": "text/x-python",
   "name": "python",
   "nbconvert_exporter": "python",
   "pygments_lexer": "ipython3",
   "version": "3.9.12"
  }
 },
 "nbformat": 4,
 "nbformat_minor": 5
}
