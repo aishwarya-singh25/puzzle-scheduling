{
 "cells": [
  {
   "cell_type": "markdown",
   "id": "8171f7c0",
   "metadata": {},
   "source": [
    "# Notebook Structure"
   ]
  },
  {
   "cell_type": "markdown",
   "id": "cb0f97a2",
   "metadata": {},
   "source": [
    "1. Data Cleaning\n",
    "        1.1 Members data\n",
    "        1.2 Packs data\n",
    "        1.3 Merged data \n",
    "        1.4 *Dealing with nulls!!!\n",
    "        \n",
    "2. Train-Test-Validation sets -- skipped for now\n",
    "\n",
    "3. Feature Engineering\n",
    "\n",
    "4. Feature Importance\n",
    "        4.1 OLS Model on complete data\n",
    "        4.2 LR Model on complete data\n",
    "        4.3 DT Model on complete data\n",
    "        4.4 RF Model on complete data\n",
    "        4.5 Table representing MAE\n",
    "        4.6 Table representing feature importance\n",
    "\n",
    "5. Final Models per person\n",
    "        5.1 LR model per person\n",
    "        5.2 DT model per person\n",
    "        5.3 RF model per person"
   ]
  },
  {
   "cell_type": "markdown",
   "id": "546d40e8",
   "metadata": {},
   "source": [
    "# 1. Data Cleaning"
   ]
  },
  {
   "cell_type": "code",
   "execution_count": 3,
   "id": "4d9358c4",
   "metadata": {},
   "outputs": [],
   "source": [
    "import pandas as pd\n",
    "import numpy as np\n",
    "import math\n",
    "import matplotlib.pyplot as plt\n",
    "import seaborn as sns\n",
    "\n",
    "import warnings\n",
    "warnings.filterwarnings(\"ignore\")"
   ]
  },
  {
   "cell_type": "code",
   "execution_count": 4,
   "id": "ef159868",
   "metadata": {},
   "outputs": [],
   "source": [
    "from sklearn.model_selection import train_test_split\n",
    "from sklearn.linear_model import LinearRegression\n",
    "from sklearn.tree import DecisionTreeRegressor\n",
    "from sklearn.ensemble import RandomForestRegressor\n",
    "from sklearn.metrics import mean_squared_error, mean_absolute_error\n",
    "from sklearn.model_selection import GridSearchCV\n",
    "from sklearn import tree"
   ]
  },
  {
   "cell_type": "code",
   "execution_count": 5,
   "id": "d49bed5c",
   "metadata": {},
   "outputs": [],
   "source": [
    "path = '/Users/aishwaryasingh/PuzzleSchedulingProject/puzzle-scheduling/data/'"
   ]
  },
  {
   "cell_type": "markdown",
   "id": "7cfe20b6",
   "metadata": {},
   "source": [
    "# Loading cleaned data"
   ]
  },
  {
   "cell_type": "code",
   "execution_count": 8,
   "id": "b8f2dbaf",
   "metadata": {},
   "outputs": [],
   "source": [
    "df_features_combined = pd.read_csv(path+'df_features_combined.csv')"
   ]
  },
  {
   "cell_type": "code",
   "execution_count": 9,
   "id": "25e15eba",
   "metadata": {},
   "outputs": [
    {
     "data": {
      "text/plain": [
       "(19387, 16)"
      ]
     },
     "execution_count": 9,
     "metadata": {},
     "output_type": "execute_result"
    }
   ],
   "source": [
    "df_features_combined.shape"
   ]
  },
  {
   "cell_type": "markdown",
   "id": "411d544e",
   "metadata": {},
   "source": [
    "### 1.1 Members Data"
   ]
  },
  {
   "cell_type": "code",
   "execution_count": 4,
   "id": "eac5bb4e",
   "metadata": {},
   "outputs": [
    {
     "data": {
      "text/plain": [
       "(19733, 3)"
      ]
     },
     "execution_count": 4,
     "metadata": {},
     "output_type": "execute_result"
    }
   ],
   "source": [
    "member_holdtime_df = pd.read_csv(path+'member_hold_times_and_packs_Feb16_2023.tsv', \n",
    "                                 sep='\\t', header=None)\n",
    "member_holdtime_df.columns = ['memberID', 'holdtime', 'puzzlepack']\n",
    "member_holdtime_df.shape"
   ]
  },
  {
   "cell_type": "code",
   "execution_count": 5,
   "id": "7356f566",
   "metadata": {},
   "outputs": [
    {
     "data": {
      "text/plain": [
       "memberID      0\n",
       "holdtime      0\n",
       "puzzlepack    0\n",
       "dtype: int64"
      ]
     },
     "execution_count": 5,
     "metadata": {},
     "output_type": "execute_result"
    }
   ],
   "source": [
    "member_holdtime_df.isnull().sum()"
   ]
  },
  {
   "cell_type": "code",
   "execution_count": 6,
   "id": "07c920d8",
   "metadata": {},
   "outputs": [],
   "source": [
    "# removing outliers\n",
    "member_holdtime_df = member_holdtime_df[(member_holdtime_df['holdtime'] >= 0.1) & \n",
    "                                        (member_holdtime_df['holdtime'] <= 150)]"
   ]
  },
  {
   "cell_type": "markdown",
   "id": "aee5bdac",
   "metadata": {},
   "source": [
    "### 1.2 Packs Data"
   ]
  },
  {
   "cell_type": "code",
   "execution_count": 7,
   "id": "d4634df0",
   "metadata": {},
   "outputs": [
    {
     "data": {
      "text/plain": [
       "(920, 4)"
      ]
     },
     "execution_count": 7,
     "metadata": {},
     "output_type": "execute_result"
    }
   ],
   "source": [
    "packs_df = pd.read_csv(path + 'packs_Feb16_2023.tsv', sep='\\t', header=None)\n",
    "packs_df.columns = ['pack_name', 'brand', 'piece_count', 'difficulty_rating']\n",
    "packs_df.shape"
   ]
  },
  {
   "cell_type": "code",
   "execution_count": 8,
   "id": "6230ee49",
   "metadata": {},
   "outputs": [],
   "source": [
    "# making two coulmns for piece count\n",
    "packs_df['piece_count_1'] = packs_df['piece_count'].str.split(',', expand=True)[0]\n",
    "packs_df['piece_count_2'] = packs_df['piece_count'].str.split(',', expand=True)[1]\n",
    "# making two columns for difficulty\n",
    "packs_df['difficulty_rating_1'] = packs_df['difficulty_rating'].str.split(',', expand=True)[0]\n",
    "packs_df['difficulty_rating_2'] = packs_df['difficulty_rating'].str.split(',', expand=True)[1]"
   ]
  },
  {
   "cell_type": "code",
   "execution_count": 9,
   "id": "c9c865eb",
   "metadata": {},
   "outputs": [],
   "source": [
    "# splitting brand name\n",
    "packs_df['brand_2'] = packs_df['brand'].str.split(',', expand=True)[1]\n",
    "packs_df['brand_1'] = packs_df['brand'].str.split(',', expand=True)[0]"
   ]
  },
  {
   "cell_type": "code",
   "execution_count": 10,
   "id": "6ba0289e",
   "metadata": {},
   "outputs": [],
   "source": [
    "# adding number of puzzles feature\n",
    "packs_df['num_puzzles'] = packs_df['pack_name'].map(lambda n: 1 if (n[-1] == ' ') else 2, na_action='ignore')"
   ]
  },
  {
   "cell_type": "code",
   "execution_count": 11,
   "id": "fd41b929",
   "metadata": {},
   "outputs": [],
   "source": [
    "# fixing datatype\n",
    "packs_df = packs_df.astype({'piece_count_1': 'int64', 'piece_count_2': 'int64'}, errors='ignore')"
   ]
  },
  {
   "cell_type": "code",
   "execution_count": 12,
   "id": "f85c15d1",
   "metadata": {},
   "outputs": [],
   "source": [
    "# dropping the initial variables\n",
    "packs_df.drop(['brand', 'piece_count', 'difficulty_rating'], axis=1, inplace=True)"
   ]
  },
  {
   "cell_type": "code",
   "execution_count": 13,
   "id": "16d622d8",
   "metadata": {},
   "outputs": [
    {
     "data": {
      "text/plain": [
       "pack_name                0\n",
       "piece_count_1            8\n",
       "piece_count_2          181\n",
       "difficulty_rating_1      4\n",
       "difficulty_rating_2      4\n",
       "brand_2                775\n",
       "brand_1                 25\n",
       "num_puzzles              0\n",
       "dtype: int64"
      ]
     },
     "execution_count": 13,
     "metadata": {},
     "output_type": "execute_result"
    }
   ],
   "source": [
    "packs_df.isnull().sum()"
   ]
  },
  {
   "cell_type": "code",
   "execution_count": 15,
   "id": "15b61b65",
   "metadata": {},
   "outputs": [],
   "source": [
    "# making the brand_2 same as brand_1\n",
    "# ------ must be done only for puzzle = 2, right?\n",
    "packs_df.loc[(packs_df['brand_2'].isna()), 'brand_2'] = packs_df['brand_1']"
   ]
  },
  {
   "cell_type": "code",
   "execution_count": 16,
   "id": "e5cd081d",
   "metadata": {},
   "outputs": [],
   "source": [
    "packs_df[['brand_1', 'brand_2']] = packs_df[['brand_1', 'brand_2']].fillna('unknown')"
   ]
  },
  {
   "cell_type": "code",
   "execution_count": 17,
   "id": "ebb6c87d",
   "metadata": {},
   "outputs": [],
   "source": [
    "# Some 1 puzzle packs have a second number for pieces, this seems to be legit, updating to be 2 puzzle packs\n",
    "packs_df.loc[((packs_df.num_puzzles == 1) & (packs_df.piece_count_2.notna())), 'num_puzzles'] = 2"
   ]
  },
  {
   "cell_type": "code",
   "execution_count": 18,
   "id": "d5459e84",
   "metadata": {},
   "outputs": [],
   "source": [
    "packs_df.piece_count_1 = packs_df.piece_count_1.astype('float').astype('Int64')\n",
    "packs_df.piece_count_2 = packs_df.piece_count_2.astype('float').astype('Int64')\n",
    "\n",
    "avg_pc1 = packs_df['piece_count_1'].median()\n",
    "avg_pc2 = packs_df['piece_count_2'].median()"
   ]
  },
  {
   "cell_type": "code",
   "execution_count": 19,
   "id": "38e4c2e2",
   "metadata": {},
   "outputs": [],
   "source": [
    "# puzzles which have no value for piece_1 is replaced with avg values\n",
    "packs_df['piece_count_1'].fillna(avg_pc1, inplace=True)"
   ]
  },
  {
   "cell_type": "code",
   "execution_count": 20,
   "id": "a19a8ece",
   "metadata": {},
   "outputs": [],
   "source": [
    "# if 2 puzzles and second piececount is not available, replace with average\n",
    "packs_df.loc[((packs_df['piece_count_2'].isna() ) &(packs_df['num_puzzles'] ==2)), 'piece_count_2'] = int(avg_pc2)"
   ]
  },
  {
   "cell_type": "code",
   "execution_count": 21,
   "id": "10d2d338",
   "metadata": {},
   "outputs": [],
   "source": [
    "# puzzles with no second piece_count, make second piece count 0 \n",
    "# (because num_puzzle = 2 was dealt with earlier)\n",
    "packs_df.loc[(packs_df['piece_count_2'].isna()) & (packs_df['num_puzzles'] ==1), 'piece_count_2'] = int(0)"
   ]
  },
  {
   "cell_type": "code",
   "execution_count": 22,
   "id": "433f63ca",
   "metadata": {},
   "outputs": [
    {
     "data": {
      "text/plain": [
       "pack_name              0\n",
       "piece_count_1          0\n",
       "piece_count_2          0\n",
       "difficulty_rating_1    4\n",
       "difficulty_rating_2    4\n",
       "brand_2                0\n",
       "brand_1                0\n",
       "num_puzzles            0\n",
       "dtype: int64"
      ]
     },
     "execution_count": 22,
     "metadata": {},
     "output_type": "execute_result"
    }
   ],
   "source": [
    "packs_df.isnull().sum()"
   ]
  },
  {
   "cell_type": "code",
   "execution_count": 23,
   "id": "aaebb441",
   "metadata": {},
   "outputs": [],
   "source": [
    "packs_df['difficulty_rating_1'].fillna('Average', inplace=True)\n",
    "packs_df['difficulty_rating_2'].fillna('Average', inplace=True)"
   ]
  },
  {
   "cell_type": "markdown",
   "id": "dfb4cb56",
   "metadata": {},
   "source": [
    "### 1.3 Merged data"
   ]
  },
  {
   "cell_type": "code",
   "execution_count": 24,
   "id": "f95473b8",
   "metadata": {},
   "outputs": [
    {
     "data": {
      "text/html": [
       "<div>\n",
       "<style scoped>\n",
       "    .dataframe tbody tr th:only-of-type {\n",
       "        vertical-align: middle;\n",
       "    }\n",
       "\n",
       "    .dataframe tbody tr th {\n",
       "        vertical-align: top;\n",
       "    }\n",
       "\n",
       "    .dataframe thead th {\n",
       "        text-align: right;\n",
       "    }\n",
       "</style>\n",
       "<table border=\"1\" class=\"dataframe\">\n",
       "  <thead>\n",
       "    <tr style=\"text-align: right;\">\n",
       "      <th></th>\n",
       "      <th>memberID</th>\n",
       "      <th>holdtime</th>\n",
       "      <th>puzzlepack</th>\n",
       "      <th>pack_name</th>\n",
       "      <th>piece_count_1</th>\n",
       "      <th>piece_count_2</th>\n",
       "      <th>difficulty_rating_1</th>\n",
       "      <th>difficulty_rating_2</th>\n",
       "      <th>brand_2</th>\n",
       "      <th>brand_1</th>\n",
       "      <th>num_puzzles</th>\n",
       "    </tr>\n",
       "  </thead>\n",
       "  <tbody>\n",
       "    <tr>\n",
       "      <th>0</th>\n",
       "      <td>member1</td>\n",
       "      <td>2.939411</td>\n",
       "      <td>Artifact Puzzles Justin Hillgrove Word Travels...</td>\n",
       "      <td>Artifact Puzzles Justin Hillgrove Word Travels...</td>\n",
       "      <td>456</td>\n",
       "      <td>548</td>\n",
       "      <td>A-Easy</td>\n",
       "      <td>Average</td>\n",
       "      <td>Artifact</td>\n",
       "      <td>Artifact</td>\n",
       "      <td>2.0</td>\n",
       "    </tr>\n",
       "    <tr>\n",
       "      <th>1</th>\n",
       "      <td>member1</td>\n",
       "      <td>0.998885</td>\n",
       "      <td>DaVici Puzzles Full Moon Feast DaVici Puzzles ...</td>\n",
       "      <td>DaVici Puzzles Full Moon Feast DaVici Puzzles ...</td>\n",
       "      <td>195</td>\n",
       "      <td>220</td>\n",
       "      <td>A-Easy</td>\n",
       "      <td>Hard</td>\n",
       "      <td>DaVici</td>\n",
       "      <td>DaVici</td>\n",
       "      <td>2.0</td>\n",
       "    </tr>\n",
       "  </tbody>\n",
       "</table>\n",
       "</div>"
      ],
      "text/plain": [
       "  memberID  holdtime                                         puzzlepack  \\\n",
       "0  member1  2.939411  Artifact Puzzles Justin Hillgrove Word Travels...   \n",
       "1  member1  0.998885  DaVici Puzzles Full Moon Feast DaVici Puzzles ...   \n",
       "\n",
       "                                           pack_name  piece_count_1  \\\n",
       "0  Artifact Puzzles Justin Hillgrove Word Travels...            456   \n",
       "1  DaVici Puzzles Full Moon Feast DaVici Puzzles ...            195   \n",
       "\n",
       "   piece_count_2 difficulty_rating_1 difficulty_rating_2   brand_2   brand_1  \\\n",
       "0            548              A-Easy             Average  Artifact  Artifact   \n",
       "1            220              A-Easy                Hard    DaVici    DaVici   \n",
       "\n",
       "   num_puzzles  \n",
       "0          2.0  \n",
       "1          2.0  "
      ]
     },
     "execution_count": 24,
     "metadata": {},
     "output_type": "execute_result"
    }
   ],
   "source": [
    "df = member_holdtime_df.merge(packs_df, left_on='puzzlepack', right_on='pack_name', how='left')\n",
    "df.head(2)"
   ]
  },
  {
   "cell_type": "code",
   "execution_count": 25,
   "id": "6cb17d39",
   "metadata": {},
   "outputs": [
    {
     "data": {
      "text/plain": [
       "((19387, 11), (19387, 3))"
      ]
     },
     "execution_count": 25,
     "metadata": {},
     "output_type": "execute_result"
    }
   ],
   "source": [
    "df.shape, member_holdtime_df.shape"
   ]
  },
  {
   "cell_type": "code",
   "execution_count": 26,
   "id": "8d37f54e",
   "metadata": {},
   "outputs": [
    {
     "data": {
      "text/plain": [
       "(968, 920)"
      ]
     },
     "execution_count": 26,
     "metadata": {},
     "output_type": "execute_result"
    }
   ],
   "source": [
    "member_holdtime_df.puzzlepack.nunique(), packs_df.pack_name.nunique(), "
   ]
  },
  {
   "cell_type": "code",
   "execution_count": 27,
   "id": "11a58809",
   "metadata": {},
   "outputs": [
    {
     "data": {
      "text/plain": [
       "memberID                  0\n",
       "holdtime                  0\n",
       "puzzlepack                0\n",
       "pack_name              1085\n",
       "piece_count_1          1085\n",
       "piece_count_2          1085\n",
       "difficulty_rating_1    1085\n",
       "difficulty_rating_2    1085\n",
       "brand_2                1085\n",
       "brand_1                1085\n",
       "num_puzzles            1085\n",
       "dtype: int64"
      ]
     },
     "execution_count": 27,
     "metadata": {},
     "output_type": "execute_result"
    }
   ],
   "source": [
    "df.isnull().sum()\n",
    "# about 5% of the data is missing"
   ]
  },
  {
   "cell_type": "markdown",
   "id": "115a36c7",
   "metadata": {},
   "source": [
    "<div class=\"alert alert-block alert-info\">\n",
    "<b>Tip:</b> # Ideally we should have information about all the packs. Since we do not have this information and it is recommended that we do not drop these rows, we will impute these with the average values.\n",
    "</div>"
   ]
  },
  {
   "cell_type": "markdown",
   "id": "aa05a8a3",
   "metadata": {},
   "source": [
    "### 1.4 Dealing with Nulls!\n",
    "**Methodology**\n",
    "\n",
    "* num_puzzles --> Count number of times 'Puzzle' appears in puzzlepack\n",
    "* brand_1, brand_2 --> Take word before 'Puzzle' as brand name\n",
    "* difficulty_rating --> Take average at brand level from known data\n",
    "* piece_count --> Take average at brand level from known data"
   ]
  },
  {
   "cell_type": "code",
   "execution_count": 28,
   "id": "d7c0c333",
   "metadata": {},
   "outputs": [],
   "source": [
    "missing_pack_data = df.loc[df['pack_name'].isna()][['puzzlepack', 'piece_count_1', 'piece_count_2',\n",
    "                               'difficulty_rating_1', 'difficulty_rating_2', 'brand_1', \n",
    "                                'brand_2', 'num_puzzles']]\n",
    "missing_pack_data.reset_index(drop=True, inplace=True)"
   ]
  },
  {
   "cell_type": "code",
   "execution_count": 29,
   "id": "1282719e",
   "metadata": {},
   "outputs": [],
   "source": [
    "# getting number of puzzles\n",
    "missing_pack_data['num_puzzles'] = missing_pack_data['puzzlepack'].apply(lambda x: (x.count('Puzzles')))"
   ]
  },
  {
   "cell_type": "code",
   "execution_count": 30,
   "id": "8f2a68c9",
   "metadata": {},
   "outputs": [],
   "source": [
    "# packs can have only 1 or two puzzles\n",
    "for i in range(0, len(missing_pack_data)):\n",
    "    if missing_pack_data['num_puzzles'][i] < 1:\n",
    "        missing_pack_data['num_puzzles'][i] = 1\n",
    "    elif missing_pack_data['num_puzzles'][i] > 2:\n",
    "        missing_pack_data['num_puzzles'][i] = 2\n",
    "    else: \n",
    "        pass"
   ]
  },
  {
   "cell_type": "code",
   "execution_count": 31,
   "id": "832e7df2",
   "metadata": {},
   "outputs": [],
   "source": [
    "## to limit the number of brand names we will only use the brands that we know\n",
    "known_brands = list(set(packs_df['brand_1'].unique()).union(set(packs_df['brand_2'].unique())))"
   ]
  },
  {
   "cell_type": "code",
   "execution_count": 32,
   "id": "57ca7af2",
   "metadata": {},
   "outputs": [],
   "source": [
    "# getting brand_1\n",
    "for i in range(0,len(missing_pack_data)):\n",
    "    words = missing_pack_data['puzzlepack'][i].split()[0:2] \n",
    "    \n",
    "    if 'Puzzles' in words[1:]: #if its the second or third word\n",
    "        if words[words.index('Puzzles')-1] in(known_brands):\n",
    "            missing_pack_data['brand_1'][i] = words[words.index('Puzzles')-1]\n",
    "        else:\n",
    "            missing_pack_data['brand_1'][i] = 'unknown'"
   ]
  },
  {
   "cell_type": "code",
   "execution_count": 33,
   "id": "7529e7eb",
   "metadata": {},
   "outputs": [],
   "source": [
    "# getting brand_2\n",
    "for i in range(0,len(missing_pack_data)):\n",
    "    words = missing_pack_data['puzzlepack'][i].split()[2:]\n",
    "    if 'Puzzles' in words[1:]: #if its the 4th word onwards\n",
    "        if words[words.index('Puzzles')-1] in(known_brands):\n",
    "            missing_pack_data['brand_2'][i] = words[words.index('Puzzles')-1]\n",
    "        else:\n",
    "            missing_pack_data['brand_2'][i] = 'unknown'"
   ]
  },
  {
   "cell_type": "code",
   "execution_count": 34,
   "id": "44c2ab96",
   "metadata": {},
   "outputs": [
    {
     "data": {
      "text/plain": [
       "num_puzzles      0\n",
       "brand_1        139\n",
       "brand_2        333\n",
       "dtype: int64"
      ]
     },
     "execution_count": 34,
     "metadata": {},
     "output_type": "execute_result"
    }
   ],
   "source": [
    "missing_pack_data[['num_puzzles', 'brand_1', 'brand_2']].isnull().sum()"
   ]
  },
  {
   "cell_type": "code",
   "execution_count": 35,
   "id": "e14ac8a2",
   "metadata": {},
   "outputs": [],
   "source": [
    "# if anything still missing in num_puzzles, brands\n",
    "missing_pack_data['num_puzzles'].fillna(1, inplace=True)\n",
    "missing_pack_data['brand_1'].fillna('unknown', inplace=True)\n",
    "missing_pack_data['brand_2'].fillna('unknown', inplace=True)"
   ]
  },
  {
   "cell_type": "code",
   "execution_count": 36,
   "id": "dd163317",
   "metadata": {},
   "outputs": [],
   "source": [
    "# brand level average piece count values -- KNOWN data\n",
    "groupby_brand_pieces_1 = packs_df.groupby(\"brand_1\")[\"piece_count_1\"].mean()\n",
    "groupby_brand_pieces_2 = packs_df.groupby(\"brand_2\")[\"piece_count_2\"].mean()"
   ]
  },
  {
   "cell_type": "code",
   "execution_count": 37,
   "id": "424af44b",
   "metadata": {},
   "outputs": [],
   "source": [
    "# getting piece_count_1\n",
    "for i in range(0, len(missing_pack_data)):\n",
    "    try:\n",
    "        missing_pack_data['piece_count_1'][i] = int(groupby_brand_pieces_1[missing_pack_data['brand_1'][i]])\n",
    "        # getting piece_count_2 if needed\n",
    "        if missing_pack_data['num_puzzles'][i] == 1:\n",
    "            missing_pack_data['piece_count_2'][i] = 0\n",
    "        else:\n",
    "            missing_pack_data['piece_count_2'][i] = int(groupby_brand_pieces_2[missing_pack_data['brand_2'][i]])\n",
    "    except Exception as e:\n",
    "        pass\n",
    "#         print(e)"
   ]
  },
  {
   "cell_type": "code",
   "execution_count": 38,
   "id": "47c40d25",
   "metadata": {},
   "outputs": [],
   "source": [
    "# brand level most common difficulty values -- KNOWN data\n",
    "groupby_brand_diff_1 = packs_df.groupby(\"brand_1\")[\"difficulty_rating_1\"].agg(pd.Series.mode)\n",
    "groupby_brand_diff_2 = packs_df.groupby(\"brand_2\")[\"difficulty_rating_2\"].agg(pd.Series.mode)"
   ]
  },
  {
   "cell_type": "code",
   "execution_count": 39,
   "id": "dacfe152",
   "metadata": {},
   "outputs": [],
   "source": [
    "# getting difficulty_rating_1\n",
    "for i in range(0, len(missing_pack_data)):\n",
    "    try:\n",
    "        missing_pack_data['difficulty_rating_1'][i] = groupby_brand_diff_1[missing_pack_data['brand_1'][i]]\n",
    "        # getting difficulty_rating_2 if needed\n",
    "        if missing_pack_data['num_puzzles'][i] == 1:\n",
    "            missing_pack_data['difficulty_rating_2'][i] = 'Average'\n",
    "        else:\n",
    "            missing_pack_data['difficulty_rating_2'][i] = (groupby_brand_diff_2[missing_pack_data['brand_2'][i]])\n",
    "    except Exception as e:\n",
    "        pass"
   ]
  },
  {
   "cell_type": "code",
   "execution_count": 40,
   "id": "edeef37f",
   "metadata": {},
   "outputs": [
    {
     "data": {
      "text/plain": [
       "puzzlepack             0\n",
       "piece_count_1          0\n",
       "piece_count_2          0\n",
       "difficulty_rating_1    0\n",
       "difficulty_rating_2    0\n",
       "brand_1                0\n",
       "brand_2                0\n",
       "num_puzzles            0\n",
       "dtype: int64"
      ]
     },
     "execution_count": 40,
     "metadata": {},
     "output_type": "execute_result"
    }
   ],
   "source": [
    "missing_pack_data.isnull().sum()"
   ]
  },
  {
   "cell_type": "markdown",
   "id": "a0c1be0f",
   "metadata": {},
   "source": [
    "### Making a final packs data"
   ]
  },
  {
   "cell_type": "code",
   "execution_count": 41,
   "id": "c12eb596",
   "metadata": {},
   "outputs": [],
   "source": [
    "# setting order same as missing pack to concat easily\n",
    "packs_df = packs_df[['pack_name', 'piece_count_1', 'piece_count_2', 'difficulty_rating_1', \n",
    "                             'difficulty_rating_2', 'brand_1', 'brand_2', 'num_puzzles']]"
   ]
  },
  {
   "cell_type": "code",
   "execution_count": 42,
   "id": "54ca2cc3",
   "metadata": {},
   "outputs": [],
   "source": [
    "# setting same column names to concat easily\n",
    "missing_pack_data = missing_pack_data.rename(columns = {'puzzlepack':'pack_name'})"
   ]
  },
  {
   "cell_type": "code",
   "execution_count": 43,
   "id": "c115c66e",
   "metadata": {},
   "outputs": [
    {
     "data": {
      "text/plain": [
       "((920, 8), (1085, 8))"
      ]
     },
     "execution_count": 43,
     "metadata": {},
     "output_type": "execute_result"
    }
   ],
   "source": [
    "packs_df.shape, missing_pack_data.shape"
   ]
  },
  {
   "cell_type": "code",
   "execution_count": 44,
   "id": "10f53433",
   "metadata": {},
   "outputs": [
    {
     "data": {
      "text/plain": [
       "(2005, 8)"
      ]
     },
     "execution_count": 44,
     "metadata": {},
     "output_type": "execute_result"
    }
   ],
   "source": [
    "packs_updated = pd.concat([packs_df, missing_pack_data])\n",
    "packs_updated.reset_index(inplace=True, drop = True)\n",
    "packs_updated.shape"
   ]
  },
  {
   "cell_type": "code",
   "execution_count": 45,
   "id": "911bf569",
   "metadata": {},
   "outputs": [
    {
     "data": {
      "text/html": [
       "<div>\n",
       "<style scoped>\n",
       "    .dataframe tbody tr th:only-of-type {\n",
       "        vertical-align: middle;\n",
       "    }\n",
       "\n",
       "    .dataframe tbody tr th {\n",
       "        vertical-align: top;\n",
       "    }\n",
       "\n",
       "    .dataframe thead th {\n",
       "        text-align: right;\n",
       "    }\n",
       "</style>\n",
       "<table border=\"1\" class=\"dataframe\">\n",
       "  <thead>\n",
       "    <tr style=\"text-align: right;\">\n",
       "      <th></th>\n",
       "      <th>memberID</th>\n",
       "      <th>holdtime</th>\n",
       "      <th>puzzlepack</th>\n",
       "      <th>pack_name</th>\n",
       "      <th>piece_count_1</th>\n",
       "      <th>piece_count_2</th>\n",
       "      <th>difficulty_rating_1</th>\n",
       "      <th>difficulty_rating_2</th>\n",
       "      <th>brand_1</th>\n",
       "      <th>brand_2</th>\n",
       "      <th>num_puzzles</th>\n",
       "    </tr>\n",
       "  </thead>\n",
       "  <tbody>\n",
       "    <tr>\n",
       "      <th>0</th>\n",
       "      <td>member1</td>\n",
       "      <td>2.939411</td>\n",
       "      <td>Artifact Puzzles Justin Hillgrove Word Travels...</td>\n",
       "      <td>Artifact Puzzles Justin Hillgrove Word Travels...</td>\n",
       "      <td>456</td>\n",
       "      <td>548</td>\n",
       "      <td>A-Easy</td>\n",
       "      <td>Average</td>\n",
       "      <td>Artifact</td>\n",
       "      <td>Artifact</td>\n",
       "      <td>2</td>\n",
       "    </tr>\n",
       "    <tr>\n",
       "      <th>1</th>\n",
       "      <td>member1</td>\n",
       "      <td>0.998885</td>\n",
       "      <td>DaVici Puzzles Full Moon Feast DaVici Puzzles ...</td>\n",
       "      <td>DaVici Puzzles Full Moon Feast DaVici Puzzles ...</td>\n",
       "      <td>195</td>\n",
       "      <td>220</td>\n",
       "      <td>A-Easy</td>\n",
       "      <td>Hard</td>\n",
       "      <td>DaVici</td>\n",
       "      <td>DaVici</td>\n",
       "      <td>2</td>\n",
       "    </tr>\n",
       "  </tbody>\n",
       "</table>\n",
       "</div>"
      ],
      "text/plain": [
       "  memberID  holdtime                                         puzzlepack  \\\n",
       "0  member1  2.939411  Artifact Puzzles Justin Hillgrove Word Travels...   \n",
       "1  member1  0.998885  DaVici Puzzles Full Moon Feast DaVici Puzzles ...   \n",
       "\n",
       "                                           pack_name  piece_count_1  \\\n",
       "0  Artifact Puzzles Justin Hillgrove Word Travels...            456   \n",
       "1  DaVici Puzzles Full Moon Feast DaVici Puzzles ...            195   \n",
       "\n",
       "   piece_count_2 difficulty_rating_1 difficulty_rating_2   brand_1   brand_2  \\\n",
       "0            548              A-Easy             Average  Artifact  Artifact   \n",
       "1            220              A-Easy                Hard    DaVici    DaVici   \n",
       "\n",
       "   num_puzzles  \n",
       "0            2  \n",
       "1            2  "
      ]
     },
     "execution_count": 45,
     "metadata": {},
     "output_type": "execute_result"
    }
   ],
   "source": [
    "df_cleaned = member_holdtime_df.merge(packs_updated, left_on='puzzlepack', right_on='pack_name', how='left')\n",
    "df_cleaned.head(2)"
   ]
  },
  {
   "cell_type": "code",
   "execution_count": 46,
   "id": "cc5474df",
   "metadata": {},
   "outputs": [],
   "source": [
    "df_cleaned.drop_duplicates(inplace=True)\n",
    "df_cleaned.reset_index(drop=True, inplace=True)"
   ]
  },
  {
   "cell_type": "code",
   "execution_count": 47,
   "id": "9e4d89e3",
   "metadata": {},
   "outputs": [],
   "source": [
    "difficulty_mapping = {'A-Easy': 1, 'Average': 2, 'Hard': 3, 'Really-Hard': 4}\n",
    "\n",
    "df_cleaned['difficulty_rating_1'] = df_cleaned['difficulty_rating_1'].map(lambda x: difficulty_mapping[x], na_action='ignore')\n",
    "df_cleaned['difficulty_rating_2'] = df_cleaned['difficulty_rating_2'].map(lambda x: difficulty_mapping[x], na_action='ignore')"
   ]
  },
  {
   "cell_type": "code",
   "execution_count": 48,
   "id": "9ee3fe99",
   "metadata": {},
   "outputs": [
    {
     "data": {
      "text/plain": [
       "((19387, 11), (19387, 11), (19387, 3))"
      ]
     },
     "execution_count": 48,
     "metadata": {},
     "output_type": "execute_result"
    }
   ],
   "source": [
    "df_cleaned.shape, df.shape, member_holdtime_df.shape"
   ]
  },
  {
   "cell_type": "code",
   "execution_count": 49,
   "id": "15da6fd2",
   "metadata": {},
   "outputs": [
    {
     "data": {
      "text/plain": [
       "memberID               0\n",
       "holdtime               0\n",
       "puzzlepack             0\n",
       "pack_name              0\n",
       "piece_count_1          0\n",
       "piece_count_2          0\n",
       "difficulty_rating_1    0\n",
       "difficulty_rating_2    0\n",
       "brand_1                0\n",
       "brand_2                0\n",
       "num_puzzles            0\n",
       "dtype: int64"
      ]
     },
     "execution_count": 49,
     "metadata": {},
     "output_type": "execute_result"
    }
   ],
   "source": [
    "df_cleaned.isnull().sum()"
   ]
  },
  {
   "cell_type": "markdown",
   "id": "0ee448c6",
   "metadata": {},
   "source": [
    "# 3. Feature Engineering"
   ]
  },
  {
   "cell_type": "markdown",
   "id": "3e90011e",
   "metadata": {},
   "source": [
    "### First feature is number of pieces for each difficulty d1, d2, d3, d4"
   ]
  },
  {
   "cell_type": "code",
   "execution_count": 50,
   "id": "000d67f4",
   "metadata": {},
   "outputs": [],
   "source": [
    "# taking code from jon's branch\n",
    "pieces_by_difficulty = []\n",
    "\n",
    "for i, row in df_cleaned.iterrows():\n",
    "    out = {\n",
    "        'name': row['pack_name'],\n",
    "        'pieces_d1': 0,\n",
    "        'pieces_d2': 0,\n",
    "        'pieces_d3': 0,\n",
    "        'pieces_d4': 0,\n",
    "        'num_puzzles': row['num_puzzles']\n",
    "    }\n",
    "    \n",
    "    if not math.isnan(row['piece_count_1']):\n",
    "        out[f'pieces_d{str(int(row[\"difficulty_rating_1\"]))}'] += row['piece_count_1']\n",
    "    \n",
    "    if(row['num_puzzles'] == 2 and math.isnan(row['piece_count_1']) == False):\n",
    "        out[f'pieces_d{str(int(row[\"difficulty_rating_2\"]))}'] += row['piece_count_2']\n",
    "        \n",
    "    pieces_by_difficulty.append(out)"
   ]
  },
  {
   "cell_type": "code",
   "execution_count": 51,
   "id": "f8974283",
   "metadata": {},
   "outputs": [
    {
     "data": {
      "text/html": [
       "<div>\n",
       "<style scoped>\n",
       "    .dataframe tbody tr th:only-of-type {\n",
       "        vertical-align: middle;\n",
       "    }\n",
       "\n",
       "    .dataframe tbody tr th {\n",
       "        vertical-align: top;\n",
       "    }\n",
       "\n",
       "    .dataframe thead th {\n",
       "        text-align: right;\n",
       "    }\n",
       "</style>\n",
       "<table border=\"1\" class=\"dataframe\">\n",
       "  <thead>\n",
       "    <tr style=\"text-align: right;\">\n",
       "      <th></th>\n",
       "      <th>name</th>\n",
       "      <th>pieces_d1</th>\n",
       "      <th>pieces_d2</th>\n",
       "      <th>pieces_d3</th>\n",
       "      <th>pieces_d4</th>\n",
       "      <th>num_puzzles</th>\n",
       "    </tr>\n",
       "  </thead>\n",
       "  <tbody>\n",
       "    <tr>\n",
       "      <th>0</th>\n",
       "      <td>Artifact Puzzles Justin Hillgrove Word Travels...</td>\n",
       "      <td>456</td>\n",
       "      <td>548</td>\n",
       "      <td>0</td>\n",
       "      <td>0</td>\n",
       "      <td>2</td>\n",
       "    </tr>\n",
       "    <tr>\n",
       "      <th>1</th>\n",
       "      <td>DaVici Puzzles Full Moon Feast DaVici Puzzles ...</td>\n",
       "      <td>195</td>\n",
       "      <td>0</td>\n",
       "      <td>220</td>\n",
       "      <td>0</td>\n",
       "      <td>2</td>\n",
       "    </tr>\n",
       "    <tr>\n",
       "      <th>2</th>\n",
       "      <td>DaVici Puzzles Flying Frigate DaVici Puzzles H...</td>\n",
       "      <td>496</td>\n",
       "      <td>0</td>\n",
       "      <td>0</td>\n",
       "      <td>0</td>\n",
       "      <td>2</td>\n",
       "    </tr>\n",
       "    <tr>\n",
       "      <th>3</th>\n",
       "      <td>Liberty Puzzles Haeckel Hummingbirds Nautilus ...</td>\n",
       "      <td>0</td>\n",
       "      <td>707</td>\n",
       "      <td>0</td>\n",
       "      <td>0</td>\n",
       "      <td>2</td>\n",
       "    </tr>\n",
       "    <tr>\n",
       "      <th>4</th>\n",
       "      <td>DaVici Puzzles Diana Zimens City Of Cats</td>\n",
       "      <td>0</td>\n",
       "      <td>700</td>\n",
       "      <td>0</td>\n",
       "      <td>0</td>\n",
       "      <td>1</td>\n",
       "    </tr>\n",
       "  </tbody>\n",
       "</table>\n",
       "</div>"
      ],
      "text/plain": [
       "                                                name  pieces_d1  pieces_d2  \\\n",
       "0  Artifact Puzzles Justin Hillgrove Word Travels...        456        548   \n",
       "1  DaVici Puzzles Full Moon Feast DaVici Puzzles ...        195          0   \n",
       "2  DaVici Puzzles Flying Frigate DaVici Puzzles H...        496          0   \n",
       "3  Liberty Puzzles Haeckel Hummingbirds Nautilus ...          0        707   \n",
       "4          DaVici Puzzles Diana Zimens City Of Cats           0        700   \n",
       "\n",
       "   pieces_d3  pieces_d4  num_puzzles  \n",
       "0          0          0            2  \n",
       "1        220          0            2  \n",
       "2          0          0            2  \n",
       "3          0          0            2  \n",
       "4          0          0            1  "
      ]
     },
     "execution_count": 51,
     "metadata": {},
     "output_type": "execute_result"
    }
   ],
   "source": [
    "pieces_df = pd.DataFrame(pieces_by_difficulty)\n",
    "pieces_df.head()"
   ]
  },
  {
   "cell_type": "markdown",
   "id": "d5715781",
   "metadata": {},
   "source": [
    "### Second Feature is counting total number of pieces at pack level"
   ]
  },
  {
   "cell_type": "code",
   "execution_count": 52,
   "id": "2b8a810a",
   "metadata": {},
   "outputs": [],
   "source": [
    "# making things at pack level\n",
    "df_cleaned['piece_count_pack'] = 0\n",
    "df_cleaned['difficulty_rating_pack'] = 0\n",
    "for i in range(0, len(df_cleaned)):\n",
    "    if df_cleaned['num_puzzles'][i] == 1:\n",
    "        df_cleaned['piece_count_pack'][i] = df_cleaned['piece_count_1'][i]\n",
    "        df_cleaned['difficulty_rating_pack'][i] = df_cleaned['difficulty_rating_1'][i]\n",
    "    else:\n",
    "        df_cleaned['piece_count_pack'][i] = df_cleaned['piece_count_1'][i] + df_cleaned['piece_count_2'][i]\n",
    "        df_cleaned['difficulty_rating_pack'][i] = (df_cleaned['difficulty_rating_1'][i] + df_cleaned['difficulty_rating_2'][i])//2"
   ]
  },
  {
   "cell_type": "markdown",
   "id": "5ae09252",
   "metadata": {},
   "source": [
    "### Third feautre is combining difficulty and piece count into a single column values"
   ]
  },
  {
   "cell_type": "code",
   "execution_count": 53,
   "id": "30475ab6",
   "metadata": {},
   "outputs": [],
   "source": [
    "# taking code from madalyn's branch\n",
    "pieces_df['w_pieces_diff'] = pieces_df['pieces_d1'] + pieces_df['pieces_d2']*2 + pieces_df['pieces_d3']*3 + pieces_df['pieces_d4']*4\n",
    "\n",
    "# use box cox method to transform weighted pieces by difficulty\n",
    "from sklearn.preprocessing import power_transform \n",
    "pieces_df['w_pieces_diff_transformed'] = power_transform(pieces_df[['w_pieces_diff']], method='box-cox')\n"
   ]
  },
  {
   "cell_type": "code",
   "execution_count": 54,
   "id": "b45ecf6c",
   "metadata": {},
   "outputs": [
    {
     "data": {
      "text/html": [
       "<div>\n",
       "<style scoped>\n",
       "    .dataframe tbody tr th:only-of-type {\n",
       "        vertical-align: middle;\n",
       "    }\n",
       "\n",
       "    .dataframe tbody tr th {\n",
       "        vertical-align: top;\n",
       "    }\n",
       "\n",
       "    .dataframe thead th {\n",
       "        text-align: right;\n",
       "    }\n",
       "</style>\n",
       "<table border=\"1\" class=\"dataframe\">\n",
       "  <thead>\n",
       "    <tr style=\"text-align: right;\">\n",
       "      <th></th>\n",
       "      <th>name</th>\n",
       "      <th>pieces_d1</th>\n",
       "      <th>pieces_d2</th>\n",
       "      <th>pieces_d3</th>\n",
       "      <th>pieces_d4</th>\n",
       "      <th>num_puzzles</th>\n",
       "      <th>w_pieces_diff</th>\n",
       "      <th>w_pieces_diff_transformed</th>\n",
       "      <th>bin_label</th>\n",
       "    </tr>\n",
       "  </thead>\n",
       "  <tbody>\n",
       "    <tr>\n",
       "      <th>0</th>\n",
       "      <td>Artifact Puzzles Justin Hillgrove Word Travels...</td>\n",
       "      <td>456</td>\n",
       "      <td>548</td>\n",
       "      <td>0</td>\n",
       "      <td>0</td>\n",
       "      <td>2</td>\n",
       "      <td>1552</td>\n",
       "      <td>0.476563</td>\n",
       "      <td>bin9</td>\n",
       "    </tr>\n",
       "    <tr>\n",
       "      <th>1</th>\n",
       "      <td>DaVici Puzzles Full Moon Feast DaVici Puzzles ...</td>\n",
       "      <td>195</td>\n",
       "      <td>0</td>\n",
       "      <td>220</td>\n",
       "      <td>0</td>\n",
       "      <td>2</td>\n",
       "      <td>855</td>\n",
       "      <td>-0.550938</td>\n",
       "      <td>bin6</td>\n",
       "    </tr>\n",
       "    <tr>\n",
       "      <th>2</th>\n",
       "      <td>DaVici Puzzles Flying Frigate DaVici Puzzles H...</td>\n",
       "      <td>496</td>\n",
       "      <td>0</td>\n",
       "      <td>0</td>\n",
       "      <td>0</td>\n",
       "      <td>2</td>\n",
       "      <td>496</td>\n",
       "      <td>-1.335665</td>\n",
       "      <td>bin3</td>\n",
       "    </tr>\n",
       "    <tr>\n",
       "      <th>3</th>\n",
       "      <td>Liberty Puzzles Haeckel Hummingbirds Nautilus ...</td>\n",
       "      <td>0</td>\n",
       "      <td>707</td>\n",
       "      <td>0</td>\n",
       "      <td>0</td>\n",
       "      <td>2</td>\n",
       "      <td>1414</td>\n",
       "      <td>0.303165</td>\n",
       "      <td>bin9</td>\n",
       "    </tr>\n",
       "    <tr>\n",
       "      <th>4</th>\n",
       "      <td>DaVici Puzzles Diana Zimens City Of Cats</td>\n",
       "      <td>0</td>\n",
       "      <td>700</td>\n",
       "      <td>0</td>\n",
       "      <td>0</td>\n",
       "      <td>1</td>\n",
       "      <td>1400</td>\n",
       "      <td>0.284934</td>\n",
       "      <td>bin8</td>\n",
       "    </tr>\n",
       "  </tbody>\n",
       "</table>\n",
       "</div>"
      ],
      "text/plain": [
       "                                                name  pieces_d1  pieces_d2  \\\n",
       "0  Artifact Puzzles Justin Hillgrove Word Travels...        456        548   \n",
       "1  DaVici Puzzles Full Moon Feast DaVici Puzzles ...        195          0   \n",
       "2  DaVici Puzzles Flying Frigate DaVici Puzzles H...        496          0   \n",
       "3  Liberty Puzzles Haeckel Hummingbirds Nautilus ...          0        707   \n",
       "4          DaVici Puzzles Diana Zimens City Of Cats           0        700   \n",
       "\n",
       "   pieces_d3  pieces_d4  num_puzzles  w_pieces_diff  \\\n",
       "0          0          0            2           1552   \n",
       "1        220          0            2            855   \n",
       "2          0          0            2            496   \n",
       "3          0          0            2           1414   \n",
       "4          0          0            1           1400   \n",
       "\n",
       "   w_pieces_diff_transformed bin_label  \n",
       "0                   0.476563      bin9  \n",
       "1                  -0.550938      bin6  \n",
       "2                  -1.335665      bin3  \n",
       "3                   0.303165      bin9  \n",
       "4                   0.284934      bin8  "
      ]
     },
     "execution_count": 54,
     "metadata": {},
     "output_type": "execute_result"
    }
   ],
   "source": [
    "# creat list of bin names and label names\n",
    "# I just picked an arbitrary number of 20 bins, to group the piece difficulty by, this can be improved on\n",
    "step = (pieces_df['w_pieces_diff_transformed'].max()-pieces_df['w_pieces_diff_transformed'].min())/20\n",
    "bins = np.arange(pieces_df['w_pieces_diff_transformed'].min(), pieces_df['w_pieces_diff_transformed'].max()+step, step)\n",
    "labels = ['bin' + s for s in map(str, list(range(len(bins)-1)))]\n",
    "\n",
    "# label each puzzle by binned piece & difficulty\n",
    "pieces_df['bin_label'] = pd.cut(x = pieces_df['w_pieces_diff_transformed'], bins = bins, labels = labels, include_lowest = True)\n",
    "pieces_df.head()"
   ]
  },
  {
   "cell_type": "code",
   "execution_count": 55,
   "id": "f8fd7597",
   "metadata": {},
   "outputs": [
    {
     "data": {
      "text/plain": [
       "((19387, 13), (19387, 9))"
      ]
     },
     "execution_count": 55,
     "metadata": {},
     "output_type": "execute_result"
    }
   ],
   "source": [
    "df_cleaned.shape, pieces_df.shape"
   ]
  },
  {
   "cell_type": "code",
   "execution_count": 56,
   "id": "f5b04c35",
   "metadata": {},
   "outputs": [
    {
     "data": {
      "text/plain": [
       "Index(['memberID', 'holdtime', 'puzzlepack', 'pack_name', 'piece_count_1',\n",
       "       'piece_count_2', 'difficulty_rating_1', 'difficulty_rating_2',\n",
       "       'brand_1', 'brand_2', 'num_puzzles', 'piece_count_pack',\n",
       "       'difficulty_rating_pack'],\n",
       "      dtype='object')"
      ]
     },
     "execution_count": 56,
     "metadata": {},
     "output_type": "execute_result"
    }
   ],
   "source": [
    "df_cleaned.columns"
   ]
  },
  {
   "cell_type": "code",
   "execution_count": 113,
   "id": "9fe9863c",
   "metadata": {},
   "outputs": [],
   "source": [
    "concat_df1 = df_cleaned[['pack_name', 'holdtime', 'piece_count_1', 'piece_count_2', 'difficulty_rating_1', \n",
    "                         'difficulty_rating_2',  'brand_1','piece_count_pack', 'difficulty_rating_pack',\n",
    "                         'brand_2', 'num_puzzles']]\n",
    "concat_df2 = pieces_df[['pieces_d1', 'pieces_d2', 'pieces_d3', 'pieces_d4', 'w_pieces_diff_transformed']]"
   ]
  },
  {
   "cell_type": "code",
   "execution_count": 114,
   "id": "dcf79239",
   "metadata": {},
   "outputs": [],
   "source": [
    "df_features_combined = pd.concat([concat_df1, concat_df2], axis=1)"
   ]
  },
  {
   "cell_type": "markdown",
   "id": "3071edd7",
   "metadata": {},
   "source": [
    "# 4. Feature Importances"
   ]
  },
  {
   "cell_type": "code",
   "execution_count": 10,
   "id": "11a61fd7",
   "metadata": {},
   "outputs": [
    {
     "data": {
      "image/png": "[encoded data removed]",
      "text/plain": [
       "<Figure size 720x720 with 2 Axes>"
      ]
     },
     "metadata": {
      "needs_background": "light"
     },
     "output_type": "display_data"
    }
   ],
   "source": [
    "# plotting correlation heatmap\n",
    "plt.figure(figsize=(10,10))\n",
    "dataplot = sns.heatmap(df_features_combined.corr(), cmap=\"YlGnBu\", annot=True)\n",
    "  \n",
    "# displaying heatmap\n",
    "plt.show()"
   ]
  },
  {
   "cell_type": "code",
   "execution_count": 11,
   "id": "d06d3349",
   "metadata": {},
   "outputs": [],
   "source": [
    "# random split into train and validation\n",
    "train, test = train_test_split(df_features_combined, test_size = 0.25, random_state=1)"
   ]
  },
  {
   "cell_type": "code",
   "execution_count": 12,
   "id": "9ebc8c45",
   "metadata": {},
   "outputs": [],
   "source": [
    "x_train = train.drop(['holdtime', 'pack_name'], axis=1)\n",
    "y_train = train['holdtime']"
   ]
  },
  {
   "cell_type": "code",
   "execution_count": 13,
   "id": "88f2c0b7",
   "metadata": {},
   "outputs": [],
   "source": [
    "x_test = test.drop(['holdtime', 'pack_name'], axis = 1)\n",
    "y_test = test['holdtime']"
   ]
  },
  {
   "cell_type": "markdown",
   "id": "da86bb37",
   "metadata": {},
   "source": [
    "### 4.1 Benchmark Model"
   ]
  },
  {
   "cell_type": "code",
   "execution_count": 14,
   "id": "55f8e53d",
   "metadata": {},
   "outputs": [
    {
     "data": {
      "text/plain": [
       "12.62234436965736"
      ]
     },
     "execution_count": 14,
     "metadata": {},
     "output_type": "execute_result"
    }
   ],
   "source": [
    "# First just try average hold time by member\n",
    "train_holdtime_mean = y_train.mean()\n",
    "\n",
    "pred1 = np.empty(len(y_test)) \n",
    "pred1.fill(train_holdtime_mean)\n",
    "\n",
    "mean_absolute_error(y_test, pred1)"
   ]
  },
  {
   "cell_type": "markdown",
   "id": "ad65438c",
   "metadata": {},
   "source": [
    "### 4.2 Linear Regression"
   ]
  },
  {
   "cell_type": "code",
   "execution_count": 15,
   "id": "de6cea03",
   "metadata": {},
   "outputs": [
    {
     "data": {
      "text/plain": [
       "((14540, 32), (4847, 32))"
      ]
     },
     "execution_count": 15,
     "metadata": {},
     "output_type": "execute_result"
    }
   ],
   "source": [
    "# dummy variable - hopefully x_test doesnt bring any surprises\n",
    "x_train = pd.get_dummies(x_train)\n",
    "x_test = pd.get_dummies(x_test)\n",
    "x_train.shape, x_test.shape"
   ]
  },
  {
   "cell_type": "code",
   "execution_count": 16,
   "id": "ec089ece",
   "metadata": {},
   "outputs": [
    {
     "data": {
      "text/plain": [
       "12.399774854915188"
      ]
     },
     "execution_count": 16,
     "metadata": {},
     "output_type": "execute_result"
    }
   ],
   "source": [
    "# simple linear regression\n",
    "model_lr = LinearRegression(normalize=True)\n",
    "model_lr.fit(x_train, y_train)  #fit the model\n",
    "pred2 = model_lr.predict(x_test) #make prediction on test set\n",
    "mean_absolute_error(y_test, pred2) #calculate mae"
   ]
  },
  {
   "cell_type": "code",
   "execution_count": 17,
   "id": "d59e39ca",
   "metadata": {},
   "outputs": [
    {
     "data": {
      "text/html": [
       "<div>\n",
       "<style scoped>\n",
       "    .dataframe tbody tr th:only-of-type {\n",
       "        vertical-align: middle;\n",
       "    }\n",
       "\n",
       "    .dataframe tbody tr th {\n",
       "        vertical-align: top;\n",
       "    }\n",
       "\n",
       "    .dataframe thead th {\n",
       "        text-align: right;\n",
       "    }\n",
       "</style>\n",
       "<table border=\"1\" class=\"dataframe\">\n",
       "  <thead>\n",
       "    <tr style=\"text-align: right;\">\n",
       "      <th></th>\n",
       "      <th>columns</th>\n",
       "      <th>coefficients</th>\n",
       "    </tr>\n",
       "  </thead>\n",
       "  <tbody>\n",
       "    <tr>\n",
       "      <th>29</th>\n",
       "      <td>brand_2_Stave</td>\n",
       "      <td>-3.803798e+14</td>\n",
       "    </tr>\n",
       "    <tr>\n",
       "      <th>27</th>\n",
       "      <td>brand_2_Other-Hand-cut</td>\n",
       "      <td>-3.803798e+14</td>\n",
       "    </tr>\n",
       "    <tr>\n",
       "      <th>22</th>\n",
       "      <td>brand_2_Artifact</td>\n",
       "      <td>-3.803798e+14</td>\n",
       "    </tr>\n",
       "    <tr>\n",
       "      <th>30</th>\n",
       "      <td>brand_2_Wentworth</td>\n",
       "      <td>-3.803798e+14</td>\n",
       "    </tr>\n",
       "    <tr>\n",
       "      <th>31</th>\n",
       "      <td>brand_2_unknown</td>\n",
       "      <td>-3.803798e+14</td>\n",
       "    </tr>\n",
       "    <tr>\n",
       "      <th>28</th>\n",
       "      <td>brand_2_Other-Laser-cut</td>\n",
       "      <td>-3.803798e+14</td>\n",
       "    </tr>\n",
       "    <tr>\n",
       "      <th>24</th>\n",
       "      <td>brand_2_Ecru</td>\n",
       "      <td>-3.803798e+14</td>\n",
       "    </tr>\n",
       "    <tr>\n",
       "      <th>25</th>\n",
       "      <td>brand_2_Liberty</td>\n",
       "      <td>-3.803798e+14</td>\n",
       "    </tr>\n",
       "    <tr>\n",
       "      <th>23</th>\n",
       "      <td>brand_2_DaVici</td>\n",
       "      <td>-3.803798e+14</td>\n",
       "    </tr>\n",
       "    <tr>\n",
       "      <th>26</th>\n",
       "      <td>brand_2_Nautilus</td>\n",
       "      <td>-3.803798e+14</td>\n",
       "    </tr>\n",
       "    <tr>\n",
       "      <th>9</th>\n",
       "      <td>piece_count_pack</td>\n",
       "      <td>-1.998656e+11</td>\n",
       "    </tr>\n",
       "    <tr>\n",
       "      <th>4</th>\n",
       "      <td>num_puzzles</td>\n",
       "      <td>-1.612591e+00</td>\n",
       "    </tr>\n",
       "    <tr>\n",
       "      <th>3</th>\n",
       "      <td>difficulty_rating_2</td>\n",
       "      <td>-3.839659e-01</td>\n",
       "    </tr>\n",
       "    <tr>\n",
       "      <th>2</th>\n",
       "      <td>difficulty_rating_1</td>\n",
       "      <td>-2.747695e-01</td>\n",
       "    </tr>\n",
       "    <tr>\n",
       "      <th>10</th>\n",
       "      <td>difficulty_rating_pack</td>\n",
       "      <td>4.458787e-01</td>\n",
       "    </tr>\n",
       "  </tbody>\n",
       "</table>\n",
       "</div>"
      ],
      "text/plain": [
       "                    columns  coefficients\n",
       "29            brand_2_Stave -3.803798e+14\n",
       "27   brand_2_Other-Hand-cut -3.803798e+14\n",
       "22         brand_2_Artifact -3.803798e+14\n",
       "30        brand_2_Wentworth -3.803798e+14\n",
       "31          brand_2_unknown -3.803798e+14\n",
       "28  brand_2_Other-Laser-cut -3.803798e+14\n",
       "24             brand_2_Ecru -3.803798e+14\n",
       "25          brand_2_Liberty -3.803798e+14\n",
       "23           brand_2_DaVici -3.803798e+14\n",
       "26         brand_2_Nautilus -3.803798e+14\n",
       "9          piece_count_pack -1.998656e+11\n",
       "4               num_puzzles -1.612591e+00\n",
       "3       difficulty_rating_2 -3.839659e-01\n",
       "2       difficulty_rating_1 -2.747695e-01\n",
       "10   difficulty_rating_pack  4.458787e-01"
      ]
     },
     "execution_count": 17,
     "metadata": {},
     "output_type": "execute_result"
    }
   ],
   "source": [
    "coefficients = pd.concat([pd.DataFrame(x_train.columns,columns=['columns']),\n",
    "                          pd.DataFrame(np.transpose(model_lr.coef_),columns=['coefficients'])], axis = 1)\n",
    "coefficients.sort_values(by = 'coefficients').head(15)"
   ]
  },
  {
   "cell_type": "markdown",
   "id": "d1fe2cef",
   "metadata": {},
   "source": [
    "Cannot say anything about the coefficients right now. Need p-values. Building OLS model to get that."
   ]
  },
  {
   "cell_type": "markdown",
   "id": "383f18d0",
   "metadata": {},
   "source": [
    "### 4.3 OLS model"
   ]
  },
  {
   "cell_type": "code",
   "execution_count": 18,
   "id": "ce5a2098",
   "metadata": {},
   "outputs": [],
   "source": [
    "from sklearn import datasets, linear_model\n",
    "import statsmodels.api as sma"
   ]
  },
  {
   "cell_type": "code",
   "execution_count": 19,
   "id": "d504bef9",
   "metadata": {},
   "outputs": [],
   "source": [
    "X = x_train\n",
    "y = y_train\n",
    "X2  = sma.add_constant(X)"
   ]
  },
  {
   "cell_type": "code",
   "execution_count": 20,
   "id": "fe664713",
   "metadata": {},
   "outputs": [
    {
     "name": "stdout",
     "output_type": "stream",
     "text": [
      "                            OLS Regression Results                            \n",
      "==============================================================================\n",
      "Dep. Variable:               holdtime   R-squared:                       0.024\n",
      "Model:                            OLS   Adj. R-squared:                  0.022\n",
      "Method:                 Least Squares   F-statistic:                     12.47\n",
      "Date:                Mon, 06 Mar 2023   Prob (F-statistic):           2.03e-56\n",
      "Time:                        16:51:30   Log-Likelihood:                -63087.\n",
      "No. Observations:               14540   AIC:                         1.262e+05\n",
      "Df Residuals:                   14511   BIC:                         1.265e+05\n",
      "Df Model:                          28                                         \n",
      "Covariance Type:            nonrobust                                         \n",
      "=============================================================================================\n",
      "                                coef    std err          t      P>|t|      [0.025      0.975]\n",
      "---------------------------------------------------------------------------------------------\n",
      "const                      3.783e+07   3.09e+07      1.223      0.221   -2.28e+07    9.85e+07\n",
      "piece_count_1             -2.166e+10   3.44e+10     -0.629      0.529   -8.92e+10    4.58e+10\n",
      "piece_count_2             -2.166e+10   3.44e+10     -0.629      0.529   -8.92e+10    4.58e+10\n",
      "difficulty_rating_1          -0.3150      0.545     -0.578      0.563      -1.383       0.753\n",
      "difficulty_rating_2          -0.2342      0.455     -0.515      0.606      -1.125       0.657\n",
      "num_puzzles                  -1.5349      0.848     -1.810      0.070      -3.197       0.127\n",
      "pieces_d1                  6.925e+10   6.84e+10      1.013      0.311   -6.48e+10    2.03e+11\n",
      "pieces_d2                  6.925e+10   6.84e+10      1.013      0.311   -6.48e+10    2.03e+11\n",
      "pieces_d3                  6.925e+10   6.84e+10      1.013      0.311   -6.48e+10    2.03e+11\n",
      "pieces_d4                  6.925e+10   6.84e+10      1.013      0.311   -6.48e+10    2.03e+11\n",
      "piece_count_pack          -4.759e+10   7.87e+10     -0.604      0.546   -2.02e+11    1.07e+11\n",
      "difficulty_rating_pack        0.3801      0.647      0.587      0.557      -0.888       1.648\n",
      "w_pieces_diff_transformed     1.3095      0.975      1.343      0.179      -0.602       3.221\n",
      "brand_1_Artifact           -2.75e+07   2.28e+07     -1.204      0.229   -7.23e+07    1.73e+07\n",
      "brand_1_DaVici             -2.75e+07   2.28e+07     -1.204      0.229   -7.23e+07    1.73e+07\n",
      "brand_1_Ecru               -2.75e+07   2.28e+07     -1.204      0.229   -7.23e+07    1.73e+07\n",
      "brand_1_Liberty            -2.75e+07   2.28e+07     -1.204      0.229   -7.23e+07    1.73e+07\n",
      "brand_1_Nautilus           -2.75e+07   2.28e+07     -1.204      0.229   -7.23e+07    1.73e+07\n",
      "brand_1_Other-Hand-cut     -2.75e+07   2.28e+07     -1.204      0.229   -7.23e+07    1.73e+07\n",
      "brand_1_Other-Laser-cut    -2.75e+07   2.28e+07     -1.204      0.229   -7.23e+07    1.73e+07\n",
      "brand_1_Stave              -2.75e+07   2.28e+07     -1.204      0.229   -7.23e+07    1.73e+07\n",
      "brand_1_Wentworth          -2.75e+07   2.28e+07     -1.204      0.229   -7.23e+07    1.73e+07\n",
      "brand_1_unknown            -2.75e+07   2.28e+07     -1.204      0.229   -7.23e+07    1.73e+07\n",
      "brand_2_Artifact          -1.033e+07   1.23e+07     -0.840      0.401   -3.45e+07    1.38e+07\n",
      "brand_2_DaVici            -1.033e+07   1.23e+07     -0.840      0.401   -3.45e+07    1.38e+07\n",
      "brand_2_Ecru              -1.033e+07   1.23e+07     -0.840      0.401   -3.45e+07    1.38e+07\n",
      "brand_2_Liberty           -1.033e+07   1.23e+07     -0.840      0.401   -3.45e+07    1.38e+07\n",
      "brand_2_Nautilus          -1.033e+07   1.23e+07     -0.840      0.401   -3.45e+07    1.38e+07\n",
      "brand_2_Other-Hand-cut    -1.033e+07   1.23e+07     -0.840      0.401   -3.45e+07    1.38e+07\n",
      "brand_2_Other-Laser-cut   -1.033e+07   1.23e+07     -0.840      0.401   -3.45e+07    1.38e+07\n",
      "brand_2_Stave             -1.033e+07   1.23e+07     -0.840      0.401   -3.45e+07    1.38e+07\n",
      "brand_2_Wentworth         -1.033e+07   1.23e+07     -0.840      0.401   -3.45e+07    1.38e+07\n",
      "brand_2_unknown           -1.033e+07   1.23e+07     -0.840      0.401   -3.45e+07    1.38e+07\n",
      "==============================================================================\n",
      "Omnibus:                     9060.764   Durbin-Watson:                   1.996\n",
      "Prob(Omnibus):                  0.000   Jarque-Bera (JB):            96857.320\n",
      "Skew:                           2.907   Prob(JB):                         0.00\n",
      "Kurtosis:                      14.228   Cond. No.                     1.49e+16\n",
      "==============================================================================\n",
      "\n",
      "Notes:\n",
      "[1] Standard Errors assume that the covariance matrix of the errors is correctly specified.\n",
      "[2] The smallest eigenvalue is 5.69e-23. This might indicate that there are\n",
      "strong multicollinearity problems or that the design matrix is singular.\n"
     ]
    }
   ],
   "source": [
    "est = sma.OLS(y, X2.astype(float))\n",
    "est2 = est.fit()\n",
    "print(est2.summary())"
   ]
  },
  {
   "attachments": {
    "image.png": {
     "image/png": "[encoded data removed]"
    }
   },
   "cell_type": "markdown",
   "id": "7df228b6",
   "metadata": {},
   "source": [
    "![image.png](attachment:image.png)"
   ]
  },
  {
   "cell_type": "markdown",
   "id": "32e8b1a2",
   "metadata": {},
   "source": [
    "### 4.4 Decision Tree"
   ]
  },
  {
   "cell_type": "code",
   "execution_count": 21,
   "id": "e23d0bde",
   "metadata": {},
   "outputs": [],
   "source": [
    "def dtree_grid_search(X,y,nfolds):\n",
    "    #create a dictionary of all values we want to test\n",
    "    param_grid = {'max_depth': [3, 5, 7, 9, 11, 15, 17]}\n",
    "    # decision tree model\n",
    "    dtree_model = DecisionTreeRegressor()\n",
    "    #use gridsearch to test all values\n",
    "    dtree_gscv = GridSearchCV(dtree_model, param_grid, cv=nfolds)\n",
    "    #fit model to data\n",
    "    dtree_gscv.fit(X, y)\n",
    "    return dtree_gscv.best_params_"
   ]
  },
  {
   "cell_type": "code",
   "execution_count": 22,
   "id": "cfe8c043",
   "metadata": {},
   "outputs": [
    {
     "data": {
      "text/plain": [
       "{'max_depth': 3}"
      ]
     },
     "execution_count": 22,
     "metadata": {},
     "output_type": "execute_result"
    }
   ],
   "source": [
    "dtree_grid_search(X = x_train, y = y_train, nfolds = 5)"
   ]
  },
  {
   "cell_type": "code",
   "execution_count": 23,
   "id": "b7ccef81",
   "metadata": {},
   "outputs": [
    {
     "data": {
      "text/plain": [
       "12.447865314968272"
      ]
     },
     "execution_count": 23,
     "metadata": {},
     "output_type": "execute_result"
    }
   ],
   "source": [
    "model_dt = DecisionTreeRegressor(max_depth = 3,random_state=0)\n",
    "model_dt.fit(x_train, y_train)  #fit the model\n",
    "pred3 = model_dt.predict(x_test) #make prediction on test set\n",
    "mean_absolute_error(y_test, pred3) #calculate mae"
   ]
  },
  {
   "cell_type": "code",
   "execution_count": 24,
   "id": "4ee9fc3c",
   "metadata": {},
   "outputs": [],
   "source": [
    "feats = {} # a dict to hold feature_name: feature_importance\n",
    "for feature, importance in zip(x_train.columns, model_dt.feature_importances_):\n",
    "    feats[feature] = importance #add the name/value pair \n",
    "\n",
    "importances = pd.DataFrame.from_dict(feats, orient='index').rename(columns={0: 'Gini-importance'})\n",
    "# importances.sort_values(by='Gini-importance').plot(kind='bar', rot=45)"
   ]
  },
  {
   "cell_type": "code",
   "execution_count": 25,
   "id": "76c76443",
   "metadata": {},
   "outputs": [
    {
     "data": {
      "text/html": [
       "<div>\n",
       "<style scoped>\n",
       "    .dataframe tbody tr th:only-of-type {\n",
       "        vertical-align: middle;\n",
       "    }\n",
       "\n",
       "    .dataframe tbody tr th {\n",
       "        vertical-align: top;\n",
       "    }\n",
       "\n",
       "    .dataframe thead th {\n",
       "        text-align: right;\n",
       "    }\n",
       "</style>\n",
       "<table border=\"1\" class=\"dataframe\">\n",
       "  <thead>\n",
       "    <tr style=\"text-align: right;\">\n",
       "      <th></th>\n",
       "      <th>Gini-importance</th>\n",
       "    </tr>\n",
       "  </thead>\n",
       "  <tbody>\n",
       "    <tr>\n",
       "      <th>piece_count_pack</th>\n",
       "      <td>0.607699</td>\n",
       "    </tr>\n",
       "    <tr>\n",
       "      <th>w_pieces_diff_transformed</th>\n",
       "      <td>0.258662</td>\n",
       "    </tr>\n",
       "    <tr>\n",
       "      <th>brand_1_Artifact</th>\n",
       "      <td>0.088650</td>\n",
       "    </tr>\n",
       "    <tr>\n",
       "      <th>pieces_d3</th>\n",
       "      <td>0.044989</td>\n",
       "    </tr>\n",
       "    <tr>\n",
       "      <th>brand_2_Ecru</th>\n",
       "      <td>0.000000</td>\n",
       "    </tr>\n",
       "    <tr>\n",
       "      <th>brand_1_Wentworth</th>\n",
       "      <td>0.000000</td>\n",
       "    </tr>\n",
       "    <tr>\n",
       "      <th>brand_1_unknown</th>\n",
       "      <td>0.000000</td>\n",
       "    </tr>\n",
       "    <tr>\n",
       "      <th>brand_2_Artifact</th>\n",
       "      <td>0.000000</td>\n",
       "    </tr>\n",
       "    <tr>\n",
       "      <th>brand_2_DaVici</th>\n",
       "      <td>0.000000</td>\n",
       "    </tr>\n",
       "    <tr>\n",
       "      <th>piece_count_1</th>\n",
       "      <td>0.000000</td>\n",
       "    </tr>\n",
       "    <tr>\n",
       "      <th>brand_1_Other-Laser-cut</th>\n",
       "      <td>0.000000</td>\n",
       "    </tr>\n",
       "    <tr>\n",
       "      <th>brand_2_Liberty</th>\n",
       "      <td>0.000000</td>\n",
       "    </tr>\n",
       "    <tr>\n",
       "      <th>brand_2_Nautilus</th>\n",
       "      <td>0.000000</td>\n",
       "    </tr>\n",
       "    <tr>\n",
       "      <th>brand_2_Other-Hand-cut</th>\n",
       "      <td>0.000000</td>\n",
       "    </tr>\n",
       "    <tr>\n",
       "      <th>brand_2_Other-Laser-cut</th>\n",
       "      <td>0.000000</td>\n",
       "    </tr>\n",
       "  </tbody>\n",
       "</table>\n",
       "</div>"
      ],
      "text/plain": [
       "                           Gini-importance\n",
       "piece_count_pack                  0.607699\n",
       "w_pieces_diff_transformed         0.258662\n",
       "brand_1_Artifact                  0.088650\n",
       "pieces_d3                         0.044989\n",
       "brand_2_Ecru                      0.000000\n",
       "brand_1_Wentworth                 0.000000\n",
       "brand_1_unknown                   0.000000\n",
       "brand_2_Artifact                  0.000000\n",
       "brand_2_DaVici                    0.000000\n",
       "piece_count_1                     0.000000\n",
       "brand_1_Other-Laser-cut           0.000000\n",
       "brand_2_Liberty                   0.000000\n",
       "brand_2_Nautilus                  0.000000\n",
       "brand_2_Other-Hand-cut            0.000000\n",
       "brand_2_Other-Laser-cut           0.000000"
      ]
     },
     "execution_count": 25,
     "metadata": {},
     "output_type": "execute_result"
    }
   ],
   "source": [
    "importances.sort_values(by = 'Gini-importance', ascending=False).head(15)"
   ]
  },
  {
   "cell_type": "markdown",
   "id": "316b77ec",
   "metadata": {},
   "source": [
    "### 4.4 Random Forest"
   ]
  },
  {
   "cell_type": "code",
   "execution_count": 26,
   "id": "dec0f738",
   "metadata": {},
   "outputs": [],
   "source": [
    "def rf_grid_search(X,y,nfolds):\n",
    "    param_grid = {'max_depth': [3, 5, 7, 9], 'n_estimators': [50, 70, 100, 150, 200]}\n",
    "    rf_model = RandomForestRegressor()\n",
    "    rf_gscv = GridSearchCV(rf_model, param_grid, cv=nfolds)\n",
    "    rf_gscv.fit(X, y)\n",
    "    return rf_gscv.best_params_"
   ]
  },
  {
   "cell_type": "code",
   "execution_count": 27,
   "id": "c869cad8",
   "metadata": {},
   "outputs": [
    {
     "data": {
      "text/plain": [
       "{'max_depth': 3, 'n_estimators': 100}"
      ]
     },
     "execution_count": 27,
     "metadata": {},
     "output_type": "execute_result"
    }
   ],
   "source": [
    "rf_grid_search(X = x_train, y = y_train, nfolds = 5)"
   ]
  },
  {
   "cell_type": "code",
   "execution_count": 28,
   "id": "46a8442a",
   "metadata": {},
   "outputs": [
    {
     "data": {
      "text/plain": [
       "12.436204414656602"
      ]
     },
     "execution_count": 28,
     "metadata": {},
     "output_type": "execute_result"
    }
   ],
   "source": [
    "model_rf = RandomForestRegressor(max_depth = 3,n_estimators=200, random_state=0)\n",
    "model_rf.fit(x_train, y_train)  #fit the model\n",
    "pred4 = model_rf.predict(x_test) #make prediction on test set\n",
    "mean_absolute_error(y_test, pred4) #calculate mae"
   ]
  },
  {
   "cell_type": "code",
   "execution_count": 29,
   "id": "988e1039",
   "metadata": {},
   "outputs": [],
   "source": [
    "feats_rf = {} # a dict to hold feature_name: feature_importance\n",
    "for feature, importance in zip(x_train.columns, model_rf.feature_importances_):\n",
    "    feats_rf[feature] = importance #add the name/value pair \n",
    "\n",
    "importances_rf = pd.DataFrame.from_dict(feats_rf, orient='index').rename(columns={0: 'feature_importance'})\n",
    "# importances.sort_values(by='Gini-importance').plot(kind='bar', rot=45)"
   ]
  },
  {
   "cell_type": "code",
   "execution_count": 30,
   "id": "37eaeb96",
   "metadata": {},
   "outputs": [
    {
     "data": {
      "text/html": [
       "<div>\n",
       "<style scoped>\n",
       "    .dataframe tbody tr th:only-of-type {\n",
       "        vertical-align: middle;\n",
       "    }\n",
       "\n",
       "    .dataframe tbody tr th {\n",
       "        vertical-align: top;\n",
       "    }\n",
       "\n",
       "    .dataframe thead th {\n",
       "        text-align: right;\n",
       "    }\n",
       "</style>\n",
       "<table border=\"1\" class=\"dataframe\">\n",
       "  <thead>\n",
       "    <tr style=\"text-align: right;\">\n",
       "      <th></th>\n",
       "      <th>feature_importance</th>\n",
       "    </tr>\n",
       "  </thead>\n",
       "  <tbody>\n",
       "    <tr>\n",
       "      <th>piece_count_pack</th>\n",
       "      <td>0.575958</td>\n",
       "    </tr>\n",
       "    <tr>\n",
       "      <th>w_pieces_diff_transformed</th>\n",
       "      <td>0.213131</td>\n",
       "    </tr>\n",
       "    <tr>\n",
       "      <th>brand_1_Artifact</th>\n",
       "      <td>0.046877</td>\n",
       "    </tr>\n",
       "    <tr>\n",
       "      <th>piece_count_1</th>\n",
       "      <td>0.043080</td>\n",
       "    </tr>\n",
       "    <tr>\n",
       "      <th>pieces_d4</th>\n",
       "      <td>0.033324</td>\n",
       "    </tr>\n",
       "    <tr>\n",
       "      <th>piece_count_2</th>\n",
       "      <td>0.016813</td>\n",
       "    </tr>\n",
       "    <tr>\n",
       "      <th>pieces_d3</th>\n",
       "      <td>0.015915</td>\n",
       "    </tr>\n",
       "    <tr>\n",
       "      <th>pieces_d1</th>\n",
       "      <td>0.015663</td>\n",
       "    </tr>\n",
       "    <tr>\n",
       "      <th>pieces_d2</th>\n",
       "      <td>0.011825</td>\n",
       "    </tr>\n",
       "    <tr>\n",
       "      <th>difficulty_rating_1</th>\n",
       "      <td>0.007307</td>\n",
       "    </tr>\n",
       "    <tr>\n",
       "      <th>brand_2_Ecru</th>\n",
       "      <td>0.004491</td>\n",
       "    </tr>\n",
       "    <tr>\n",
       "      <th>difficulty_rating_pack</th>\n",
       "      <td>0.003580</td>\n",
       "    </tr>\n",
       "    <tr>\n",
       "      <th>brand_2_Artifact</th>\n",
       "      <td>0.002352</td>\n",
       "    </tr>\n",
       "    <tr>\n",
       "      <th>brand_1_Stave</th>\n",
       "      <td>0.001416</td>\n",
       "    </tr>\n",
       "    <tr>\n",
       "      <th>brand_2_Other-Laser-cut</th>\n",
       "      <td>0.001191</td>\n",
       "    </tr>\n",
       "  </tbody>\n",
       "</table>\n",
       "</div>"
      ],
      "text/plain": [
       "                           feature_importance\n",
       "piece_count_pack                     0.575958\n",
       "w_pieces_diff_transformed            0.213131\n",
       "brand_1_Artifact                     0.046877\n",
       "piece_count_1                        0.043080\n",
       "pieces_d4                            0.033324\n",
       "piece_count_2                        0.016813\n",
       "pieces_d3                            0.015915\n",
       "pieces_d1                            0.015663\n",
       "pieces_d2                            0.011825\n",
       "difficulty_rating_1                  0.007307\n",
       "brand_2_Ecru                         0.004491\n",
       "difficulty_rating_pack               0.003580\n",
       "brand_2_Artifact                     0.002352\n",
       "brand_1_Stave                        0.001416\n",
       "brand_2_Other-Laser-cut              0.001191"
      ]
     },
     "execution_count": 30,
     "metadata": {},
     "output_type": "execute_result"
    }
   ],
   "source": [
    "importances_rf.sort_values(by='feature_importance', ascending=False).head(15)"
   ]
  },
  {
   "cell_type": "markdown",
   "id": "3cb0a5a3",
   "metadata": {},
   "source": [
    "### "
   ]
  }
 ],
 "metadata": {
  "kernelspec": {
   "display_name": "Python 3",
   "language": "python",
   "name": "python3"
  },
  "language_info": {
   "codemirror_mode": {
    "name": "ipython",
    "version": 3
   },
   "file_extension": ".py",
   "mimetype": "text/x-python",
   "name": "python",
   "nbconvert_exporter": "python",
   "pygments_lexer": "ipython3",
   "version": "3.8.8"
  }
 },
 "nbformat": 4,
 "nbformat_minor": 5
}
