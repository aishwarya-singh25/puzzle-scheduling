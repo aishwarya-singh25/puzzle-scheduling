{
 "cells": [
  {
   "cell_type": "markdown",
   "id": "8171f7c0",
   "metadata": {},
   "source": [
    "# Notebook Structure"
   ]
  },
  {
   "cell_type": "markdown",
   "id": "cb0f97a2",
   "metadata": {},
   "source": [
    "1. Data Cleaning\n",
    "        1.1 Members data\n",
    "        1.2 Packs data\n",
    "        1.3 Merged data \n",
    "        1.4 *Dealing with nulls!!!\n",
    "        \n",
    "2. Feature Engineering\n",
    "\n",
    "-- Next Notebook \n",
    "\n",
    "\n",
    "3. Feature Importance\n",
    "        4.1 OLS Model on complete data\n",
    "        4.2 LR Model on complete data\n",
    "        4.3 DT Model on complete data\n",
    "        4.4 RF Model on complete data\n",
    "        4.5 Table representing MAE\n",
    "        4.6 Table representing feature importance\n",
    "\n",
    "5. Final Models per person\n",
    "        5.1 LR model per person\n",
    "        5.2 DT model per person\n",
    "        5.3 RF model per person"
   ]
  },
  {
   "cell_type": "markdown",
   "id": "546d40e8",
   "metadata": {},
   "source": [
    "# 1. Data Cleaning"
   ]
  },
  {
   "cell_type": "code",
   "execution_count": 1,
   "id": "4d9358c4",
   "metadata": {},
   "outputs": [],
   "source": [
    "import pandas as pd\n",
    "import numpy as np\n",
    "import math\n",
    "import matplotlib.pyplot as plt\n",
    "import seaborn as sns\n",
    "\n",
    "import warnings\n",
    "warnings.filterwarnings(\"ignore\")"
   ]
  },
  {
   "cell_type": "code",
   "execution_count": 2,
   "id": "d49bed5c",
   "metadata": {},
   "outputs": [],
   "source": [
    "path = '/Users/aishwaryasingh/PuzzleSchedulingProject/puzzle-scheduling/data/'"
   ]
  },
  {
   "cell_type": "markdown",
   "id": "411d544e",
   "metadata": {},
   "source": [
    "### 1.1 Members Data"
   ]
  },
  {
   "cell_type": "code",
   "execution_count": 3,
   "id": "eac5bb4e",
   "metadata": {},
   "outputs": [
    {
     "data": {
      "text/plain": [
       "(19733, 3)"
      ]
     },
     "execution_count": 3,
     "metadata": {},
     "output_type": "execute_result"
    }
   ],
   "source": [
    "member_holdtime_df = pd.read_csv(path+'member_hold_times_and_packs_Feb16_2023.tsv', \n",
    "                                 sep='\\t', header=None)\n",
    "member_holdtime_df.columns = ['memberID', 'holdtime', 'puzzlepack']\n",
    "member_holdtime_df.shape"
   ]
  },
  {
   "cell_type": "code",
   "execution_count": 4,
   "id": "7356f566",
   "metadata": {},
   "outputs": [
    {
     "data": {
      "text/plain": [
       "memberID      0\n",
       "holdtime      0\n",
       "puzzlepack    0\n",
       "dtype: int64"
      ]
     },
     "execution_count": 4,
     "metadata": {},
     "output_type": "execute_result"
    }
   ],
   "source": [
    "member_holdtime_df.isnull().sum()"
   ]
  },
  {
   "cell_type": "code",
   "execution_count": 5,
   "id": "07c920d8",
   "metadata": {},
   "outputs": [],
   "source": [
    "# removing outliers\n",
    "member_holdtime_df = member_holdtime_df[(member_holdtime_df['holdtime'] >= 0.1) & \n",
    "                                        (member_holdtime_df['holdtime'] <= 150)]"
   ]
  },
  {
   "cell_type": "markdown",
   "id": "aee5bdac",
   "metadata": {},
   "source": [
    "### 1.2 Packs Data"
   ]
  },
  {
   "cell_type": "code",
   "execution_count": 6,
   "id": "d4634df0",
   "metadata": {},
   "outputs": [
    {
     "data": {
      "text/plain": [
       "(920, 4)"
      ]
     },
     "execution_count": 6,
     "metadata": {},
     "output_type": "execute_result"
    }
   ],
   "source": [
    "packs_df = pd.read_csv(path + 'packs_Feb16_2023.tsv', sep='\\t', header=None)\n",
    "packs_df.columns = ['pack_name', 'brand', 'piece_count', 'difficulty_rating']\n",
    "packs_df.shape"
   ]
  },
  {
   "cell_type": "code",
   "execution_count": 7,
   "id": "6230ee49",
   "metadata": {},
   "outputs": [],
   "source": [
    "# making two coulmns for piece count\n",
    "packs_df['piece_count_1'] = packs_df['piece_count'].str.split(',', expand=True)[0]\n",
    "packs_df['piece_count_2'] = packs_df['piece_count'].str.split(',', expand=True)[1]\n",
    "# making two columns for difficulty\n",
    "packs_df['difficulty_rating_1'] = packs_df['difficulty_rating'].str.split(',', expand=True)[0]\n",
    "packs_df['difficulty_rating_2'] = packs_df['difficulty_rating'].str.split(',', expand=True)[1]"
   ]
  },
  {
   "cell_type": "code",
   "execution_count": 8,
   "id": "c9c865eb",
   "metadata": {},
   "outputs": [],
   "source": [
    "# splitting brand name\n",
    "packs_df['brand_2'] = packs_df['brand'].str.split(',', expand=True)[1]\n",
    "packs_df['brand_1'] = packs_df['brand'].str.split(',', expand=True)[0]"
   ]
  },
  {
   "cell_type": "code",
   "execution_count": 9,
   "id": "6ba0289e",
   "metadata": {},
   "outputs": [],
   "source": [
    "# adding number of puzzles feature\n",
    "packs_df['num_puzzles'] = packs_df['pack_name'].map(lambda n: 1 if (n[-1] == ' ') else 2, na_action='ignore')"
   ]
  },
  {
   "cell_type": "code",
   "execution_count": 10,
   "id": "fd41b929",
   "metadata": {},
   "outputs": [],
   "source": [
    "# fixing datatype\n",
    "packs_df = packs_df.astype({'piece_count_1': 'int64', 'piece_count_2': 'int64'}, errors='ignore')"
   ]
  },
  {
   "cell_type": "code",
   "execution_count": 11,
   "id": "f85c15d1",
   "metadata": {},
   "outputs": [],
   "source": [
    "# dropping the initial variables\n",
    "packs_df.drop(['brand', 'piece_count', 'difficulty_rating'], axis=1, inplace=True)"
   ]
  },
  {
   "cell_type": "code",
   "execution_count": 12,
   "id": "16d622d8",
   "metadata": {},
   "outputs": [
    {
     "data": {
      "text/plain": [
       "pack_name                0\n",
       "piece_count_1            8\n",
       "piece_count_2          181\n",
       "difficulty_rating_1      4\n",
       "difficulty_rating_2      4\n",
       "brand_2                775\n",
       "brand_1                 25\n",
       "num_puzzles              0\n",
       "dtype: int64"
      ]
     },
     "execution_count": 12,
     "metadata": {},
     "output_type": "execute_result"
    }
   ],
   "source": [
    "packs_df.isnull().sum()"
   ]
  },
  {
   "cell_type": "code",
   "execution_count": 13,
   "id": "15b61b65",
   "metadata": {},
   "outputs": [],
   "source": [
    "# making the brand_2 same as brand_1\n",
    "# ------ must be done only for puzzle = 2, right?\n",
    "packs_df.loc[(packs_df['brand_2'].isna()), 'brand_2'] = packs_df['brand_1']"
   ]
  },
  {
   "cell_type": "code",
   "execution_count": 14,
   "id": "e5cd081d",
   "metadata": {},
   "outputs": [],
   "source": [
    "packs_df[['brand_1', 'brand_2']] = packs_df[['brand_1', 'brand_2']].fillna('unknown')"
   ]
  },
  {
   "cell_type": "code",
   "execution_count": 15,
   "id": "ebb6c87d",
   "metadata": {},
   "outputs": [],
   "source": [
    "# Some 1 puzzle packs have a second number for pieces, this seems to be legit, updating to be 2 puzzle packs\n",
    "packs_df.loc[((packs_df.num_puzzles == 1) & (packs_df.piece_count_2.notna())), 'num_puzzles'] = 2"
   ]
  },
  {
   "cell_type": "code",
   "execution_count": 16,
   "id": "d5459e84",
   "metadata": {},
   "outputs": [],
   "source": [
    "packs_df.piece_count_1 = packs_df.piece_count_1.astype('float').astype('Int64')\n",
    "packs_df.piece_count_2 = packs_df.piece_count_2.astype('float').astype('Int64')\n",
    "\n",
    "avg_pc1 = packs_df['piece_count_1'].median()\n",
    "avg_pc2 = packs_df['piece_count_2'].median()"
   ]
  },
  {
   "cell_type": "code",
   "execution_count": 17,
   "id": "38e4c2e2",
   "metadata": {},
   "outputs": [],
   "source": [
    "# puzzles which have no value for piece_1 is replaced with avg values\n",
    "packs_df['piece_count_1'].fillna(avg_pc1, inplace=True)"
   ]
  },
  {
   "cell_type": "code",
   "execution_count": 18,
   "id": "a19a8ece",
   "metadata": {},
   "outputs": [],
   "source": [
    "# if 2 puzzles and second piececount is not available, replace with average\n",
    "packs_df.loc[((packs_df['piece_count_2'].isna() ) &(packs_df['num_puzzles'] ==2)), 'piece_count_2'] = int(avg_pc2)"
   ]
  },
  {
   "cell_type": "code",
   "execution_count": 19,
   "id": "10d2d338",
   "metadata": {},
   "outputs": [],
   "source": [
    "# puzzles with no second piece_count, make second piece count 0 \n",
    "# (because num_puzzle = 2 was dealt with earlier)\n",
    "packs_df.loc[(packs_df['piece_count_2'].isna()) & (packs_df['num_puzzles'] ==1), 'piece_count_2'] = int(0)"
   ]
  },
  {
   "cell_type": "code",
   "execution_count": 20,
   "id": "433f63ca",
   "metadata": {},
   "outputs": [
    {
     "data": {
      "text/plain": [
       "pack_name              0\n",
       "piece_count_1          0\n",
       "piece_count_2          0\n",
       "difficulty_rating_1    4\n",
       "difficulty_rating_2    4\n",
       "brand_2                0\n",
       "brand_1                0\n",
       "num_puzzles            0\n",
       "dtype: int64"
      ]
     },
     "execution_count": 20,
     "metadata": {},
     "output_type": "execute_result"
    }
   ],
   "source": [
    "packs_df.isnull().sum()"
   ]
  },
  {
   "cell_type": "code",
   "execution_count": 21,
   "id": "05fdf166",
   "metadata": {},
   "outputs": [],
   "source": [
    "packs_df['difficulty_rating_1'].fillna('Average', inplace=True)\n",
    "packs_df['difficulty_rating_2'].fillna('Average', inplace=True)"
   ]
  },
  {
   "cell_type": "markdown",
   "id": "dfb4cb56",
   "metadata": {},
   "source": [
    "### 1.3 Merged data"
   ]
  },
  {
   "cell_type": "code",
   "execution_count": 22,
   "id": "f95473b8",
   "metadata": {},
   "outputs": [
    {
     "data": {
      "text/html": [
       "<div>\n",
       "<style scoped>\n",
       "    .dataframe tbody tr th:only-of-type {\n",
       "        vertical-align: middle;\n",
       "    }\n",
       "\n",
       "    .dataframe tbody tr th {\n",
       "        vertical-align: top;\n",
       "    }\n",
       "\n",
       "    .dataframe thead th {\n",
       "        text-align: right;\n",
       "    }\n",
       "</style>\n",
       "<table border=\"1\" class=\"dataframe\">\n",
       "  <thead>\n",
       "    <tr style=\"text-align: right;\">\n",
       "      <th></th>\n",
       "      <th>memberID</th>\n",
       "      <th>holdtime</th>\n",
       "      <th>puzzlepack</th>\n",
       "      <th>pack_name</th>\n",
       "      <th>piece_count_1</th>\n",
       "      <th>piece_count_2</th>\n",
       "      <th>difficulty_rating_1</th>\n",
       "      <th>difficulty_rating_2</th>\n",
       "      <th>brand_2</th>\n",
       "      <th>brand_1</th>\n",
       "      <th>num_puzzles</th>\n",
       "    </tr>\n",
       "  </thead>\n",
       "  <tbody>\n",
       "    <tr>\n",
       "      <th>0</th>\n",
       "      <td>member1</td>\n",
       "      <td>2.939411</td>\n",
       "      <td>Artifact Puzzles Justin Hillgrove Word Travels...</td>\n",
       "      <td>Artifact Puzzles Justin Hillgrove Word Travels...</td>\n",
       "      <td>456</td>\n",
       "      <td>548</td>\n",
       "      <td>A-Easy</td>\n",
       "      <td>Average</td>\n",
       "      <td>Artifact</td>\n",
       "      <td>Artifact</td>\n",
       "      <td>2.0</td>\n",
       "    </tr>\n",
       "    <tr>\n",
       "      <th>1</th>\n",
       "      <td>member1</td>\n",
       "      <td>0.998885</td>\n",
       "      <td>DaVici Puzzles Full Moon Feast DaVici Puzzles ...</td>\n",
       "      <td>DaVici Puzzles Full Moon Feast DaVici Puzzles ...</td>\n",
       "      <td>195</td>\n",
       "      <td>220</td>\n",
       "      <td>A-Easy</td>\n",
       "      <td>Hard</td>\n",
       "      <td>DaVici</td>\n",
       "      <td>DaVici</td>\n",
       "      <td>2.0</td>\n",
       "    </tr>\n",
       "  </tbody>\n",
       "</table>\n",
       "</div>"
      ],
      "text/plain": [
       "  memberID  holdtime                                         puzzlepack  \\\n",
       "0  member1  2.939411  Artifact Puzzles Justin Hillgrove Word Travels...   \n",
       "1  member1  0.998885  DaVici Puzzles Full Moon Feast DaVici Puzzles ...   \n",
       "\n",
       "                                           pack_name  piece_count_1  \\\n",
       "0  Artifact Puzzles Justin Hillgrove Word Travels...            456   \n",
       "1  DaVici Puzzles Full Moon Feast DaVici Puzzles ...            195   \n",
       "\n",
       "   piece_count_2 difficulty_rating_1 difficulty_rating_2   brand_2   brand_1  \\\n",
       "0            548              A-Easy             Average  Artifact  Artifact   \n",
       "1            220              A-Easy                Hard    DaVici    DaVici   \n",
       "\n",
       "   num_puzzles  \n",
       "0          2.0  \n",
       "1          2.0  "
      ]
     },
     "execution_count": 22,
     "metadata": {},
     "output_type": "execute_result"
    }
   ],
   "source": [
    "df = member_holdtime_df.merge(packs_df, left_on='puzzlepack', right_on='pack_name', how='left')\n",
    "df.head(2)"
   ]
  },
  {
   "cell_type": "code",
   "execution_count": 23,
   "id": "6cb17d39",
   "metadata": {},
   "outputs": [
    {
     "data": {
      "text/plain": [
       "((19387, 11), (19387, 3))"
      ]
     },
     "execution_count": 23,
     "metadata": {},
     "output_type": "execute_result"
    }
   ],
   "source": [
    "df.shape, member_holdtime_df.shape"
   ]
  },
  {
   "cell_type": "code",
   "execution_count": 24,
   "id": "8d37f54e",
   "metadata": {},
   "outputs": [
    {
     "data": {
      "text/plain": [
       "(968, 920)"
      ]
     },
     "execution_count": 24,
     "metadata": {},
     "output_type": "execute_result"
    }
   ],
   "source": [
    "member_holdtime_df.puzzlepack.nunique(), packs_df.pack_name.nunique(), "
   ]
  },
  {
   "cell_type": "code",
   "execution_count": 25,
   "id": "11a58809",
   "metadata": {},
   "outputs": [
    {
     "data": {
      "text/plain": [
       "memberID                  0\n",
       "holdtime                  0\n",
       "puzzlepack                0\n",
       "pack_name              1085\n",
       "piece_count_1          1085\n",
       "piece_count_2          1085\n",
       "difficulty_rating_1    1085\n",
       "difficulty_rating_2    1085\n",
       "brand_2                1085\n",
       "brand_1                1085\n",
       "num_puzzles            1085\n",
       "dtype: int64"
      ]
     },
     "execution_count": 25,
     "metadata": {},
     "output_type": "execute_result"
    }
   ],
   "source": [
    "df.isnull().sum()\n",
    "# about 5% of the data is missing"
   ]
  },
  {
   "cell_type": "markdown",
   "id": "115a36c7",
   "metadata": {},
   "source": [
    "<div class=\"alert alert-block alert-info\">\n",
    "<b>Tip:</b> # Ideally we should have information about all the packs. Since we do not have this information and it is recommended that we do not drop these rows, we will impute these with the average values.\n",
    "</div>"
   ]
  },
  {
   "cell_type": "markdown",
   "id": "aa05a8a3",
   "metadata": {},
   "source": [
    "### 1.4 Dealing with Nulls!\n",
    "**Methodology**\n",
    "\n",
    "* num_puzzles --> Count number of times 'Puzzle' appears in puzzlepack\n",
    "* brand_1, brand_2 --> Take word before 'Puzzle' as brand name\n",
    "* difficulty_rating --> Take average at brand level from known data\n",
    "* piece_count --> Take average at brand level from known data"
   ]
  },
  {
   "cell_type": "code",
   "execution_count": 26,
   "id": "d7c0c333",
   "metadata": {},
   "outputs": [],
   "source": [
    "missing_pack_data = df.loc[df['pack_name'].isna()][['puzzlepack', 'piece_count_1', 'piece_count_2',\n",
    "                               'difficulty_rating_1', 'difficulty_rating_2', 'brand_1', \n",
    "                                'brand_2', 'num_puzzles']]\n",
    "missing_pack_data.reset_index(drop=True, inplace=True)"
   ]
  },
  {
   "cell_type": "code",
   "execution_count": 27,
   "id": "1282719e",
   "metadata": {},
   "outputs": [],
   "source": [
    "# getting number of puzzles\n",
    "missing_pack_data['num_puzzles'] = missing_pack_data['puzzlepack'].apply(lambda x: (x.count('Puzzles')))"
   ]
  },
  {
   "cell_type": "code",
   "execution_count": 28,
   "id": "f8a92e5f",
   "metadata": {},
   "outputs": [],
   "source": [
    "# packs can have only 1 or two puzzles\n",
    "for i in range(0, len(missing_pack_data)):\n",
    "    if missing_pack_data['num_puzzles'][i] < 1:\n",
    "        missing_pack_data['num_puzzles'][i] = 1\n",
    "    elif missing_pack_data['num_puzzles'][i] > 2:\n",
    "        missing_pack_data['num_puzzles'][i] = 2\n",
    "    else: \n",
    "        pass"
   ]
  },
  {
   "cell_type": "code",
   "execution_count": 29,
   "id": "60ad0f2b",
   "metadata": {},
   "outputs": [],
   "source": [
    "## to limit the number of brand names we will only use the brands that we know\n",
    "known_brands = list(set(packs_df['brand_1'].unique()).union(set(packs_df['brand_2'].unique())))"
   ]
  },
  {
   "cell_type": "code",
   "execution_count": 30,
   "id": "57ca7af2",
   "metadata": {},
   "outputs": [],
   "source": [
    "# getting brand_1\n",
    "for i in range(0,len(missing_pack_data)):\n",
    "    words = missing_pack_data['puzzlepack'][i].split()[0:2] \n",
    "    \n",
    "    if 'Puzzles' in words[1:]: #if its the second or third word\n",
    "        if words[words.index('Puzzles')-1] in(known_brands):\n",
    "            missing_pack_data['brand_1'][i] = words[words.index('Puzzles')-1]\n",
    "        else:\n",
    "            missing_pack_data['brand_1'][i] = 'unknown'"
   ]
  },
  {
   "cell_type": "code",
   "execution_count": 31,
   "id": "7529e7eb",
   "metadata": {},
   "outputs": [],
   "source": [
    "# getting brand_2\n",
    "for i in range(0,len(missing_pack_data)):\n",
    "    words = missing_pack_data['puzzlepack'][i].split()[2:]\n",
    "    if 'Puzzles' in words[1:]: #if its the 4th word onwards\n",
    "        if words[words.index('Puzzles')-1] in(known_brands):\n",
    "            missing_pack_data['brand_2'][i] = words[words.index('Puzzles')-1]\n",
    "        else:\n",
    "            missing_pack_data['brand_2'][i] = 'unknown'"
   ]
  },
  {
   "cell_type": "code",
   "execution_count": 32,
   "id": "44c2ab96",
   "metadata": {},
   "outputs": [
    {
     "data": {
      "text/plain": [
       "num_puzzles      0\n",
       "brand_1        139\n",
       "brand_2        333\n",
       "dtype: int64"
      ]
     },
     "execution_count": 32,
     "metadata": {},
     "output_type": "execute_result"
    }
   ],
   "source": [
    "missing_pack_data[['num_puzzles', 'brand_1', 'brand_2']].isnull().sum()"
   ]
  },
  {
   "cell_type": "code",
   "execution_count": 33,
   "id": "e14ac8a2",
   "metadata": {},
   "outputs": [],
   "source": [
    "# if anything still missing in num_puzzles, brands\n",
    "missing_pack_data['num_puzzles'].fillna(1, inplace=True)\n",
    "missing_pack_data['brand_1'].fillna('unknown', inplace=True)\n",
    "missing_pack_data['brand_2'].fillna('unknown', inplace=True)"
   ]
  },
  {
   "cell_type": "code",
   "execution_count": 34,
   "id": "dd163317",
   "metadata": {},
   "outputs": [],
   "source": [
    "# brand level average piece count values -- KNOWN data\n",
    "groupby_brand_pieces_1 = packs_df.groupby(\"brand_1\")[\"piece_count_1\"].mean()\n",
    "groupby_brand_pieces_2 = packs_df.groupby(\"brand_2\")[\"piece_count_2\"].mean()"
   ]
  },
  {
   "cell_type": "code",
   "execution_count": 35,
   "id": "424af44b",
   "metadata": {},
   "outputs": [],
   "source": [
    "# getting piece_count_1\n",
    "for i in range(0, len(missing_pack_data)):\n",
    "    try:\n",
    "        missing_pack_data['piece_count_1'][i] = int(groupby_brand_pieces_1[missing_pack_data['brand_1'][i]])\n",
    "        # getting piece_count_2 if needed\n",
    "        if missing_pack_data['num_puzzles'][i] == 1:\n",
    "            missing_pack_data['piece_count_2'][i] = 0\n",
    "        else:\n",
    "            missing_pack_data['piece_count_2'][i] = int(groupby_brand_pieces_2[missing_pack_data['brand_2'][i]])\n",
    "    except Exception as e:\n",
    "        pass\n",
    "#         print(e)"
   ]
  },
  {
   "cell_type": "code",
   "execution_count": 36,
   "id": "47c40d25",
   "metadata": {},
   "outputs": [],
   "source": [
    "# brand level most common difficulty values -- KNOWN data\n",
    "groupby_brand_diff_1 = packs_df.groupby(\"brand_1\")[\"difficulty_rating_1\"].agg(pd.Series.mode)\n",
    "groupby_brand_diff_2 = packs_df.groupby(\"brand_2\")[\"difficulty_rating_2\"].agg(pd.Series.mode)"
   ]
  },
  {
   "cell_type": "code",
   "execution_count": 37,
   "id": "dacfe152",
   "metadata": {},
   "outputs": [],
   "source": [
    "# getting difficulty_rating_1\n",
    "for i in range(0, len(missing_pack_data)):\n",
    "    try:\n",
    "        missing_pack_data['difficulty_rating_1'][i] = groupby_brand_diff_1[missing_pack_data['brand_1'][i]]\n",
    "        # getting difficulty_rating_2 if needed\n",
    "        if missing_pack_data['num_puzzles'][i] == 1:\n",
    "            missing_pack_data['difficulty_rating_2'][i] = 'Average'\n",
    "        else:\n",
    "            missing_pack_data['difficulty_rating_2'][i] = (groupby_brand_diff_2[missing_pack_data['brand_2'][i]])\n",
    "    except Exception as e:\n",
    "        pass"
   ]
  },
  {
   "cell_type": "code",
   "execution_count": 38,
   "id": "edeef37f",
   "metadata": {},
   "outputs": [
    {
     "data": {
      "text/plain": [
       "puzzlepack             0\n",
       "piece_count_1          0\n",
       "piece_count_2          0\n",
       "difficulty_rating_1    0\n",
       "difficulty_rating_2    0\n",
       "brand_1                0\n",
       "brand_2                0\n",
       "num_puzzles            0\n",
       "dtype: int64"
      ]
     },
     "execution_count": 38,
     "metadata": {},
     "output_type": "execute_result"
    }
   ],
   "source": [
    "missing_pack_data.isnull().sum()"
   ]
  },
  {
   "cell_type": "markdown",
   "id": "a0c1be0f",
   "metadata": {},
   "source": [
    "### Making a final packs data"
   ]
  },
  {
   "cell_type": "code",
   "execution_count": 39,
   "id": "c12eb596",
   "metadata": {},
   "outputs": [],
   "source": [
    "# setting order same as missing pack to concat easily\n",
    "packs_df = packs_df[['pack_name', 'piece_count_1', 'piece_count_2', 'difficulty_rating_1', \n",
    "                             'difficulty_rating_2', 'brand_1', 'brand_2', 'num_puzzles']]"
   ]
  },
  {
   "cell_type": "code",
   "execution_count": 40,
   "id": "54ca2cc3",
   "metadata": {},
   "outputs": [],
   "source": [
    "# setting same column names to concat easily\n",
    "missing_pack_data = missing_pack_data.rename(columns = {'puzzlepack':'pack_name'})"
   ]
  },
  {
   "cell_type": "code",
   "execution_count": 41,
   "id": "4b3386c5",
   "metadata": {},
   "outputs": [
    {
     "data": {
      "text/plain": [
       "((920, 8), (1085, 8))"
      ]
     },
     "execution_count": 41,
     "metadata": {},
     "output_type": "execute_result"
    }
   ],
   "source": [
    "packs_df.shape, missing_pack_data.shape"
   ]
  },
  {
   "cell_type": "code",
   "execution_count": 42,
   "id": "10f53433",
   "metadata": {},
   "outputs": [
    {
     "data": {
      "text/plain": [
       "(2005, 8)"
      ]
     },
     "execution_count": 42,
     "metadata": {},
     "output_type": "execute_result"
    }
   ],
   "source": [
    "packs_updated = pd.concat([packs_df, missing_pack_data])\n",
    "packs_updated.reset_index(inplace=True, drop = True)\n",
    "packs_updated.shape"
   ]
  },
  {
   "cell_type": "code",
   "execution_count": 43,
   "id": "911bf569",
   "metadata": {},
   "outputs": [
    {
     "data": {
      "text/html": [
       "<div>\n",
       "<style scoped>\n",
       "    .dataframe tbody tr th:only-of-type {\n",
       "        vertical-align: middle;\n",
       "    }\n",
       "\n",
       "    .dataframe tbody tr th {\n",
       "        vertical-align: top;\n",
       "    }\n",
       "\n",
       "    .dataframe thead th {\n",
       "        text-align: right;\n",
       "    }\n",
       "</style>\n",
       "<table border=\"1\" class=\"dataframe\">\n",
       "  <thead>\n",
       "    <tr style=\"text-align: right;\">\n",
       "      <th></th>\n",
       "      <th>memberID</th>\n",
       "      <th>holdtime</th>\n",
       "      <th>puzzlepack</th>\n",
       "      <th>pack_name</th>\n",
       "      <th>piece_count_1</th>\n",
       "      <th>piece_count_2</th>\n",
       "      <th>difficulty_rating_1</th>\n",
       "      <th>difficulty_rating_2</th>\n",
       "      <th>brand_1</th>\n",
       "      <th>brand_2</th>\n",
       "      <th>num_puzzles</th>\n",
       "    </tr>\n",
       "  </thead>\n",
       "  <tbody>\n",
       "    <tr>\n",
       "      <th>0</th>\n",
       "      <td>member1</td>\n",
       "      <td>2.939411</td>\n",
       "      <td>Artifact Puzzles Justin Hillgrove Word Travels...</td>\n",
       "      <td>Artifact Puzzles Justin Hillgrove Word Travels...</td>\n",
       "      <td>456</td>\n",
       "      <td>548</td>\n",
       "      <td>A-Easy</td>\n",
       "      <td>Average</td>\n",
       "      <td>Artifact</td>\n",
       "      <td>Artifact</td>\n",
       "      <td>2</td>\n",
       "    </tr>\n",
       "    <tr>\n",
       "      <th>1</th>\n",
       "      <td>member1</td>\n",
       "      <td>0.998885</td>\n",
       "      <td>DaVici Puzzles Full Moon Feast DaVici Puzzles ...</td>\n",
       "      <td>DaVici Puzzles Full Moon Feast DaVici Puzzles ...</td>\n",
       "      <td>195</td>\n",
       "      <td>220</td>\n",
       "      <td>A-Easy</td>\n",
       "      <td>Hard</td>\n",
       "      <td>DaVici</td>\n",
       "      <td>DaVici</td>\n",
       "      <td>2</td>\n",
       "    </tr>\n",
       "  </tbody>\n",
       "</table>\n",
       "</div>"
      ],
      "text/plain": [
       "  memberID  holdtime                                         puzzlepack  \\\n",
       "0  member1  2.939411  Artifact Puzzles Justin Hillgrove Word Travels...   \n",
       "1  member1  0.998885  DaVici Puzzles Full Moon Feast DaVici Puzzles ...   \n",
       "\n",
       "                                           pack_name  piece_count_1  \\\n",
       "0  Artifact Puzzles Justin Hillgrove Word Travels...            456   \n",
       "1  DaVici Puzzles Full Moon Feast DaVici Puzzles ...            195   \n",
       "\n",
       "   piece_count_2 difficulty_rating_1 difficulty_rating_2   brand_1   brand_2  \\\n",
       "0            548              A-Easy             Average  Artifact  Artifact   \n",
       "1            220              A-Easy                Hard    DaVici    DaVici   \n",
       "\n",
       "   num_puzzles  \n",
       "0            2  \n",
       "1            2  "
      ]
     },
     "execution_count": 43,
     "metadata": {},
     "output_type": "execute_result"
    }
   ],
   "source": [
    "df_cleaned = member_holdtime_df.merge(packs_updated, left_on='puzzlepack', right_on='pack_name', how='left')\n",
    "df_cleaned.head(2)"
   ]
  },
  {
   "cell_type": "code",
   "execution_count": 44,
   "id": "cc5474df",
   "metadata": {},
   "outputs": [],
   "source": [
    "df_cleaned.drop_duplicates(inplace=True)\n",
    "df_cleaned.reset_index(drop=True, inplace=True)"
   ]
  },
  {
   "cell_type": "code",
   "execution_count": 45,
   "id": "9a5672d4",
   "metadata": {},
   "outputs": [],
   "source": [
    "difficulty_mapping = {'A-Easy': 1, 'Average': 2, 'Hard': 3, 'Really-Hard': 4}\n",
    "\n",
    "df_cleaned['difficulty_rating_1'] = df_cleaned['difficulty_rating_1'].map(lambda x: difficulty_mapping[x], na_action='ignore')\n",
    "df_cleaned['difficulty_rating_2'] = df_cleaned['difficulty_rating_2'].map(lambda x: difficulty_mapping[x], na_action='ignore')"
   ]
  },
  {
   "cell_type": "code",
   "execution_count": 46,
   "id": "9ee3fe99",
   "metadata": {},
   "outputs": [
    {
     "data": {
      "text/plain": [
       "((19387, 11), (19387, 11), (19387, 3))"
      ]
     },
     "execution_count": 46,
     "metadata": {},
     "output_type": "execute_result"
    }
   ],
   "source": [
    "df_cleaned.shape, df.shape, member_holdtime_df.shape"
   ]
  },
  {
   "cell_type": "code",
   "execution_count": 47,
   "id": "ce9fab27",
   "metadata": {},
   "outputs": [
    {
     "data": {
      "text/plain": [
       "memberID               0\n",
       "holdtime               0\n",
       "puzzlepack             0\n",
       "pack_name              0\n",
       "piece_count_1          0\n",
       "piece_count_2          0\n",
       "difficulty_rating_1    0\n",
       "difficulty_rating_2    0\n",
       "brand_1                0\n",
       "brand_2                0\n",
       "num_puzzles            0\n",
       "dtype: int64"
      ]
     },
     "execution_count": 47,
     "metadata": {},
     "output_type": "execute_result"
    }
   ],
   "source": [
    "df_cleaned.isnull().sum()"
   ]
  },
  {
   "cell_type": "markdown",
   "id": "36941516",
   "metadata": {},
   "source": [
    "# 3. Feature Engineering"
   ]
  },
  {
   "cell_type": "markdown",
   "id": "1e7b06c0",
   "metadata": {},
   "source": [
    "### First feature is number of pieces for each difficulty d1, d2, d3, d4"
   ]
  },
  {
   "cell_type": "code",
   "execution_count": 48,
   "id": "4eab8709",
   "metadata": {},
   "outputs": [],
   "source": [
    "# taking code from jon's branch\n",
    "pieces_by_difficulty = []\n",
    "\n",
    "for i, row in df_cleaned.iterrows():\n",
    "    out = {\n",
    "        'name': row['pack_name'],\n",
    "        'pieces_d1': 0,\n",
    "        'pieces_d2': 0,\n",
    "        'pieces_d3': 0,\n",
    "        'pieces_d4': 0,\n",
    "        'num_puzzles': row['num_puzzles']\n",
    "    }\n",
    "    \n",
    "    if not math.isnan(row['piece_count_1']):\n",
    "        out[f'pieces_d{str(int(row[\"difficulty_rating_1\"]))}'] += row['piece_count_1']\n",
    "    \n",
    "    if(row['num_puzzles'] == 2 and math.isnan(row['piece_count_1']) == False):\n",
    "        out[f'pieces_d{str(int(row[\"difficulty_rating_2\"]))}'] += row['piece_count_2']\n",
    "        \n",
    "    pieces_by_difficulty.append(out)"
   ]
  },
  {
   "cell_type": "code",
   "execution_count": 49,
   "id": "dd7918fa",
   "metadata": {},
   "outputs": [
    {
     "data": {
      "text/html": [
       "<div>\n",
       "<style scoped>\n",
       "    .dataframe tbody tr th:only-of-type {\n",
       "        vertical-align: middle;\n",
       "    }\n",
       "\n",
       "    .dataframe tbody tr th {\n",
       "        vertical-align: top;\n",
       "    }\n",
       "\n",
       "    .dataframe thead th {\n",
       "        text-align: right;\n",
       "    }\n",
       "</style>\n",
       "<table border=\"1\" class=\"dataframe\">\n",
       "  <thead>\n",
       "    <tr style=\"text-align: right;\">\n",
       "      <th></th>\n",
       "      <th>name</th>\n",
       "      <th>pieces_d1</th>\n",
       "      <th>pieces_d2</th>\n",
       "      <th>pieces_d3</th>\n",
       "      <th>pieces_d4</th>\n",
       "      <th>num_puzzles</th>\n",
       "    </tr>\n",
       "  </thead>\n",
       "  <tbody>\n",
       "    <tr>\n",
       "      <th>0</th>\n",
       "      <td>Artifact Puzzles Justin Hillgrove Word Travels...</td>\n",
       "      <td>456</td>\n",
       "      <td>548</td>\n",
       "      <td>0</td>\n",
       "      <td>0</td>\n",
       "      <td>2</td>\n",
       "    </tr>\n",
       "    <tr>\n",
       "      <th>1</th>\n",
       "      <td>DaVici Puzzles Full Moon Feast DaVici Puzzles ...</td>\n",
       "      <td>195</td>\n",
       "      <td>0</td>\n",
       "      <td>220</td>\n",
       "      <td>0</td>\n",
       "      <td>2</td>\n",
       "    </tr>\n",
       "    <tr>\n",
       "      <th>2</th>\n",
       "      <td>DaVici Puzzles Flying Frigate DaVici Puzzles H...</td>\n",
       "      <td>496</td>\n",
       "      <td>0</td>\n",
       "      <td>0</td>\n",
       "      <td>0</td>\n",
       "      <td>2</td>\n",
       "    </tr>\n",
       "    <tr>\n",
       "      <th>3</th>\n",
       "      <td>Liberty Puzzles Haeckel Hummingbirds Nautilus ...</td>\n",
       "      <td>0</td>\n",
       "      <td>707</td>\n",
       "      <td>0</td>\n",
       "      <td>0</td>\n",
       "      <td>2</td>\n",
       "    </tr>\n",
       "    <tr>\n",
       "      <th>4</th>\n",
       "      <td>DaVici Puzzles Diana Zimens City Of Cats</td>\n",
       "      <td>0</td>\n",
       "      <td>700</td>\n",
       "      <td>0</td>\n",
       "      <td>0</td>\n",
       "      <td>1</td>\n",
       "    </tr>\n",
       "  </tbody>\n",
       "</table>\n",
       "</div>"
      ],
      "text/plain": [
       "                                                name  pieces_d1  pieces_d2  \\\n",
       "0  Artifact Puzzles Justin Hillgrove Word Travels...        456        548   \n",
       "1  DaVici Puzzles Full Moon Feast DaVici Puzzles ...        195          0   \n",
       "2  DaVici Puzzles Flying Frigate DaVici Puzzles H...        496          0   \n",
       "3  Liberty Puzzles Haeckel Hummingbirds Nautilus ...          0        707   \n",
       "4          DaVici Puzzles Diana Zimens City Of Cats           0        700   \n",
       "\n",
       "   pieces_d3  pieces_d4  num_puzzles  \n",
       "0          0          0            2  \n",
       "1        220          0            2  \n",
       "2          0          0            2  \n",
       "3          0          0            2  \n",
       "4          0          0            1  "
      ]
     },
     "execution_count": 49,
     "metadata": {},
     "output_type": "execute_result"
    }
   ],
   "source": [
    "pieces_df = pd.DataFrame(pieces_by_difficulty)\n",
    "pieces_df.head()"
   ]
  },
  {
   "cell_type": "markdown",
   "id": "d041fd25",
   "metadata": {},
   "source": [
    "### Second Feature is counting total number of pieces at pack level"
   ]
  },
  {
   "cell_type": "code",
   "execution_count": 50,
   "id": "3a9dc36f",
   "metadata": {},
   "outputs": [],
   "source": [
    "# making things at pack level\n",
    "df_cleaned['piece_count_pack'] = 0\n",
    "df_cleaned['difficulty_rating_pack'] = 0\n",
    "for i in range(0, len(df_cleaned)):\n",
    "    if df_cleaned['num_puzzles'][i] == 1:\n",
    "        df_cleaned['piece_count_pack'][i] = df_cleaned['piece_count_1'][i]\n",
    "        df_cleaned['difficulty_rating_pack'][i] = df_cleaned['difficulty_rating_1'][i]\n",
    "    else:\n",
    "        df_cleaned['piece_count_pack'][i] = df_cleaned['piece_count_1'][i] + df_cleaned['piece_count_2'][i]\n",
    "        df_cleaned['difficulty_rating_pack'][i] = (df_cleaned['difficulty_rating_1'][i] + df_cleaned['difficulty_rating_2'][i])//2"
   ]
  },
  {
   "cell_type": "markdown",
   "id": "63eeb3e4",
   "metadata": {},
   "source": [
    "### Third feautre is combining difficulty and piece count into a single column values"
   ]
  },
  {
   "cell_type": "code",
   "execution_count": 51,
   "id": "a77e024f",
   "metadata": {},
   "outputs": [],
   "source": [
    "# taking code from madalyn's branch\n",
    "pieces_df['w_pieces_diff'] = pieces_df['pieces_d1'] + pieces_df['pieces_d2']*2 + pieces_df['pieces_d3']*3 + pieces_df['pieces_d4']*4\n",
    "\n",
    "# use box cox method to transform weighted pieces by difficulty\n",
    "from sklearn.preprocessing import power_transform \n",
    "pieces_df['w_pieces_diff_transformed'] = power_transform(pieces_df[['w_pieces_diff']], method='box-cox')\n"
   ]
  },
  {
   "cell_type": "code",
   "execution_count": 52,
   "id": "577953d2",
   "metadata": {},
   "outputs": [
    {
     "data": {
      "text/html": [
       "<div>\n",
       "<style scoped>\n",
       "    .dataframe tbody tr th:only-of-type {\n",
       "        vertical-align: middle;\n",
       "    }\n",
       "\n",
       "    .dataframe tbody tr th {\n",
       "        vertical-align: top;\n",
       "    }\n",
       "\n",
       "    .dataframe thead th {\n",
       "        text-align: right;\n",
       "    }\n",
       "</style>\n",
       "<table border=\"1\" class=\"dataframe\">\n",
       "  <thead>\n",
       "    <tr style=\"text-align: right;\">\n",
       "      <th></th>\n",
       "      <th>name</th>\n",
       "      <th>pieces_d1</th>\n",
       "      <th>pieces_d2</th>\n",
       "      <th>pieces_d3</th>\n",
       "      <th>pieces_d4</th>\n",
       "      <th>num_puzzles</th>\n",
       "      <th>w_pieces_diff</th>\n",
       "      <th>w_pieces_diff_transformed</th>\n",
       "      <th>bin_label</th>\n",
       "    </tr>\n",
       "  </thead>\n",
       "  <tbody>\n",
       "    <tr>\n",
       "      <th>0</th>\n",
       "      <td>Artifact Puzzles Justin Hillgrove Word Travels...</td>\n",
       "      <td>456</td>\n",
       "      <td>548</td>\n",
       "      <td>0</td>\n",
       "      <td>0</td>\n",
       "      <td>2</td>\n",
       "      <td>1552</td>\n",
       "      <td>0.476563</td>\n",
       "      <td>bin9</td>\n",
       "    </tr>\n",
       "    <tr>\n",
       "      <th>1</th>\n",
       "      <td>DaVici Puzzles Full Moon Feast DaVici Puzzles ...</td>\n",
       "      <td>195</td>\n",
       "      <td>0</td>\n",
       "      <td>220</td>\n",
       "      <td>0</td>\n",
       "      <td>2</td>\n",
       "      <td>855</td>\n",
       "      <td>-0.550938</td>\n",
       "      <td>bin6</td>\n",
       "    </tr>\n",
       "    <tr>\n",
       "      <th>2</th>\n",
       "      <td>DaVici Puzzles Flying Frigate DaVici Puzzles H...</td>\n",
       "      <td>496</td>\n",
       "      <td>0</td>\n",
       "      <td>0</td>\n",
       "      <td>0</td>\n",
       "      <td>2</td>\n",
       "      <td>496</td>\n",
       "      <td>-1.335665</td>\n",
       "      <td>bin3</td>\n",
       "    </tr>\n",
       "    <tr>\n",
       "      <th>3</th>\n",
       "      <td>Liberty Puzzles Haeckel Hummingbirds Nautilus ...</td>\n",
       "      <td>0</td>\n",
       "      <td>707</td>\n",
       "      <td>0</td>\n",
       "      <td>0</td>\n",
       "      <td>2</td>\n",
       "      <td>1414</td>\n",
       "      <td>0.303165</td>\n",
       "      <td>bin9</td>\n",
       "    </tr>\n",
       "    <tr>\n",
       "      <th>4</th>\n",
       "      <td>DaVici Puzzles Diana Zimens City Of Cats</td>\n",
       "      <td>0</td>\n",
       "      <td>700</td>\n",
       "      <td>0</td>\n",
       "      <td>0</td>\n",
       "      <td>1</td>\n",
       "      <td>1400</td>\n",
       "      <td>0.284934</td>\n",
       "      <td>bin8</td>\n",
       "    </tr>\n",
       "  </tbody>\n",
       "</table>\n",
       "</div>"
      ],
      "text/plain": [
       "                                                name  pieces_d1  pieces_d2  \\\n",
       "0  Artifact Puzzles Justin Hillgrove Word Travels...        456        548   \n",
       "1  DaVici Puzzles Full Moon Feast DaVici Puzzles ...        195          0   \n",
       "2  DaVici Puzzles Flying Frigate DaVici Puzzles H...        496          0   \n",
       "3  Liberty Puzzles Haeckel Hummingbirds Nautilus ...          0        707   \n",
       "4          DaVici Puzzles Diana Zimens City Of Cats           0        700   \n",
       "\n",
       "   pieces_d3  pieces_d4  num_puzzles  w_pieces_diff  \\\n",
       "0          0          0            2           1552   \n",
       "1        220          0            2            855   \n",
       "2          0          0            2            496   \n",
       "3          0          0            2           1414   \n",
       "4          0          0            1           1400   \n",
       "\n",
       "   w_pieces_diff_transformed bin_label  \n",
       "0                   0.476563      bin9  \n",
       "1                  -0.550938      bin6  \n",
       "2                  -1.335665      bin3  \n",
       "3                   0.303165      bin9  \n",
       "4                   0.284934      bin8  "
      ]
     },
     "execution_count": 52,
     "metadata": {},
     "output_type": "execute_result"
    }
   ],
   "source": [
    "# creat list of bin names and label names\n",
    "# I just picked an arbitrary number of 20 bins, to group the piece difficulty by, this can be improved on\n",
    "step = (pieces_df['w_pieces_diff_transformed'].max()-pieces_df['w_pieces_diff_transformed'].min())/20\n",
    "bins = np.arange(pieces_df['w_pieces_diff_transformed'].min(), pieces_df['w_pieces_diff_transformed'].max()+step, step)\n",
    "labels = ['bin' + s for s in map(str, list(range(len(bins)-1)))]\n",
    "\n",
    "# label each puzzle by binned piece & difficulty\n",
    "pieces_df['bin_label'] = pd.cut(x = pieces_df['w_pieces_diff_transformed'], bins = bins, labels = labels, include_lowest = True)\n",
    "pieces_df.head()"
   ]
  },
  {
   "cell_type": "code",
   "execution_count": 53,
   "id": "aa1a0a14",
   "metadata": {},
   "outputs": [
    {
     "data": {
      "text/plain": [
       "((19387, 13), (19387, 9))"
      ]
     },
     "execution_count": 53,
     "metadata": {},
     "output_type": "execute_result"
    }
   ],
   "source": [
    "df_cleaned.shape, pieces_df.shape"
   ]
  },
  {
   "cell_type": "code",
   "execution_count": 54,
   "id": "6647347e",
   "metadata": {},
   "outputs": [
    {
     "data": {
      "text/plain": [
       "Index(['memberID', 'holdtime', 'puzzlepack', 'pack_name', 'piece_count_1',\n",
       "       'piece_count_2', 'difficulty_rating_1', 'difficulty_rating_2',\n",
       "       'brand_1', 'brand_2', 'num_puzzles', 'piece_count_pack',\n",
       "       'difficulty_rating_pack'],\n",
       "      dtype='object')"
      ]
     },
     "execution_count": 54,
     "metadata": {},
     "output_type": "execute_result"
    }
   ],
   "source": [
    "df_cleaned.columns"
   ]
  },
  {
   "cell_type": "code",
   "execution_count": 55,
   "id": "f870a2d2",
   "metadata": {},
   "outputs": [],
   "source": [
    "concat_df1 = df_cleaned[['pack_name', 'holdtime', 'piece_count_1', 'piece_count_2', 'difficulty_rating_1', \n",
    "                         'difficulty_rating_2',  'brand_1','piece_count_pack', 'difficulty_rating_pack',\n",
    "                         'brand_2', 'num_puzzles']]\n",
    "concat_df2 = pieces_df[['pieces_d1', 'pieces_d2', 'pieces_d3', 'pieces_d4', 'w_pieces_diff_transformed']]"
   ]
  },
  {
   "cell_type": "code",
   "execution_count": 56,
   "id": "c22d4667",
   "metadata": {},
   "outputs": [],
   "source": [
    "df_features_combined = pd.concat([concat_df1, concat_df2], axis=1)"
   ]
  },
  {
   "cell_type": "code",
   "execution_count": 57,
   "id": "5483f898",
   "metadata": {},
   "outputs": [],
   "source": [
    "# setting order and saving file\n",
    "df_features_combined = df_features_combined[['pack_name', 'piece_count_1', 'piece_count_2', 'difficulty_rating_1', \n",
    "                                             'difficulty_rating_2', 'brand_1', 'brand_2', 'num_puzzles', \n",
    "                                             'pieces_d1', 'pieces_d2', 'pieces_d3', 'pieces_d4','piece_count_pack',\n",
    "                                             'difficulty_rating_pack', 'w_pieces_diff_transformed', 'holdtime']]"
   ]
  },
  {
   "cell_type": "code",
   "execution_count": 58,
   "id": "03d45eae",
   "metadata": {},
   "outputs": [],
   "source": [
    "df_features_combined.to_csv('df_features_combined.csv', index=False)"
   ]
  }
 ],
 "metadata": {
  "kernelspec": {
   "display_name": "Python 3",
   "language": "python",
   "name": "python3"
  },
  "language_info": {
   "codemirror_mode": {
    "name": "ipython",
    "version": 3
   },
   "file_extension": ".py",
   "mimetype": "text/x-python",
   "name": "python",
   "nbconvert_exporter": "python",
   "pygments_lexer": "ipython3",
   "version": "3.8.8"
  }
 },
 "nbformat": 4,
 "nbformat_minor": 5
}
