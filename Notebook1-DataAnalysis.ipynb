{
 "cells": [
  {
   "attachments": {},
   "cell_type": "markdown",
   "id": "df0b4952",
   "metadata": {},
   "source": [
    "# Notebook 1. Data Analysis\n",
    "\n"
   ]
  },
  {
   "attachments": {},
   "cell_type": "markdown",
   "id": "f8751081",
   "metadata": {},
   "source": [
    "## 1. Preliminary Data Analysis"
   ]
  },
  {
   "cell_type": "markdown",
   "id": "9469bb4f",
   "metadata": {},
   "source": [
    "### 1.1 Importing Libraries and Dataset"
   ]
  },
  {
   "cell_type": "code",
   "execution_count": 2,
   "id": "acba7993",
   "metadata": {},
   "outputs": [],
   "source": [
    "import pandas as pd\n",
    "import numpy as np\n",
    "import matplotlib.pyplot as plt\n",
    "import seaborn as sns\n",
    "\n",
    "import warnings\n",
    "warnings.filterwarnings(\"ignore\")"
   ]
  },
  {
   "cell_type": "markdown",
   "id": "c682bead",
   "metadata": {},
   "source": [
    "**Data 1: member_hold_times_and_packs.tsv**\n",
    "* memberID - Unique identifiers for each person\n",
    "* holdtime - number of days the person had the pack\n",
    "* puzzlepack - name of the pack (may have more than 1 puzzle per pack)"
   ]
  },
  {
   "cell_type": "code",
   "execution_count": 3,
   "id": "ea5ff3c9",
   "metadata": {},
   "outputs": [
    {
     "data": {
      "text/plain": [
       "(19733, 3)"
      ]
     },
     "execution_count": 3,
     "metadata": {},
     "output_type": "execute_result"
    }
   ],
   "source": [
    "# loading first data about member hold times \n",
    "# dataset has 1.9 mb size on disk\n",
    "\n",
    "member_holdtime_df = pd.read_csv('data/member_hold_times_and_packs_Feb16_2023.tsv', \n",
    "                                 sep='\\t', header=None, names=[\"memberID\", 'holdtime', 'puzzlepack'])\n",
    "member_holdtime_df.shape"
   ]
  },
  {
   "cell_type": "code",
   "execution_count": 4,
   "id": "58c61e71",
   "metadata": {},
   "outputs": [
    {
     "data": {
      "text/html": [
       "<div>\n",
       "<style scoped>\n",
       "    .dataframe tbody tr th:only-of-type {\n",
       "        vertical-align: middle;\n",
       "    }\n",
       "\n",
       "    .dataframe tbody tr th {\n",
       "        vertical-align: top;\n",
       "    }\n",
       "\n",
       "    .dataframe thead th {\n",
       "        text-align: right;\n",
       "    }\n",
       "</style>\n",
       "<table border=\"1\" class=\"dataframe\">\n",
       "  <thead>\n",
       "    <tr style=\"text-align: right;\">\n",
       "      <th></th>\n",
       "      <th>memberID</th>\n",
       "      <th>holdtime</th>\n",
       "      <th>puzzlepack</th>\n",
       "    </tr>\n",
       "  </thead>\n",
       "  <tbody>\n",
       "    <tr>\n",
       "      <th>0</th>\n",
       "      <td>member1</td>\n",
       "      <td>2.939411</td>\n",
       "      <td>Artifact Puzzles Justin Hillgrove Word Travels...</td>\n",
       "    </tr>\n",
       "    <tr>\n",
       "      <th>1</th>\n",
       "      <td>member1</td>\n",
       "      <td>0.998885</td>\n",
       "      <td>DaVici Puzzles Full Moon Feast DaVici Puzzles ...</td>\n",
       "    </tr>\n",
       "    <tr>\n",
       "      <th>2</th>\n",
       "      <td>member1</td>\n",
       "      <td>10.865032</td>\n",
       "      <td>DaVici Puzzles Flying Frigate DaVici Puzzles H...</td>\n",
       "    </tr>\n",
       "    <tr>\n",
       "      <th>3</th>\n",
       "      <td>member1</td>\n",
       "      <td>22.083971</td>\n",
       "      <td>Liberty Puzzles Haeckel Hummingbirds Nautilus ...</td>\n",
       "    </tr>\n",
       "    <tr>\n",
       "      <th>4</th>\n",
       "      <td>member1</td>\n",
       "      <td>5.077603</td>\n",
       "      <td>DaVici Puzzles Diana Zimens City Of Cats</td>\n",
       "    </tr>\n",
       "  </tbody>\n",
       "</table>\n",
       "</div>"
      ],
      "text/plain": [
       "  memberID   holdtime                                         puzzlepack\n",
       "0  member1   2.939411  Artifact Puzzles Justin Hillgrove Word Travels...\n",
       "1  member1   0.998885  DaVici Puzzles Full Moon Feast DaVici Puzzles ...\n",
       "2  member1  10.865032  DaVici Puzzles Flying Frigate DaVici Puzzles H...\n",
       "3  member1  22.083971  Liberty Puzzles Haeckel Hummingbirds Nautilus ...\n",
       "4  member1   5.077603          DaVici Puzzles Diana Zimens City Of Cats "
      ]
     },
     "execution_count": 4,
     "metadata": {},
     "output_type": "execute_result"
    }
   ],
   "source": [
    "member_holdtime_df.head()"
   ]
  },
  {
   "cell_type": "markdown",
   "id": "8ab471c6",
   "metadata": {},
   "source": [
    "**Data 2: packs.tsv**\n",
    "* `pack_name` - name of the pack (may have more than 1 puzzle per pack)\n",
    "* `brand` - brand name of puzzle pack\n",
    "* `piece_count` - number of pieces in puzzle\n",
    "* `difficulty_rating` - difficulty rating for puzzle"
   ]
  },
  {
   "cell_type": "code",
   "execution_count": 5,
   "id": "4ad1c70a",
   "metadata": {},
   "outputs": [
    {
     "data": {
      "text/plain": [
       "(920, 4)"
      ]
     },
     "execution_count": 5,
     "metadata": {},
     "output_type": "execute_result"
    }
   ],
   "source": [
    "# loading second data about puzzle packs\n",
    "# dataset has 98kb size on disk\n",
    "col_names = ['pack_name', 'brand', 'piece_count', 'difficulty_rating']\n",
    "packs_df = pd.read_csv('data/packs_Feb16_2023.tsv', sep='\\t', header=None, names = col_names)\n",
    "\n",
    "packs_df.shape"
   ]
  },
  {
   "cell_type": "code",
   "execution_count": 6,
   "id": "0779c3ce",
   "metadata": {},
   "outputs": [
    {
     "data": {
      "text/html": [
       "<div>\n",
       "<style scoped>\n",
       "    .dataframe tbody tr th:only-of-type {\n",
       "        vertical-align: middle;\n",
       "    }\n",
       "\n",
       "    .dataframe tbody tr th {\n",
       "        vertical-align: top;\n",
       "    }\n",
       "\n",
       "    .dataframe thead th {\n",
       "        text-align: right;\n",
       "    }\n",
       "</style>\n",
       "<table border=\"1\" class=\"dataframe\">\n",
       "  <thead>\n",
       "    <tr style=\"text-align: right;\">\n",
       "      <th></th>\n",
       "      <th>pack_name</th>\n",
       "      <th>brand</th>\n",
       "      <th>piece_count</th>\n",
       "      <th>difficulty_rating</th>\n",
       "    </tr>\n",
       "  </thead>\n",
       "  <tbody>\n",
       "    <tr>\n",
       "      <th>0</th>\n",
       "      <td>Anne Belle Thompson The Mikado Anne Belle Thom...</td>\n",
       "      <td>Other-Hand-cut</td>\n",
       "      <td>387,242</td>\n",
       "      <td>A-Easy,A-Easy</td>\n",
       "    </tr>\n",
       "    <tr>\n",
       "      <th>1</th>\n",
       "      <td>Anthology Puzzles Alphonse Mucha La Plume Anth...</td>\n",
       "      <td>NaN</td>\n",
       "      <td>320,160</td>\n",
       "      <td>Average,Average</td>\n",
       "    </tr>\n",
       "    <tr>\n",
       "      <th>2</th>\n",
       "      <td>Anthology Puzzles Colorful Cat Anthology Puzzl...</td>\n",
       "      <td>NaN</td>\n",
       "      <td>150,170</td>\n",
       "      <td>Really-Hard,A-Easy</td>\n",
       "    </tr>\n",
       "    <tr>\n",
       "      <th>3</th>\n",
       "      <td>Anthology Puzzles Framed American Gothic Antho...</td>\n",
       "      <td>NaN</td>\n",
       "      <td>320,300</td>\n",
       "      <td>Average,Average</td>\n",
       "    </tr>\n",
       "    <tr>\n",
       "      <th>4</th>\n",
       "      <td>Anthology Puzzles Over The Moon Anthology Puzz...</td>\n",
       "      <td>NaN</td>\n",
       "      <td>278,177</td>\n",
       "      <td>Average,A-Easy</td>\n",
       "    </tr>\n",
       "  </tbody>\n",
       "</table>\n",
       "</div>"
      ],
      "text/plain": [
       "                                           pack_name           brand  \\\n",
       "0  Anne Belle Thompson The Mikado Anne Belle Thom...  Other-Hand-cut   \n",
       "1  Anthology Puzzles Alphonse Mucha La Plume Anth...             NaN   \n",
       "2  Anthology Puzzles Colorful Cat Anthology Puzzl...             NaN   \n",
       "3  Anthology Puzzles Framed American Gothic Antho...             NaN   \n",
       "4  Anthology Puzzles Over The Moon Anthology Puzz...             NaN   \n",
       "\n",
       "  piece_count   difficulty_rating  \n",
       "0     387,242       A-Easy,A-Easy  \n",
       "1     320,160     Average,Average  \n",
       "2     150,170  Really-Hard,A-Easy  \n",
       "3     320,300     Average,Average  \n",
       "4     278,177      Average,A-Easy  "
      ]
     },
     "execution_count": 6,
     "metadata": {},
     "output_type": "execute_result"
    }
   ],
   "source": [
    "packs_df.head()"
   ]
  },
  {
   "cell_type": "markdown",
   "id": "c5429374",
   "metadata": {},
   "source": [
    "### 1.2 Preliminary Data Analysis\n",
    "This is done to understand the data better so we can clean it accordingly. Here are some questions we are exploring - \n",
    "   1. Does packname have a pattern?\n",
    "   2. What is the distribution for holdtimes?\n",
    "   3. Is there an evident relationship between difficulty rating and piece counts?"
   ]
  },
  {
   "attachments": {},
   "cell_type": "markdown",
   "id": "24704556",
   "metadata": {},
   "source": [
    "> 1. Does packname have a pattern?"
   ]
  },
  {
   "cell_type": "code",
   "execution_count": 7,
   "id": "f323822e",
   "metadata": {},
   "outputs": [
    {
     "data": {
      "text/plain": [
       "0    Artifact Puzzles Justin Hillgrove Word Travels South Artifact Puzzles Justin Hillgrove Word Travels West\n",
       "1                                  DaVici Puzzles Full Moon Feast DaVici Puzzles World&#39;s Greatest Miracle\n",
       "2                                                    DaVici Puzzles Flying Frigate DaVici Puzzles Hobby Horse\n",
       "3                                          Liberty Puzzles Haeckel Hummingbirds Nautilus Puzzles Mother Adams\n",
       "4                                                                   DaVici Puzzles Diana Zimens City Of Cats \n",
       "Name: puzzlepack, dtype: object"
      ]
     },
     "execution_count": 7,
     "metadata": {},
     "output_type": "execute_result"
    }
   ],
   "source": [
    "## Does packname have a pattern?\n",
    "pd.options.display.max_colwidth = 200\n",
    "member_holdtime_df['puzzlepack'][0:5]"
   ]
  },
  {
   "cell_type": "markdown",
   "id": "bdec0d20",
   "metadata": {},
   "source": [
    "**Comments**:\n",
    "- Observe the extra space at the end of \"cats \". This shows it has this pack has only one puzzle.\n",
    "- other strings have the word \"Puzzles\" twice while 'Diana Zimens City Of Cats ' has it only once. \n",
    "- Looks like the first word is a brand or something, then the word \"puzzle\" and the name of puzzle. For example -\n",
    "    * DaVici, **Puzzles** Full Moon Feast DaVici **Puzzles** World&#39;s Greatest Miracle \n",
    "    * DaVici, **Puzzles** Flying Frigate DaVici **Puzzles** Hobby Horse\n",
    "    * Liberty, **Puzzles** Haeckel Hummingbirds Nautilus **Puzzles** Mother Adams\n",
    "    * DaVici, **Puzzles** Diana Zimens City Of Cats \n"
   ]
  },
  {
   "attachments": {},
   "cell_type": "markdown",
   "id": "dbc54bf1",
   "metadata": {},
   "source": [
    "> 2. What is the distribution for holdtimes?\n"
   ]
  },
  {
   "cell_type": "code",
   "execution_count": 8,
   "id": "74576a23",
   "metadata": {},
   "outputs": [
    {
     "data": {
      "image/png": "[encoded data removed]",
      "text/plain": [
       "<Figure size 1500x500 with 2 Axes>"
      ]
     },
     "metadata": {},
     "output_type": "display_data"
    }
   ],
   "source": [
    "## What is the distribution for holdtimes?\n",
    "fig, axs = plt.subplots(1, 2, figsize=(15, 5))\n",
    "sns.histplot(data=member_holdtime_df, x=member_holdtime_df.loc[member_holdtime_df['holdtime'] < 150]['holdtime'], bins = 20,color=\"#ffa07a\", alpha = 1.0, ax=axs[0])\n",
    "axs[0].set_title(\"Holdtime up to 5 months\")\n",
    "sns.histplot(data=member_holdtime_df, x=member_holdtime_df.loc[member_holdtime_df['holdtime'] > 151]['holdtime'], bins = 20, color=\"#FB607F\", alpha = 0.9, ax=axs[1])\n",
    "axs[1].set_title(\"Holdtime over 5 months\")\n",
    "fig.tight_layout()\n",
    "#plt.savefig(\"_static/images/hold_times_dist2.png\", format=\"png\", dpi=1200)\n",
    "plt.show()"
   ]
  },
  {
   "attachments": {},
   "cell_type": "markdown",
   "id": "a3181127",
   "metadata": {},
   "source": [
    "**Comments:**\n",
    "Need to remove outliers in this case\n",
    "\n"
   ]
  },
  {
   "attachments": {},
   "cell_type": "markdown",
   "id": "daac1df0",
   "metadata": {},
   "source": [
    "> 3. Is there an evident relationship between difficulty rating and piece counts?\n",
    "\n",
    "- Separate columns into `piece_count_1`, `piece_count_2`, `difficulty_rating_1`, `difficulty_rating_2`"
   ]
  },
  {
   "cell_type": "code",
   "execution_count": 9,
   "id": "707b83ba",
   "metadata": {},
   "outputs": [],
   "source": [
    "## Is there an evident relationship between difficulty rating and piece counts?\n",
    "# making two coulmns for piece count\n",
    "packs_df['piece_count_1'] = packs_df['piece_count'].str.split(',', expand=True)[0]\n",
    "packs_df['piece_count_2'] = packs_df['piece_count'].str.split(',', expand=True)[1]\n",
    "# making two columns for difficulty\n",
    "packs_df['difficulty_rating_1'] = packs_df['difficulty_rating'].str.split(',', expand=True)[0]\n",
    "packs_df['difficulty_rating_2'] = packs_df['difficulty_rating'].str.split(',', expand=True)[1]"
   ]
  },
  {
   "cell_type": "code",
   "execution_count": 10,
   "id": "a72d7b64",
   "metadata": {},
   "outputs": [],
   "source": [
    "# creating temporary dataframe with no missing values for analysis\n",
    "packs_df_temp_1 = packs_df.dropna(axis=0, subset = ['piece_count_1', 'difficulty_rating_1'])\n",
    "packs_df_temp_2 = packs_df.dropna(axis=0, subset = ['piece_count_2', 'difficulty_rating_2'])"
   ]
  },
  {
   "cell_type": "code",
   "execution_count": 11,
   "id": "b2258fed",
   "metadata": {},
   "outputs": [],
   "source": [
    "packs_df_temp_1.piece_count_1 = packs_df_temp_1.piece_count_1.astype('int')\n",
    "packs_df_temp_2.piece_count_2 = packs_df_temp_2.piece_count_2.astype('int')"
   ]
  },
  {
   "cell_type": "code",
   "execution_count": 12,
   "id": "be363f02",
   "metadata": {},
   "outputs": [
    {
     "data": {
      "text/plain": [
       "array(['A-Easy,A-Easy', 'Average,Average', 'Really-Hard,A-Easy',\n",
       "       'Average,A-Easy', 'Hard,A-Easy', 'Hard,Average',\n",
       "       'Really-Hard,Average', 'Average,Really-Hard', 'Average,Hard',\n",
       "       'A-Easy,Average', 'Hard,Hard', nan, 'A-Easy,Hard',\n",
       "       'Really-Hard,Really-Hard', 'A-Easy,Really-Hard',\n",
       "       'Hard,Really-Hard', 'Really-Hard,Hard'], dtype=object)"
      ]
     },
     "execution_count": 12,
     "metadata": {},
     "output_type": "execute_result"
    }
   ],
   "source": [
    "packs_df.difficulty_rating.unique()"
   ]
  },
  {
   "cell_type": "code",
   "execution_count": 13,
   "id": "a67cf648",
   "metadata": {},
   "outputs": [
    {
     "name": "stderr",
     "output_type": "stream",
     "text": [
      "No artists with labels found to put in legend.  Note that artists whose label start with an underscore are ignored when legend() is called with no argument.\n"
     ]
    },
    {
     "data": {
      "image/png": "[encoded data removed]",
      "text/plain": [
       "<Figure size 1200x1000 with 2 Axes>"
      ]
     },
     "metadata": {},
     "output_type": "display_data"
    }
   ],
   "source": [
    "# checking category-wise distribution of piece_count\n",
    "plt.figure(figsize = [12,10], dpi=100)\n",
    "color_dict = {'A-Easy':\"g\", 'Average':\"b\", 'Hard':\"c\", 'Really-Hard': \"m\"}\n",
    "\n",
    "plt.subplot(2,1,1)\n",
    "sns.boxplot(x = \"piece_count_1\", y= 'difficulty_rating_1', data=packs_df_temp_1, \n",
    "            palette = color_dict, order = ['A-Easy', 'Average', 'Hard', 'Really-Hard'])\n",
    "plt.title(\"Puzzle one distribution\")\n",
    "\n",
    "\n",
    "plt.subplot(2,1,2)\n",
    "sns.boxplot(x = \"piece_count_2\", y= 'difficulty_rating_2', data=packs_df_temp_2, \n",
    "            palette = color_dict, order = ['A-Easy', 'Average', 'Hard', 'Really-Hard'])\n",
    "plt.title(\"Puzzle two distribution\")\n",
    "plt.legend(loc='lower right')\n",
    "plt.show()"
   ]
  },
  {
   "cell_type": "markdown",
   "id": "d083853d",
   "metadata": {},
   "source": [
    "**Comments:**\n",
    "\n",
    "* \"Easy\" has the lowest median in both cases and \"Hard\" has the highest median.\n",
    "* Need to check this again after data cleaning (outlier removal) at a pack level.\n"
   ]
  },
  {
   "cell_type": "markdown",
   "id": "8f65e75f",
   "metadata": {},
   "source": [
    "## 2. Data Cleaning"
   ]
  },
  {
   "attachments": {},
   "cell_type": "markdown",
   "id": "79ddda43",
   "metadata": {},
   "source": [
    "### 2.1 Separating columns\n",
    "\n",
    "\n",
    "Separate columns into \n",
    "- `pack_name`, `brand_0`, `brand_1`, `piece_count_0`, `piece_count_1`, `difficulty_0`, `difficulty_1`"
   ]
  },
  {
   "cell_type": "code",
   "execution_count": 14,
   "id": "0168ea55",
   "metadata": {},
   "outputs": [],
   "source": [
    "# splitting brand name\n",
    "packs_df['brand_2'] = packs_df['brand'].str.split(',', expand=True)[1]\n",
    "packs_df['brand_1'] = packs_df['brand'].str.split(',', expand=True)[0]\n",
    "# piececount and difficulty were split previously"
   ]
  },
  {
   "cell_type": "code",
   "execution_count": 15,
   "id": "cd5241e2",
   "metadata": {},
   "outputs": [],
   "source": [
    "# adding number of puzzles feature\n",
    "packs_df['num_puzzles'] = packs_df['pack_name'].map(lambda n: 1 if (n[-1] == ' ') else 2, na_action='ignore')"
   ]
  },
  {
   "cell_type": "code",
   "execution_count": 16,
   "id": "c929911e",
   "metadata": {},
   "outputs": [],
   "source": [
    "# fixing datatype - convert piece_count values to integers\n",
    "packs_df = packs_df.astype({'piece_count_1': 'int64', 'piece_count_2': 'int64'}, errors='ignore')"
   ]
  },
  {
   "cell_type": "code",
   "execution_count": 17,
   "id": "4035fdad",
   "metadata": {},
   "outputs": [
    {
     "data": {
      "text/plain": [
       "((920, 11), (920, 11))"
      ]
     },
     "execution_count": 17,
     "metadata": {},
     "output_type": "execute_result"
    }
   ],
   "source": [
    "# checking if we have any duplicate pack names\n",
    "packs_df.drop_duplicates(['pack_name']).shape, packs_df.shape"
   ]
  },
  {
   "cell_type": "code",
   "execution_count": 18,
   "id": "59c15b43",
   "metadata": {},
   "outputs": [
    {
     "data": {
      "text/plain": [
       "pack_name                0\n",
       "brand                   25\n",
       "piece_count              8\n",
       "difficulty_rating        4\n",
       "piece_count_1            8\n",
       "piece_count_2          181\n",
       "difficulty_rating_1      4\n",
       "difficulty_rating_2      4\n",
       "brand_2                775\n",
       "brand_1                 25\n",
       "num_puzzles              0\n",
       "dtype: int64"
      ]
     },
     "execution_count": 18,
     "metadata": {},
     "output_type": "execute_result"
    }
   ],
   "source": [
    "# # Packs with missing difficulty_rating and piece_count are present in members table?\n",
    "# na_pack_name = packs_df[packs_df[['brand','piece_count', 'difficulty_rating']].isnull().any(axis=1)]\n",
    "# len(set(na_pack_name['pack_name']).intersection(member_holdtime_df['puzzlepack']))\n",
    "\n",
    "# -- this code is wrong, need to find a new function instead of .any\n",
    "\n",
    "# Number of null values\n",
    "packs_df.isnull().sum()"
   ]
  },
  {
   "cell_type": "code",
   "execution_count": 19,
   "id": "4f8fbba4",
   "metadata": {},
   "outputs": [],
   "source": [
    "# dropping the initial variables\n",
    "packs_df.drop(['brand', 'piece_count', 'difficulty_rating'], axis=1, inplace=True)"
   ]
  },
  {
   "cell_type": "markdown",
   "id": "09e95ba8",
   "metadata": {},
   "source": [
    "### 2.2 Fixing Data inconsistencies"
   ]
  },
  {
   "cell_type": "code",
   "execution_count": 20,
   "id": "d013816b",
   "metadata": {},
   "outputs": [],
   "source": [
    "# Some rows straight up have nothing, drop these as there is nothing to be done\n",
    "packs_df.dropna(subset = ['difficulty_rating_1', 'difficulty_rating_2', 'piece_count_1', 'piece_count_2', \n",
    "                          'brand_1', 'brand_2'], how='all', inplace = True)"
   ]
  },
  {
   "cell_type": "code",
   "execution_count": 21,
   "id": "7dfd1355",
   "metadata": {},
   "outputs": [
    {
     "data": {
      "text/html": [
       "<div>\n",
       "<style scoped>\n",
       "    .dataframe tbody tr th:only-of-type {\n",
       "        vertical-align: middle;\n",
       "    }\n",
       "\n",
       "    .dataframe tbody tr th {\n",
       "        vertical-align: top;\n",
       "    }\n",
       "\n",
       "    .dataframe thead th {\n",
       "        text-align: right;\n",
       "    }\n",
       "</style>\n",
       "<table border=\"1\" class=\"dataframe\">\n",
       "  <thead>\n",
       "    <tr style=\"text-align: right;\">\n",
       "      <th></th>\n",
       "      <th>pack_name</th>\n",
       "      <th>piece_count_1</th>\n",
       "      <th>piece_count_2</th>\n",
       "      <th>difficulty_rating_1</th>\n",
       "      <th>difficulty_rating_2</th>\n",
       "      <th>brand_2</th>\n",
       "      <th>brand_1</th>\n",
       "      <th>num_puzzles</th>\n",
       "    </tr>\n",
       "  </thead>\n",
       "  <tbody>\n",
       "    <tr>\n",
       "      <th>37</th>\n",
       "      <td>Artifact Puzzles Nadieh Bremer Coronium Artifact Puzzles Nadieh Bremer Nebulium</td>\n",
       "      <td>172</td>\n",
       "      <td>147</td>\n",
       "      <td>A-Easy</td>\n",
       "      <td>A-Easy</td>\n",
       "      <td>None</td>\n",
       "      <td>Artifact</td>\n",
       "      <td>1</td>\n",
       "    </tr>\n",
       "    <tr>\n",
       "      <th>45</th>\n",
       "      <td>Artifact Puzzles Roch Urbaniak Floating Town Artifact Puzzles Kozyndan Forest Dream</td>\n",
       "      <td>228</td>\n",
       "      <td>216</td>\n",
       "      <td>A-Easy</td>\n",
       "      <td>A-Easy</td>\n",
       "      <td>None</td>\n",
       "      <td>Artifact</td>\n",
       "      <td>1</td>\n",
       "    </tr>\n",
       "    <tr>\n",
       "      <th>68</th>\n",
       "      <td>Boardwalk Puzzles Alexey Erofalov San Juan Puerto Rico Boardwalk Puzzles Alexey Erofalov Germany</td>\n",
       "      <td>320</td>\n",
       "      <td>317</td>\n",
       "      <td>Average</td>\n",
       "      <td>Average</td>\n",
       "      <td>None</td>\n",
       "      <td>Other-Laser-cut</td>\n",
       "      <td>1</td>\n",
       "    </tr>\n",
       "    <tr>\n",
       "      <th>79</th>\n",
       "      <td>DaVici Puzzles Awakening DaVici Puzzles</td>\n",
       "      <td>450</td>\n",
       "      <td>280</td>\n",
       "      <td>A-Easy</td>\n",
       "      <td>A-Easy</td>\n",
       "      <td>None</td>\n",
       "      <td>DaVici</td>\n",
       "      <td>1</td>\n",
       "    </tr>\n",
       "    <tr>\n",
       "      <th>100</th>\n",
       "      <td>Davici Puzzles Photo Album Ecru Puzzles Sunny November</td>\n",
       "      <td>600</td>\n",
       "      <td>369</td>\n",
       "      <td>Average</td>\n",
       "      <td>Average</td>\n",
       "      <td>Ecru</td>\n",
       "      <td>DaVici</td>\n",
       "      <td>1</td>\n",
       "    </tr>\n",
       "  </tbody>\n",
       "</table>\n",
       "</div>"
      ],
      "text/plain": [
       "                                                                                             pack_name  \\\n",
       "37                    Artifact Puzzles Nadieh Bremer Coronium Artifact Puzzles Nadieh Bremer Nebulium    \n",
       "45                Artifact Puzzles Roch Urbaniak Floating Town Artifact Puzzles Kozyndan Forest Dream    \n",
       "68   Boardwalk Puzzles Alexey Erofalov San Juan Puerto Rico Boardwalk Puzzles Alexey Erofalov Germany    \n",
       "79                                                            DaVici Puzzles Awakening DaVici Puzzles    \n",
       "100                                            Davici Puzzles Photo Album Ecru Puzzles Sunny November    \n",
       "\n",
       "    piece_count_1 piece_count_2 difficulty_rating_1 difficulty_rating_2  \\\n",
       "37            172           147              A-Easy              A-Easy   \n",
       "45            228           216              A-Easy              A-Easy   \n",
       "68            320           317             Average             Average   \n",
       "79            450           280              A-Easy              A-Easy   \n",
       "100           600           369             Average             Average   \n",
       "\n",
       "    brand_2          brand_1  num_puzzles  \n",
       "37     None         Artifact            1  \n",
       "45     None         Artifact            1  \n",
       "68     None  Other-Laser-cut            1  \n",
       "79     None           DaVici            1  \n",
       "100    Ecru           DaVici            1  "
      ]
     },
     "execution_count": 21,
     "metadata": {},
     "output_type": "execute_result"
    }
   ],
   "source": [
    "# Puzzles with num = 1 but 2 piece_count values\n",
    "packs_df[(packs_df.num_puzzles == 1) & (packs_df.brand_2.notna() | packs_df.piece_count_2.notna())].head()"
   ]
  },
  {
   "cell_type": "code",
   "execution_count": 22,
   "id": "dbfa809d",
   "metadata": {},
   "outputs": [],
   "source": [
    "# Some 1 puzzle packs have a second number for pieces, this seems to be legit, updating to be 2 puzzle packs\n",
    "packs_df.loc[((packs_df.num_puzzles == 1) & (packs_df.piece_count_2.notna())), 'num_puzzles'] = 2"
   ]
  },
  {
   "cell_type": "code",
   "execution_count": 23,
   "id": "14fb44a6",
   "metadata": {},
   "outputs": [
    {
     "data": {
      "text/html": [
       "<div>\n",
       "<style scoped>\n",
       "    .dataframe tbody tr th:only-of-type {\n",
       "        vertical-align: middle;\n",
       "    }\n",
       "\n",
       "    .dataframe tbody tr th {\n",
       "        vertical-align: top;\n",
       "    }\n",
       "\n",
       "    .dataframe thead th {\n",
       "        text-align: right;\n",
       "    }\n",
       "</style>\n",
       "<table border=\"1\" class=\"dataframe\">\n",
       "  <thead>\n",
       "    <tr style=\"text-align: right;\">\n",
       "      <th></th>\n",
       "      <th>pack_name</th>\n",
       "      <th>piece_count_1</th>\n",
       "      <th>piece_count_2</th>\n",
       "      <th>difficulty_rating_1</th>\n",
       "      <th>difficulty_rating_2</th>\n",
       "      <th>brand_2</th>\n",
       "      <th>brand_1</th>\n",
       "      <th>num_puzzles</th>\n",
       "    </tr>\n",
       "  </thead>\n",
       "  <tbody>\n",
       "    <tr>\n",
       "      <th>9</th>\n",
       "      <td>Artifact Puzzles Bee Eater Artifact Puzzles Kevin Sloan Welcome to the Wilderness</td>\n",
       "      <td>439</td>\n",
       "      <td>None</td>\n",
       "      <td>Hard</td>\n",
       "      <td>A-Easy</td>\n",
       "      <td>None</td>\n",
       "      <td>Artifact</td>\n",
       "      <td>2</td>\n",
       "    </tr>\n",
       "    <tr>\n",
       "      <th>61</th>\n",
       "      <td>BellArt Puzzles Double-sided Angel Maze Fish East Texas Piney Woods Puzzles Homer Rushing Spirit Bird</td>\n",
       "      <td>295</td>\n",
       "      <td>None</td>\n",
       "      <td>Average</td>\n",
       "      <td>Average</td>\n",
       "      <td>None</td>\n",
       "      <td>Other-Hand-cut</td>\n",
       "      <td>2</td>\n",
       "    </tr>\n",
       "    <tr>\n",
       "      <th>62</th>\n",
       "      <td>Bewilderness Puzzles Caleb Fleisher Unseen. Unheard. Bewilderness Puzzles DeptiAgrawalMittal Celebrations Art</td>\n",
       "      <td>173</td>\n",
       "      <td>None</td>\n",
       "      <td>Really-Hard</td>\n",
       "      <td>Really-Hard</td>\n",
       "      <td>None</td>\n",
       "      <td>Other-Laser-cut</td>\n",
       "      <td>2</td>\n",
       "    </tr>\n",
       "    <tr>\n",
       "      <th>113</th>\n",
       "      <td>Ecru Puzzles Aaron Wolf Spells And Sorcery Stave Puzzles Betsy Brown Starry Starry Knight</td>\n",
       "      <td>75</td>\n",
       "      <td>None</td>\n",
       "      <td>Average</td>\n",
       "      <td>Really-Hard</td>\n",
       "      <td>Stave</td>\n",
       "      <td>Ecru</td>\n",
       "      <td>2</td>\n",
       "    </tr>\n",
       "    <tr>\n",
       "      <th>255</th>\n",
       "      <td>Liberty Puzzles Paris Air France Ecru Puzzles Robert Delaunay Eiffel Tower</td>\n",
       "      <td>483</td>\n",
       "      <td>None</td>\n",
       "      <td>Average</td>\n",
       "      <td>A-Easy</td>\n",
       "      <td>Liberty</td>\n",
       "      <td>Ecru</td>\n",
       "      <td>2</td>\n",
       "    </tr>\n",
       "  </tbody>\n",
       "</table>\n",
       "</div>"
      ],
      "text/plain": [
       "                                                                                                         pack_name  \\\n",
       "9                                Artifact Puzzles Bee Eater Artifact Puzzles Kevin Sloan Welcome to the Wilderness   \n",
       "61           BellArt Puzzles Double-sided Angel Maze Fish East Texas Piney Woods Puzzles Homer Rushing Spirit Bird   \n",
       "62   Bewilderness Puzzles Caleb Fleisher Unseen. Unheard. Bewilderness Puzzles DeptiAgrawalMittal Celebrations Art   \n",
       "113                      Ecru Puzzles Aaron Wolf Spells And Sorcery Stave Puzzles Betsy Brown Starry Starry Knight   \n",
       "255                                     Liberty Puzzles Paris Air France Ecru Puzzles Robert Delaunay Eiffel Tower   \n",
       "\n",
       "    piece_count_1 piece_count_2 difficulty_rating_1 difficulty_rating_2  \\\n",
       "9             439          None                Hard              A-Easy   \n",
       "61            295          None             Average             Average   \n",
       "62            173          None         Really-Hard         Really-Hard   \n",
       "113            75          None             Average         Really-Hard   \n",
       "255           483          None             Average              A-Easy   \n",
       "\n",
       "     brand_2          brand_1  num_puzzles  \n",
       "9       None         Artifact            2  \n",
       "61      None   Other-Hand-cut            2  \n",
       "62      None  Other-Laser-cut            2  \n",
       "113    Stave             Ecru            2  \n",
       "255  Liberty             Ecru            2  "
      ]
     },
     "execution_count": 23,
     "metadata": {},
     "output_type": "execute_result"
    }
   ],
   "source": [
    "# Some 2 puzzle packs do not have piece count info for second puzzle. \n",
    "packs_df[(packs_df.piece_count_2.isna()) & (packs_df.num_puzzles == 2)].head()"
   ]
  },
  {
   "cell_type": "markdown",
   "id": "46a466ae",
   "metadata": {},
   "source": [
    "> For the packs you don't have any piece count data for, assume they are 2 puzzle packs, each with piece count equal to the global average piece count, OR if you can tell what brand it is, use the average for that brand (major brands are: Liberty, Artifact, Ecru, Wentworth, Nautilus, Stave)"
   ]
  },
  {
   "cell_type": "code",
   "execution_count": 24,
   "id": "f3d8e3c0",
   "metadata": {},
   "outputs": [
    {
     "data": {
      "text/plain": [
       "(400.0668859649123, 314.64005412719894)"
      ]
     },
     "execution_count": 24,
     "metadata": {},
     "output_type": "execute_result"
    }
   ],
   "source": [
    "packs_df.piece_count_1 = packs_df.piece_count_1.astype('float').astype('Int64')\n",
    "packs_df.piece_count_2 = packs_df.piece_count_2.astype('float').astype('Int64')\n",
    "# what is the global average piececount?\n",
    "packs_df['piece_count_1'].mean(),packs_df['piece_count_2'].mean()"
   ]
  },
  {
   "cell_type": "code",
   "execution_count": 25,
   "id": "d7ef9db6",
   "metadata": {},
   "outputs": [],
   "source": [
    "avg_pc2 = packs_df['piece_count_2'].mean()"
   ]
  },
  {
   "cell_type": "code",
   "execution_count": 26,
   "id": "0e2619d0",
   "metadata": {},
   "outputs": [],
   "source": [
    "# making the piececount_2 same as piececount_1 IF num_puzzles ==2\n",
    "packs_df.loc[((packs_df['piece_count_2'].isna() ) &(packs_df['num_puzzles'] ==2)), 'piece_count_2'] = int(avg_pc2)"
   ]
  },
  {
   "cell_type": "code",
   "execution_count": 27,
   "id": "bc215351",
   "metadata": {
    "scrolled": true
   },
   "outputs": [],
   "source": [
    "# making the brand_2 same as brand_1\n",
    "packs_df.loc[(packs_df['brand_2'].isna()), 'brand_2'] = packs_df['brand_1']"
   ]
  },
  {
   "cell_type": "code",
   "execution_count": 28,
   "id": "00de8b9a",
   "metadata": {},
   "outputs": [],
   "source": [
    "# packs with 1 puzzle but 2 brands? "
   ]
  },
  {
   "cell_type": "markdown",
   "id": "4a14ac3e",
   "metadata": {},
   "source": [
    "### 2.3 Dealing with Missing value"
   ]
  },
  {
   "cell_type": "code",
   "execution_count": 29,
   "id": "04e0dfa2",
   "metadata": {},
   "outputs": [
    {
     "data": {
      "text/plain": [
       "memberID      0\n",
       "holdtime      0\n",
       "puzzlepack    0\n",
       "dtype: int64"
      ]
     },
     "execution_count": 29,
     "metadata": {},
     "output_type": "execute_result"
    }
   ],
   "source": [
    "member_holdtime_df.isnull().sum()"
   ]
  },
  {
   "cell_type": "code",
   "execution_count": 30,
   "id": "8d7e97db",
   "metadata": {},
   "outputs": [
    {
     "data": {
      "text/plain": [
       "memberID        717\n",
       "holdtime      19527\n",
       "puzzlepack      972\n",
       "dtype: int64"
      ]
     },
     "execution_count": 30,
     "metadata": {},
     "output_type": "execute_result"
    }
   ],
   "source": [
    "member_holdtime_df.nunique()"
   ]
  },
  {
   "cell_type": "markdown",
   "id": "7dea5de5",
   "metadata": {},
   "source": [
    "**Comments:**\n",
    "- No missing values in the data\n",
    "- We have information about 675 members and 910 unique puzzle packs"
   ]
  },
  {
   "cell_type": "code",
   "execution_count": 31,
   "id": "120d50de",
   "metadata": {
    "scrolled": true
   },
   "outputs": [
    {
     "data": {
      "text/plain": [
       "pack_name                0\n",
       "piece_count_1            4\n",
       "piece_count_2          166\n",
       "difficulty_rating_1      0\n",
       "difficulty_rating_2      0\n",
       "brand_2                 21\n",
       "brand_1                 21\n",
       "num_puzzles              0\n",
       "dtype: int64"
      ]
     },
     "execution_count": 31,
     "metadata": {},
     "output_type": "execute_result"
    }
   ],
   "source": [
    "packs_df.isnull().sum()"
   ]
  },
  {
   "cell_type": "code",
   "execution_count": 32,
   "id": "83d22de7",
   "metadata": {},
   "outputs": [
    {
     "data": {
      "text/plain": [
       "pack_name              916\n",
       "piece_count_1          414\n",
       "piece_count_2          317\n",
       "difficulty_rating_1      4\n",
       "difficulty_rating_2      4\n",
       "brand_2                  9\n",
       "brand_1                  9\n",
       "num_puzzles              2\n",
       "dtype: int64"
      ]
     },
     "execution_count": 32,
     "metadata": {},
     "output_type": "execute_result"
    }
   ],
   "source": [
    "packs_df.nunique()"
   ]
  },
  {
   "cell_type": "markdown",
   "id": "a56f66ec",
   "metadata": {},
   "source": [
    "**Comments:Imputing missing values strategy**\n",
    "- Rows with missing difficulty_rating and piece_count are removed (none of these were seen in members data)\n",
    "- Brand: \n",
    "    * if brand_2 and brand_1 has value - put same value (done in 2.2)\n",
    "    * for rest of them - replace missing with unknown\n",
    "- piece_count:\n",
    "    * Calculate average_piece_count at diffuclty level \n",
    "    * for one puzzle: replace nan with average_piece_count\n",
    "    * for two puzzles: replace nan with average_piece_count twice"
   ]
  },
  {
   "cell_type": "code",
   "execution_count": 33,
   "id": "a4c82c0c",
   "metadata": {},
   "outputs": [],
   "source": [
    "packs_df[['brand_1', 'brand_2']] = packs_df[['brand_1', 'brand_2']].fillna('unknown')"
   ]
  },
  {
   "cell_type": "code",
   "execution_count": 34,
   "id": "850f60da",
   "metadata": {
    "scrolled": true
   },
   "outputs": [],
   "source": [
    "# puzzles which have no value for both piece_1 and piece_2 are dropped\n",
    "packs_df.dropna(subset = ['piece_count_1', 'piece_count_2'], inplace=True, how='all')"
   ]
  },
  {
   "cell_type": "code",
   "execution_count": 35,
   "id": "f3a23aa4",
   "metadata": {},
   "outputs": [],
   "source": [
    "packs_df['piece_count_2'].fillna(0, inplace=True)\n",
    "packs_df['difficulty_rating_2'].fillna('Average', inplace=True)"
   ]
  },
  {
   "cell_type": "markdown",
   "id": "f0340adf",
   "metadata": {},
   "source": [
    "### 2.4 Dealing with Outliers"
   ]
  },
  {
   "cell_type": "code",
   "execution_count": 36,
   "id": "c80ed040",
   "metadata": {},
   "outputs": [],
   "source": [
    "member_holdtime_df = member_holdtime_df[(member_holdtime_df['holdtime'] >= 0.1) & \n",
    "                                        (member_holdtime_df['holdtime'] <= 150)]"
   ]
  },
  {
   "cell_type": "markdown",
   "id": "e1e09a6b",
   "metadata": {},
   "source": [
    "## 3. Merging Data"
   ]
  },
  {
   "cell_type": "code",
   "execution_count": 37,
   "id": "f1686890",
   "metadata": {},
   "outputs": [
    {
     "data": {
      "text/plain": [
       "(968, 913)"
      ]
     },
     "execution_count": 37,
     "metadata": {},
     "output_type": "execute_result"
    }
   ],
   "source": [
    "member_holdtime_df.puzzlepack.nunique(), packs_df.pack_name.nunique(), "
   ]
  },
  {
   "cell_type": "code",
   "execution_count": 38,
   "id": "a0882dd2",
   "metadata": {},
   "outputs": [
    {
     "data": {
      "text/html": [
       "<div>\n",
       "<style scoped>\n",
       "    .dataframe tbody tr th:only-of-type {\n",
       "        vertical-align: middle;\n",
       "    }\n",
       "\n",
       "    .dataframe tbody tr th {\n",
       "        vertical-align: top;\n",
       "    }\n",
       "\n",
       "    .dataframe thead th {\n",
       "        text-align: right;\n",
       "    }\n",
       "</style>\n",
       "<table border=\"1\" class=\"dataframe\">\n",
       "  <thead>\n",
       "    <tr style=\"text-align: right;\">\n",
       "      <th></th>\n",
       "      <th>memberID</th>\n",
       "      <th>holdtime</th>\n",
       "      <th>puzzlepack</th>\n",
       "      <th>pack_name</th>\n",
       "      <th>piece_count_1</th>\n",
       "      <th>piece_count_2</th>\n",
       "      <th>difficulty_rating_1</th>\n",
       "      <th>difficulty_rating_2</th>\n",
       "      <th>brand_2</th>\n",
       "      <th>brand_1</th>\n",
       "      <th>num_puzzles</th>\n",
       "    </tr>\n",
       "  </thead>\n",
       "  <tbody>\n",
       "    <tr>\n",
       "      <th>0</th>\n",
       "      <td>member1</td>\n",
       "      <td>2.939411</td>\n",
       "      <td>Artifact Puzzles Justin Hillgrove Word Travels South Artifact Puzzles Justin Hillgrove Word Travels West</td>\n",
       "      <td>Artifact Puzzles Justin Hillgrove Word Travels South Artifact Puzzles Justin Hillgrove Word Travels West</td>\n",
       "      <td>456</td>\n",
       "      <td>548</td>\n",
       "      <td>A-Easy</td>\n",
       "      <td>Average</td>\n",
       "      <td>Artifact</td>\n",
       "      <td>Artifact</td>\n",
       "      <td>2</td>\n",
       "    </tr>\n",
       "    <tr>\n",
       "      <th>1</th>\n",
       "      <td>member15</td>\n",
       "      <td>16.840847</td>\n",
       "      <td>Artifact Puzzles Justin Hillgrove Word Travels South Artifact Puzzles Justin Hillgrove Word Travels West</td>\n",
       "      <td>Artifact Puzzles Justin Hillgrove Word Travels South Artifact Puzzles Justin Hillgrove Word Travels West</td>\n",
       "      <td>456</td>\n",
       "      <td>548</td>\n",
       "      <td>A-Easy</td>\n",
       "      <td>Average</td>\n",
       "      <td>Artifact</td>\n",
       "      <td>Artifact</td>\n",
       "      <td>2</td>\n",
       "    </tr>\n",
       "  </tbody>\n",
       "</table>\n",
       "</div>"
      ],
      "text/plain": [
       "   memberID   holdtime  \\\n",
       "0   member1   2.939411   \n",
       "1  member15  16.840847   \n",
       "\n",
       "                                                                                                 puzzlepack  \\\n",
       "0  Artifact Puzzles Justin Hillgrove Word Travels South Artifact Puzzles Justin Hillgrove Word Travels West   \n",
       "1  Artifact Puzzles Justin Hillgrove Word Travels South Artifact Puzzles Justin Hillgrove Word Travels West   \n",
       "\n",
       "                                                                                                  pack_name  \\\n",
       "0  Artifact Puzzles Justin Hillgrove Word Travels South Artifact Puzzles Justin Hillgrove Word Travels West   \n",
       "1  Artifact Puzzles Justin Hillgrove Word Travels South Artifact Puzzles Justin Hillgrove Word Travels West   \n",
       "\n",
       "   piece_count_1  piece_count_2 difficulty_rating_1 difficulty_rating_2  \\\n",
       "0            456            548              A-Easy             Average   \n",
       "1            456            548              A-Easy             Average   \n",
       "\n",
       "    brand_2   brand_1  num_puzzles  \n",
       "0  Artifact  Artifact            2  \n",
       "1  Artifact  Artifact            2  "
      ]
     },
     "execution_count": 38,
     "metadata": {},
     "output_type": "execute_result"
    }
   ],
   "source": [
    "df = member_holdtime_df.merge(packs_df, left_on='puzzlepack', right_on='pack_name', how='inner')\n",
    "df.head(2)"
   ]
  },
  {
   "cell_type": "code",
   "execution_count": 39,
   "id": "048d85b2",
   "metadata": {},
   "outputs": [],
   "source": [
    "difficulty_mapping = {'A-Easy': 1, 'Average': 2, 'Hard': 3, 'Really-Hard': 4}\n",
    "\n",
    "df['difficulty_rating_1'] = df['difficulty_rating_1'].map(lambda x: difficulty_mapping[x], na_action='ignore')\n",
    "df['difficulty_rating_2'] = df['difficulty_rating_2'].map(lambda x: difficulty_mapping[x], na_action='ignore')"
   ]
  },
  {
   "cell_type": "code",
   "execution_count": 40,
   "id": "0453f33e",
   "metadata": {},
   "outputs": [
    {
     "data": {
      "text/plain": [
       "memberID                0\n",
       "holdtime                0\n",
       "puzzlepack              0\n",
       "pack_name               0\n",
       "piece_count_1          24\n",
       "piece_count_2           0\n",
       "difficulty_rating_1     0\n",
       "difficulty_rating_2     0\n",
       "brand_2                 0\n",
       "brand_1                 0\n",
       "num_puzzles             0\n",
       "dtype: int64"
      ]
     },
     "execution_count": 40,
     "metadata": {},
     "output_type": "execute_result"
    }
   ],
   "source": [
    "df.isnull().sum()"
   ]
  },
  {
   "cell_type": "code",
   "execution_count": 41,
   "id": "26dfa84e",
   "metadata": {},
   "outputs": [],
   "source": [
    "# masking puzzle names \n",
    "df.drop(['puzzlepack'], axis=1, inplace = True)"
   ]
  },
  {
   "cell_type": "code",
   "execution_count": null,
   "id": "2da30ae3",
   "metadata": {},
   "outputs": [],
   "source": [
    "df.to_csv('data/members_packs_cleaned.csv', index=False)"
   ]
  }
 ],
 "metadata": {
  "kernelspec": {
   "display_name": "cse160",
   "language": "python",
   "name": "python3"
  },
  "language_info": {
   "codemirror_mode": {
    "name": "ipython",
    "version": 3
   },
   "file_extension": ".py",
   "mimetype": "text/x-python",
   "name": "python",
   "nbconvert_exporter": "python",
   "pygments_lexer": "ipython3",
   "version": "3.7.13"
  },
  "vscode": {
   "interpreter": {
    "hash": "2abef46bdc448e8026b975b89e826af33f0e1e4eda83c222c2938c2a736b7647"
   }
  }
 },
 "nbformat": 4,
 "nbformat_minor": 5
}
