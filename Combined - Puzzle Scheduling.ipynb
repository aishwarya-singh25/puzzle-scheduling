{
 "cells": [
  {
   "cell_type": "markdown",
   "id": "8171f7c0",
   "metadata": {},
   "source": [
    "# Notebook Structure"
   ]
  },
  {
   "cell_type": "markdown",
   "id": "cb0f97a2",
   "metadata": {},
   "source": [
    "1. Data Cleaning\n",
    "        1.1 Members data\n",
    "        1.2 Packs data\n",
    "        1.3 Merged data \n",
    "        1.4 *Dealing with nulls!!!\n",
    "        \n",
    "2. Train-Test-Validation sets\n",
    "\n",
    "3. Feature Engineering\n",
    "\n",
    "4. Feature Importance\n",
    "        4.1 LR Model on complete data\n",
    "        4.2 DT Model on complete data\n",
    "        4.3 Table representing MAE\n",
    "        4.4 Table representing feature importance\n",
    "\n",
    "5. Final Models per person\n",
    "        5.1 LR model per person\n",
    "        5.2 DT model per person\n",
    "        5.3 RF model per person"
   ]
  },
  {
   "cell_type": "markdown",
   "id": "546d40e8",
   "metadata": {},
   "source": [
    "# 1. Data Cleaning"
   ]
  },
  {
   "cell_type": "code",
   "execution_count": 1,
   "id": "4d9358c4",
   "metadata": {},
   "outputs": [],
   "source": [
    "import pandas as pd\n",
    "import numpy as np\n",
    "import matplotlib.pyplot as plt\n",
    "import seaborn as sns\n",
    "\n",
    "import warnings\n",
    "warnings.filterwarnings(\"ignore\")"
   ]
  },
  {
   "cell_type": "code",
   "execution_count": 2,
   "id": "d49bed5c",
   "metadata": {},
   "outputs": [],
   "source": [
    "path = '/Users/aishwaryasingh/PuzzleSchedulingProject/puzzle-scheduling/data/'"
   ]
  },
  {
   "cell_type": "markdown",
   "id": "411d544e",
   "metadata": {},
   "source": [
    "### 1.1 Members Data"
   ]
  },
  {
   "cell_type": "code",
   "execution_count": 3,
   "id": "eac5bb4e",
   "metadata": {},
   "outputs": [
    {
     "data": {
      "text/plain": [
       "(19733, 3)"
      ]
     },
     "execution_count": 3,
     "metadata": {},
     "output_type": "execute_result"
    }
   ],
   "source": [
    "member_holdtime_df = pd.read_csv(path+'member_hold_times_and_packs_Feb16_2023.tsv', \n",
    "                                 sep='\\t', header=None)\n",
    "member_holdtime_df.columns = ['memberID', 'holdtime', 'puzzlepack']\n",
    "member_holdtime_df.shape"
   ]
  },
  {
   "cell_type": "code",
   "execution_count": 4,
   "id": "7356f566",
   "metadata": {},
   "outputs": [
    {
     "data": {
      "text/plain": [
       "memberID      0\n",
       "holdtime      0\n",
       "puzzlepack    0\n",
       "dtype: int64"
      ]
     },
     "execution_count": 4,
     "metadata": {},
     "output_type": "execute_result"
    }
   ],
   "source": [
    "member_holdtime_df.isnull().sum()"
   ]
  },
  {
   "cell_type": "code",
   "execution_count": 5,
   "id": "07c920d8",
   "metadata": {},
   "outputs": [],
   "source": [
    "member_holdtime_df = member_holdtime_df[(member_holdtime_df['holdtime'] >= 0.1) & \n",
    "                                        (member_holdtime_df['holdtime'] <= 150)]"
   ]
  },
  {
   "cell_type": "markdown",
   "id": "aee5bdac",
   "metadata": {},
   "source": [
    "### 1.2 Packs Data"
   ]
  },
  {
   "cell_type": "code",
   "execution_count": 6,
   "id": "d4634df0",
   "metadata": {},
   "outputs": [
    {
     "data": {
      "text/plain": [
       "(920, 4)"
      ]
     },
     "execution_count": 6,
     "metadata": {},
     "output_type": "execute_result"
    }
   ],
   "source": [
    "packs_df = pd.read_csv(path + 'packs_Feb16_2023.tsv', sep='\\t', header=None)\n",
    "packs_df.columns = ['pack_name', 'brand', 'piece_count', 'difficulty_rating']\n",
    "packs_df.shape"
   ]
  },
  {
   "cell_type": "code",
   "execution_count": 7,
   "id": "6230ee49",
   "metadata": {},
   "outputs": [],
   "source": [
    "# making two coulmns for piece count\n",
    "packs_df['piece_count_1'] = packs_df['piece_count'].str.split(',', expand=True)[0]\n",
    "packs_df['piece_count_2'] = packs_df['piece_count'].str.split(',', expand=True)[1]\n",
    "# making two columns for difficulty\n",
    "packs_df['difficulty_rating_1'] = packs_df['difficulty_rating'].str.split(',', expand=True)[0]\n",
    "packs_df['difficulty_rating_2'] = packs_df['difficulty_rating'].str.split(',', expand=True)[1]"
   ]
  },
  {
   "cell_type": "code",
   "execution_count": 8,
   "id": "c9c865eb",
   "metadata": {},
   "outputs": [],
   "source": [
    "# splitting brand name\n",
    "packs_df['brand_2'] = packs_df['brand'].str.split(',', expand=True)[1]\n",
    "packs_df['brand_1'] = packs_df['brand'].str.split(',', expand=True)[0]"
   ]
  },
  {
   "cell_type": "code",
   "execution_count": 9,
   "id": "6ba0289e",
   "metadata": {},
   "outputs": [],
   "source": [
    "# adding number of puzzles feature\n",
    "packs_df['num_puzzles'] = packs_df['pack_name'].map(lambda n: 1 if (n[-1] == ' ') else 2, na_action='ignore')"
   ]
  },
  {
   "cell_type": "code",
   "execution_count": 10,
   "id": "fd41b929",
   "metadata": {},
   "outputs": [],
   "source": [
    "# fixing datatype\n",
    "packs_df = packs_df.astype({'piece_count_1': 'int64', 'piece_count_2': 'int64'}, errors='ignore')"
   ]
  },
  {
   "cell_type": "code",
   "execution_count": 11,
   "id": "f85c15d1",
   "metadata": {},
   "outputs": [],
   "source": [
    "# dropping the initial variables\n",
    "packs_df.drop(['brand', 'piece_count', 'difficulty_rating'], axis=1, inplace=True)"
   ]
  },
  {
   "cell_type": "code",
   "execution_count": 12,
   "id": "16d622d8",
   "metadata": {},
   "outputs": [
    {
     "data": {
      "text/plain": [
       "pack_name                0\n",
       "piece_count_1            8\n",
       "piece_count_2          181\n",
       "difficulty_rating_1      4\n",
       "difficulty_rating_2      4\n",
       "brand_2                775\n",
       "brand_1                 25\n",
       "num_puzzles              0\n",
       "dtype: int64"
      ]
     },
     "execution_count": 12,
     "metadata": {},
     "output_type": "execute_result"
    }
   ],
   "source": [
    "packs_df.isnull().sum()"
   ]
  },
  {
   "cell_type": "code",
   "execution_count": 13,
   "id": "3f94fbef",
   "metadata": {},
   "outputs": [
    {
     "data": {
      "text/plain": [
       "(916, 8)"
      ]
     },
     "execution_count": 13,
     "metadata": {},
     "output_type": "execute_result"
    }
   ],
   "source": [
    "# Some rows straight up have nothing, drop these as there is nothing to be done\n",
    "packs_df.dropna(subset = ['difficulty_rating_1', 'difficulty_rating_2', 'piece_count_1', 'piece_count_2', \n",
    "                          'brand_1', 'brand_2'], how='all', inplace = True)\n",
    "packs_df.shape"
   ]
  },
  {
   "cell_type": "code",
   "execution_count": 14,
   "id": "15b61b65",
   "metadata": {},
   "outputs": [],
   "source": [
    "# making the brand_2 same as brand_1\n",
    "# ------ must be done only for puzzle = 2, right?\n",
    "packs_df.loc[(packs_df['brand_2'].isna()), 'brand_2'] = packs_df['brand_1']"
   ]
  },
  {
   "cell_type": "code",
   "execution_count": 15,
   "id": "e5cd081d",
   "metadata": {},
   "outputs": [],
   "source": [
    "packs_df[['brand_1', 'brand_2']] = packs_df[['brand_1', 'brand_2']].fillna('unknown')"
   ]
  },
  {
   "cell_type": "code",
   "execution_count": 16,
   "id": "ebb6c87d",
   "metadata": {},
   "outputs": [],
   "source": [
    "# Some 1 puzzle packs have a second number for pieces, this seems to be legit, updating to be 2 puzzle packs\n",
    "packs_df.loc[((packs_df.num_puzzles == 1) & (packs_df.piece_count_2.notna())), 'num_puzzles'] = 2"
   ]
  },
  {
   "cell_type": "code",
   "execution_count": 17,
   "id": "d5459e84",
   "metadata": {},
   "outputs": [],
   "source": [
    "packs_df.piece_count_1 = packs_df.piece_count_1.astype('float').astype('Int64')\n",
    "packs_df.piece_count_2 = packs_df.piece_count_2.astype('float').astype('Int64')\n",
    "\n",
    "avg_pc1 = packs_df['piece_count_1'].median()\n",
    "avg_pc2 = packs_df['piece_count_2'].median()"
   ]
  },
  {
   "cell_type": "code",
   "execution_count": 18,
   "id": "38e4c2e2",
   "metadata": {},
   "outputs": [],
   "source": [
    "# puzzles which have no value for piece_1 is replaced with avg values\n",
    "packs_df['piece_count_1'].fillna(avg_pc1, inplace=True)"
   ]
  },
  {
   "cell_type": "code",
   "execution_count": 19,
   "id": "a19a8ece",
   "metadata": {},
   "outputs": [],
   "source": [
    "# if 2 puzzles and second piececount is not available, replace with average\n",
    "packs_df.loc[((packs_df['piece_count_2'].isna() ) &(packs_df['num_puzzles'] ==2)), 'piece_count_2'] = int(avg_pc2)"
   ]
  },
  {
   "cell_type": "code",
   "execution_count": 20,
   "id": "10d2d338",
   "metadata": {},
   "outputs": [],
   "source": [
    "# puzzles with no second piece_count, make second piece count 0 \n",
    "# (because num_puzzle = 2 was dealt with earlier)\n",
    "packs_df.loc[(packs_df['piece_count_2'].isna()) & (packs_df['num_puzzles'] ==1), 'piece_count_2'] = int(0)"
   ]
  },
  {
   "cell_type": "code",
   "execution_count": 21,
   "id": "433f63ca",
   "metadata": {},
   "outputs": [
    {
     "data": {
      "text/plain": [
       "pack_name              0\n",
       "piece_count_1          0\n",
       "piece_count_2          0\n",
       "difficulty_rating_1    0\n",
       "difficulty_rating_2    0\n",
       "brand_2                0\n",
       "brand_1                0\n",
       "num_puzzles            0\n",
       "dtype: int64"
      ]
     },
     "execution_count": 21,
     "metadata": {},
     "output_type": "execute_result"
    }
   ],
   "source": [
    "packs_df.isnull().sum()"
   ]
  },
  {
   "cell_type": "markdown",
   "id": "dfb4cb56",
   "metadata": {},
   "source": [
    "### 1.3 Merged data"
   ]
  },
  {
   "cell_type": "code",
   "execution_count": 22,
   "id": "f95473b8",
   "metadata": {},
   "outputs": [
    {
     "data": {
      "text/html": [
       "<div>\n",
       "<style scoped>\n",
       "    .dataframe tbody tr th:only-of-type {\n",
       "        vertical-align: middle;\n",
       "    }\n",
       "\n",
       "    .dataframe tbody tr th {\n",
       "        vertical-align: top;\n",
       "    }\n",
       "\n",
       "    .dataframe thead th {\n",
       "        text-align: right;\n",
       "    }\n",
       "</style>\n",
       "<table border=\"1\" class=\"dataframe\">\n",
       "  <thead>\n",
       "    <tr style=\"text-align: right;\">\n",
       "      <th></th>\n",
       "      <th>memberID</th>\n",
       "      <th>holdtime</th>\n",
       "      <th>puzzlepack</th>\n",
       "      <th>pack_name</th>\n",
       "      <th>piece_count_1</th>\n",
       "      <th>piece_count_2</th>\n",
       "      <th>difficulty_rating_1</th>\n",
       "      <th>difficulty_rating_2</th>\n",
       "      <th>brand_2</th>\n",
       "      <th>brand_1</th>\n",
       "      <th>num_puzzles</th>\n",
       "    </tr>\n",
       "  </thead>\n",
       "  <tbody>\n",
       "    <tr>\n",
       "      <th>0</th>\n",
       "      <td>member1</td>\n",
       "      <td>2.939411</td>\n",
       "      <td>Artifact Puzzles Justin Hillgrove Word Travels...</td>\n",
       "      <td>Artifact Puzzles Justin Hillgrove Word Travels...</td>\n",
       "      <td>456</td>\n",
       "      <td>548</td>\n",
       "      <td>A-Easy</td>\n",
       "      <td>Average</td>\n",
       "      <td>Artifact</td>\n",
       "      <td>Artifact</td>\n",
       "      <td>2.0</td>\n",
       "    </tr>\n",
       "    <tr>\n",
       "      <th>1</th>\n",
       "      <td>member1</td>\n",
       "      <td>0.998885</td>\n",
       "      <td>DaVici Puzzles Full Moon Feast DaVici Puzzles ...</td>\n",
       "      <td>DaVici Puzzles Full Moon Feast DaVici Puzzles ...</td>\n",
       "      <td>195</td>\n",
       "      <td>220</td>\n",
       "      <td>A-Easy</td>\n",
       "      <td>Hard</td>\n",
       "      <td>DaVici</td>\n",
       "      <td>DaVici</td>\n",
       "      <td>2.0</td>\n",
       "    </tr>\n",
       "  </tbody>\n",
       "</table>\n",
       "</div>"
      ],
      "text/plain": [
       "  memberID  holdtime                                         puzzlepack  \\\n",
       "0  member1  2.939411  Artifact Puzzles Justin Hillgrove Word Travels...   \n",
       "1  member1  0.998885  DaVici Puzzles Full Moon Feast DaVici Puzzles ...   \n",
       "\n",
       "                                           pack_name  piece_count_1  \\\n",
       "0  Artifact Puzzles Justin Hillgrove Word Travels...            456   \n",
       "1  DaVici Puzzles Full Moon Feast DaVici Puzzles ...            195   \n",
       "\n",
       "   piece_count_2 difficulty_rating_1 difficulty_rating_2   brand_2   brand_1  \\\n",
       "0            548              A-Easy             Average  Artifact  Artifact   \n",
       "1            220              A-Easy                Hard    DaVici    DaVici   \n",
       "\n",
       "   num_puzzles  \n",
       "0          2.0  \n",
       "1          2.0  "
      ]
     },
     "execution_count": 22,
     "metadata": {},
     "output_type": "execute_result"
    }
   ],
   "source": [
    "df = member_holdtime_df.merge(packs_df, left_on='puzzlepack', right_on='pack_name', how='left')\n",
    "df.head(2)"
   ]
  },
  {
   "cell_type": "code",
   "execution_count": 23,
   "id": "6cb17d39",
   "metadata": {},
   "outputs": [
    {
     "data": {
      "text/plain": [
       "((19387, 11), (19387, 3))"
      ]
     },
     "execution_count": 23,
     "metadata": {},
     "output_type": "execute_result"
    }
   ],
   "source": [
    "df.shape, member_holdtime_df.shape"
   ]
  },
  {
   "cell_type": "code",
   "execution_count": 24,
   "id": "8d37f54e",
   "metadata": {},
   "outputs": [
    {
     "data": {
      "text/plain": [
       "(968, 916)"
      ]
     },
     "execution_count": 24,
     "metadata": {},
     "output_type": "execute_result"
    }
   ],
   "source": [
    "member_holdtime_df.puzzlepack.nunique(), packs_df.pack_name.nunique(), "
   ]
  },
  {
   "cell_type": "code",
   "execution_count": 25,
   "id": "53ea44ac",
   "metadata": {},
   "outputs": [
    {
     "data": {
      "text/plain": [
       "828"
      ]
     },
     "execution_count": 25,
     "metadata": {},
     "output_type": "execute_result"
    }
   ],
   "source": [
    "len(set(member_holdtime_df.puzzlepack.unique()).intersection(set(packs_df.pack_name.unique())))"
   ]
  },
  {
   "cell_type": "code",
   "execution_count": 26,
   "id": "11a58809",
   "metadata": {},
   "outputs": [
    {
     "data": {
      "text/plain": [
       "memberID                  0\n",
       "holdtime                  0\n",
       "puzzlepack                0\n",
       "pack_name              1086\n",
       "piece_count_1          1086\n",
       "piece_count_2          1086\n",
       "difficulty_rating_1    1086\n",
       "difficulty_rating_2    1086\n",
       "brand_2                1086\n",
       "brand_1                1086\n",
       "num_puzzles            1086\n",
       "dtype: int64"
      ]
     },
     "execution_count": 26,
     "metadata": {},
     "output_type": "execute_result"
    }
   ],
   "source": [
    "df.isnull().sum()\n",
    "# about 5% of the data is missing"
   ]
  },
  {
   "cell_type": "markdown",
   "id": "115a36c7",
   "metadata": {},
   "source": [
    "<div class=\"alert alert-block alert-info\">\n",
    "<b>Tip:</b> # Ideally we should have information about all the packs. Since we do not have this information and it is recommended that we do not drop these rows, we will impute these with the average values.\n",
    "</div>"
   ]
  },
  {
   "cell_type": "markdown",
   "id": "aa05a8a3",
   "metadata": {},
   "source": [
    "### 1.4 Dealing with Nulls!\n",
    "**Methodology**\n",
    "\n",
    "* num_puzzles --> Count number of times 'Puzzle' appears in puzzlepack\n",
    "* brand_1, brand_2 --> Take word before 'Puzzle' as brand name\n",
    "* difficulty_rating --> Take average at brand level from known data\n",
    "* piece_count --> Take average at brand level from known data"
   ]
  },
  {
   "cell_type": "code",
   "execution_count": 27,
   "id": "d7c0c333",
   "metadata": {},
   "outputs": [],
   "source": [
    "missing_pack_data = df.loc[df['pack_name'].isna()][['puzzlepack', 'piece_count_1', 'piece_count_2',\n",
    "                               'difficulty_rating_1', 'difficulty_rating_2', 'brand_1', \n",
    "                                'brand_2', 'num_puzzles']]\n",
    "missing_pack_data.reset_index(drop=True, inplace=True)"
   ]
  },
  {
   "cell_type": "code",
   "execution_count": 28,
   "id": "1282719e",
   "metadata": {},
   "outputs": [],
   "source": [
    "# getting number of puzzles\n",
    "missing_pack_data['num_puzzles'] = missing_pack_data['puzzlepack'].apply(lambda x: (x.count('Puzzles')))"
   ]
  },
  {
   "cell_type": "code",
   "execution_count": 29,
   "id": "57ca7af2",
   "metadata": {},
   "outputs": [],
   "source": [
    "# getting brand_1\n",
    "for i in range(0,len(missing_pack_data)):\n",
    "    words = missing_pack_data['puzzlepack'][i].split()[0:2] \n",
    "    if 'Puzzles' in words[1:]: #if its the second or third word\n",
    "        missing_pack_data['brand_1'][i] = words[words.index('Puzzles')-1]"
   ]
  },
  {
   "cell_type": "code",
   "execution_count": 30,
   "id": "7529e7eb",
   "metadata": {},
   "outputs": [],
   "source": [
    "# getting brand_2\n",
    "for i in range(0,len(missing_pack_data)):\n",
    "    words = missing_pack_data['puzzlepack'][i].split()[2:]\n",
    "    if 'Puzzles' in words[1:]: #if its the 4th word onwards\n",
    "        missing_pack_data['brand_2'][i] = words[words.index('Puzzles')-1]"
   ]
  },
  {
   "cell_type": "code",
   "execution_count": 31,
   "id": "44c2ab96",
   "metadata": {},
   "outputs": [
    {
     "data": {
      "text/plain": [
       "num_puzzles      0\n",
       "brand_1        139\n",
       "brand_2        333\n",
       "dtype: int64"
      ]
     },
     "execution_count": 31,
     "metadata": {},
     "output_type": "execute_result"
    }
   ],
   "source": [
    "missing_pack_data[['num_puzzles', 'brand_1', 'brand_2']].isnull().sum()"
   ]
  },
  {
   "cell_type": "code",
   "execution_count": 32,
   "id": "e14ac8a2",
   "metadata": {},
   "outputs": [],
   "source": [
    "# if anything still missing in num_puzzles, brands\n",
    "missing_pack_data['num_puzzles'].fillna(1, inplace=True)\n",
    "missing_pack_data['brand_1'].fillna('unknown', inplace=True)\n",
    "missing_pack_data['brand_2'].fillna('unknown', inplace=True)"
   ]
  },
  {
   "cell_type": "code",
   "execution_count": 33,
   "id": "dd163317",
   "metadata": {},
   "outputs": [],
   "source": [
    "# brand level average piece count values -- KNOWN data\n",
    "groupby_brand_pieces_1 = df.groupby(\"brand_1\")[\"piece_count_1\"].mean()\n",
    "groupby_brand_pieces_2 = df.groupby(\"brand_2\")[\"piece_count_2\"].mean()"
   ]
  },
  {
   "cell_type": "code",
   "execution_count": 34,
   "id": "424af44b",
   "metadata": {},
   "outputs": [],
   "source": [
    "# getting piece_count_1\n",
    "for i in range(0, len(missing_pack_data)):\n",
    "    try:\n",
    "        missing_pack_data['piece_count_1'][i] = int(groupby_brand_pieces_1[missing_pack_data['brand_1'][i]])\n",
    "        # getting piece_count_2 if needed\n",
    "        if missing_pack_data['num_puzzles'][i] == 1:\n",
    "            missing_pack_data['piece_count_2'][i] = 0\n",
    "        else:\n",
    "            missing_pack_data['piece_count_2'][i] = int(groupby_brand_pieces_2[missing_pack_data['brand_2'][i]])\n",
    "    except Exception as e:\n",
    "        pass\n",
    "#         print(e)"
   ]
  },
  {
   "cell_type": "code",
   "execution_count": 35,
   "id": "47c40d25",
   "metadata": {},
   "outputs": [],
   "source": [
    "# brand level most common difficulty values -- KNOWN data\n",
    "groupby_brand_diff_1 = df.groupby(\"brand_1\")[\"difficulty_rating_1\"].agg(pd.Series.mode)\n",
    "groupby_brand_diff_2 = df.groupby(\"brand_2\")[\"difficulty_rating_2\"].agg(pd.Series.mode)"
   ]
  },
  {
   "cell_type": "code",
   "execution_count": 36,
   "id": "dacfe152",
   "metadata": {},
   "outputs": [],
   "source": [
    "# getting difficulty_rating_1\n",
    "for i in range(0, len(missing_pack_data)):\n",
    "    try:\n",
    "        missing_pack_data['difficulty_rating_1'][i] = groupby_brand_diff_1[missing_pack_data['brand_1'][i]]\n",
    "        # getting difficulty_rating_2 if needed\n",
    "        if missing_pack_data['num_puzzles'][i] == 1:\n",
    "            missing_pack_data['difficulty_rating_2'][i] = 'not_applicable'\n",
    "        else:\n",
    "            missing_pack_data['difficulty_rating_2'][i] = (groupby_brand_diff_2[missing_pack_data['brand_2'][i]])\n",
    "    except Exception as e:\n",
    "        pass"
   ]
  },
  {
   "cell_type": "code",
   "execution_count": 37,
   "id": "b3b77e7f",
   "metadata": {},
   "outputs": [],
   "source": [
    "# if anything still missing in piece_count, difficulty_rating\n",
    "# fill it with global average"
   ]
  },
  {
   "cell_type": "code",
   "execution_count": 38,
   "id": "edeef37f",
   "metadata": {},
   "outputs": [
    {
     "data": {
      "text/plain": [
       "puzzlepack               0\n",
       "piece_count_1          150\n",
       "piece_count_2          217\n",
       "difficulty_rating_1    150\n",
       "difficulty_rating_2    217\n",
       "brand_1                  0\n",
       "brand_2                  0\n",
       "num_puzzles              0\n",
       "dtype: int64"
      ]
     },
     "execution_count": 38,
     "metadata": {},
     "output_type": "execute_result"
    }
   ],
   "source": [
    "missing_pack_data.isnull().sum()"
   ]
  },
  {
   "cell_type": "code",
   "execution_count": 39,
   "id": "e7f875a9",
   "metadata": {},
   "outputs": [],
   "source": [
    "global_mean_pc_1 = int(df['piece_count_1'].mean())\n",
    "global_mean_pc_2 = int(df['piece_count_2'].mean())\n",
    "global_mode_df_1 = df['difficulty_rating_1'].mode()\n",
    "global_mode_df_2 = df['difficulty_rating_2'].mode()"
   ]
  },
  {
   "cell_type": "code",
   "execution_count": 40,
   "id": "c18c9e16",
   "metadata": {},
   "outputs": [],
   "source": [
    "missing_pack_data['piece_count_1'].fillna(global_mean_pc_1, inplace=True)\n",
    "missing_pack_data['piece_count_2'].fillna(global_mean_pc_2, inplace=True)\n",
    "\n",
    "missing_pack_data['difficulty_rating_1'].fillna('global_mode_df_1', inplace=True)\n",
    "missing_pack_data['difficulty_rating_2'].fillna('global_mode_df_2', inplace=True)"
   ]
  },
  {
   "cell_type": "markdown",
   "id": "a0c1be0f",
   "metadata": {},
   "source": [
    "### Making a final packs data"
   ]
  },
  {
   "cell_type": "code",
   "execution_count": 41,
   "id": "c12eb596",
   "metadata": {},
   "outputs": [],
   "source": [
    "packs_df = packs_df[['pack_name', 'piece_count_1', 'piece_count_2', 'difficulty_rating_1', \n",
    "                             'difficulty_rating_2', 'brand_1', 'brand_2', 'num_puzzles']]"
   ]
  },
  {
   "cell_type": "code",
   "execution_count": 42,
   "id": "54ca2cc3",
   "metadata": {},
   "outputs": [],
   "source": [
    "missing_pack_data = missing_pack_data.rename(columns = {'puzzlepack':'pack_name'})"
   ]
  },
  {
   "cell_type": "code",
   "execution_count": 209,
   "id": "825f5172",
   "metadata": {},
   "outputs": [
    {
     "data": {
      "text/plain": [
       "0"
      ]
     },
     "execution_count": 209,
     "metadata": {},
     "output_type": "execute_result"
    }
   ],
   "source": [
    "len(set(missing_pack_data.pack_name.unique()).intersection(set(packs_df.pack_name.unique())))"
   ]
  },
  {
   "cell_type": "code",
   "execution_count": 43,
   "id": "10f53433",
   "metadata": {},
   "outputs": [],
   "source": [
    "packs_updated = pd.concat([packs_df, missing_pack_data])"
   ]
  },
  {
   "cell_type": "code",
   "execution_count": 49,
   "id": "911bf569",
   "metadata": {},
   "outputs": [
    {
     "data": {
      "text/html": [
       "<div>\n",
       "<style scoped>\n",
       "    .dataframe tbody tr th:only-of-type {\n",
       "        vertical-align: middle;\n",
       "    }\n",
       "\n",
       "    .dataframe tbody tr th {\n",
       "        vertical-align: top;\n",
       "    }\n",
       "\n",
       "    .dataframe thead th {\n",
       "        text-align: right;\n",
       "    }\n",
       "</style>\n",
       "<table border=\"1\" class=\"dataframe\">\n",
       "  <thead>\n",
       "    <tr style=\"text-align: right;\">\n",
       "      <th></th>\n",
       "      <th>memberID</th>\n",
       "      <th>holdtime</th>\n",
       "      <th>puzzlepack</th>\n",
       "      <th>pack_name</th>\n",
       "      <th>piece_count_1</th>\n",
       "      <th>piece_count_2</th>\n",
       "      <th>difficulty_rating_1</th>\n",
       "      <th>difficulty_rating_2</th>\n",
       "      <th>brand_1</th>\n",
       "      <th>brand_2</th>\n",
       "      <th>num_puzzles</th>\n",
       "    </tr>\n",
       "  </thead>\n",
       "  <tbody>\n",
       "    <tr>\n",
       "      <th>0</th>\n",
       "      <td>member1</td>\n",
       "      <td>2.939411</td>\n",
       "      <td>Artifact Puzzles Justin Hillgrove Word Travels...</td>\n",
       "      <td>Artifact Puzzles Justin Hillgrove Word Travels...</td>\n",
       "      <td>456</td>\n",
       "      <td>548</td>\n",
       "      <td>A-Easy</td>\n",
       "      <td>Average</td>\n",
       "      <td>Artifact</td>\n",
       "      <td>Artifact</td>\n",
       "      <td>2</td>\n",
       "    </tr>\n",
       "    <tr>\n",
       "      <th>1</th>\n",
       "      <td>member1</td>\n",
       "      <td>0.998885</td>\n",
       "      <td>DaVici Puzzles Full Moon Feast DaVici Puzzles ...</td>\n",
       "      <td>DaVici Puzzles Full Moon Feast DaVici Puzzles ...</td>\n",
       "      <td>195</td>\n",
       "      <td>220</td>\n",
       "      <td>A-Easy</td>\n",
       "      <td>Hard</td>\n",
       "      <td>DaVici</td>\n",
       "      <td>DaVici</td>\n",
       "      <td>2</td>\n",
       "    </tr>\n",
       "  </tbody>\n",
       "</table>\n",
       "</div>"
      ],
      "text/plain": [
       "  memberID  holdtime                                         puzzlepack  \\\n",
       "0  member1  2.939411  Artifact Puzzles Justin Hillgrove Word Travels...   \n",
       "1  member1  0.998885  DaVici Puzzles Full Moon Feast DaVici Puzzles ...   \n",
       "\n",
       "                                           pack_name  piece_count_1  \\\n",
       "0  Artifact Puzzles Justin Hillgrove Word Travels...            456   \n",
       "1  DaVici Puzzles Full Moon Feast DaVici Puzzles ...            195   \n",
       "\n",
       "   piece_count_2 difficulty_rating_1 difficulty_rating_2   brand_1   brand_2  \\\n",
       "0            548              A-Easy             Average  Artifact  Artifact   \n",
       "1            220              A-Easy                Hard    DaVici    DaVici   \n",
       "\n",
       "   num_puzzles  \n",
       "0            2  \n",
       "1            2  "
      ]
     },
     "execution_count": 49,
     "metadata": {},
     "output_type": "execute_result"
    }
   ],
   "source": [
    "df_cleaned = member_holdtime_df.merge(packs_updated, left_on='puzzlepack', right_on='pack_name', how='left')\n",
    "df_cleaned.head(2)"
   ]
  },
  {
   "cell_type": "code",
   "execution_count": 50,
   "id": "cc5474df",
   "metadata": {},
   "outputs": [
    {
     "data": {
      "text/plain": [
       "memberID               0\n",
       "holdtime               0\n",
       "puzzlepack             0\n",
       "pack_name              0\n",
       "piece_count_1          0\n",
       "piece_count_2          0\n",
       "difficulty_rating_1    0\n",
       "difficulty_rating_2    0\n",
       "brand_1                0\n",
       "brand_2                0\n",
       "num_puzzles            0\n",
       "dtype: int64"
      ]
     },
     "execution_count": 50,
     "metadata": {},
     "output_type": "execute_result"
    }
   ],
   "source": [
    "df_cleaned.isnull().sum()"
   ]
  },
  {
   "cell_type": "code",
   "execution_count": 51,
   "id": "9ee3fe99",
   "metadata": {},
   "outputs": [
    {
     "data": {
      "text/plain": [
       "((33817, 11), (19387, 11), (19387, 3))"
      ]
     },
     "execution_count": 51,
     "metadata": {},
     "output_type": "execute_result"
    }
   ],
   "source": [
    "df_cleaned.shape, df.shape, member_holdtime_df.shape"
   ]
  },
  {
   "cell_type": "code",
   "execution_count": null,
   "id": "9282c412",
   "metadata": {},
   "outputs": [],
   "source": []
  }
 ],
 "metadata": {
  "kernelspec": {
   "display_name": "Python 3",
   "language": "python",
   "name": "python3"
  },
  "language_info": {
   "codemirror_mode": {
    "name": "ipython",
    "version": 3
   },
   "file_extension": ".py",
   "mimetype": "text/x-python",
   "name": "python",
   "nbconvert_exporter": "python",
   "pygments_lexer": "ipython3",
   "version": "3.8.8"
  }
 },
 "nbformat": 4,
 "nbformat_minor": 5
}
